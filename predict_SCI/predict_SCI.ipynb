{
 "cells": [
  {
   "cell_type": "markdown",
   "metadata": {
    "id": "qGJTmIKu07bg"
   },
   "source": [
    "# Importing modules"
   ]
  },
  {
   "cell_type": "code",
   "execution_count": 1,
   "metadata": {
    "id": "84KVx-aT0x9r"
   },
   "outputs": [
    {
     "data": {
      "application/javascript": [
       "{ \n",
       "        'use strict';\n",
       "        \n",
       "        const href = \"https://cdn.datatables.net/v/dt/dt-1.10.18/af-2.3.3/b-1.5.6/b-colvis-1.5.6/b-flash-1.5.6/b-html5-1.5.6/b-print-1.5.6/cr-1.5.0/fc-3.2.5/fh-3.1.4/kt-2.5.0/r-2.2.2/rg-1.1.0/rr-1.2.4/sc-2.0.0/sl-1.3.0/datatables.min.css\";\n",
       "        const attributes = {'id': 'datatables.min.css'} || {};\n",
       "\n",
       "        if ( !$(`link[href*=\"${href}\"]`).length ) {\n",
       "            let link = document.createElement(\"link\");\n",
       "\n",
       "            link.rel = \"stylesheet\";\n",
       "            link.type = \"text/css\";\n",
       "            try {\n",
       "                link.href = requirejs.toUrl(href, 'css');\n",
       "            } catch (error) {\n",
       "                link.href = href;\n",
       "            }\n",
       "            \n",
       "            Object.entries(attributes)\n",
       "                .forEach( ([attr, val]) => $(link).attr(attr, val) );\n",
       "            \n",
       "            document.head.appendChild(link);\n",
       "        }\n",
       "     }"
      ],
      "text/plain": [
       "<JupyterRequire.display.SafeScript object>"
      ]
     },
     "metadata": {
      "finalized": true
     },
     "output_type": "display_data"
    },
    {
     "data": {
      "application/javascript": [
       "{ \n",
       "        'use strict'\n",
       "        \n",
       "        const style = `.dt-button.is-disabled{background-color:#fff;border-color:#dbdbdb;box-shadow:none;opacity:.5;cursor:not-allowed;pointer-events:none}.dt-chart-toolbar{text-align:left}.dt-chart-settings-container{background-color:#fff;border-bottom-left-radius:6px;border-bottom-right-radius:6px;border-top:2px solid #dbdbdb;box-shadow:0 8px 8px rgba(10,10,10,.1);font-size:.875rem;position:absolute;z-index:20}.dt-chart-settings{font-family:BlinkMacSystemFont,-apple-system,\"Segoe UI\",Roboto,Oxygen,Ubuntu,Cantarell,\"Fira Sans\",\"Droid Sans\",\"Helvetica Neue\",Helvetica,Arial,sans-serif;font-size:1.10rem}.dt-chart-menu-label:first-child{margin-top:5px;margin-left:5px;font-size:.85em}table.dataTable{border-collapse:separate !important;border-spacing:0;clear:both;table-layout:auto !important}table.dataTable thead th,table.dataTable thead td{padding:10px 18px;border-bottom:thin solid #ddd}table.dataTable td.column-data-preview{padding:11px 7px}.dataTables_scrollBody{z-index:auto}.dataTables_scrollBody thead:not(.data-preview){visibility:collapse}.dataTables_wrapper.no-footer .dataTables_scrollBody{padding-bottom:20px;border-bottom:0}.dataTables_wrapper.no-footer div.dataTables_scrollBody>table{border-top:thin solid #ddd;border-bottom:thin solid #ddd}.dataTables_wrapper input{display:inline-block;padding:.375rem .75rem;height:calc(2.75rem + 5px);line-height:1.5;color:#495057;background-color:#fff;background-clip:padding-box;border:thin solid #ced4da;border-radius:.25rem;transition:border-color .15s ease-in-out,box-shadow .15s ease-in-out}.dataTables_wrapper label{margin-right:0 !important;margin-bottom:11px;box-sizing:border-box;white-space:nowrap}.dataTables_wrapper select{display:inline-block;padding:.375rem 2.75rem .375rem 1.75rem;height:calc(2.75rem + 5px);line-height:1.5;vertical-align:middle;background:#fff url(\"data:image/svg+xml;charset=utf8,%3Csvgxmlns='http://www.w3.org/2000/svg'viewBox='0045'%3E%3Cpathfill='%23343a40'd='M20L02h4zm05L03h4z'/%3E%3C/svg%3E\") no-repeat right .75rem center;background-size:auto 11px;border:thin solid #ced4da;border-radius:.25rem;-webkit-appearance:none;-moz-appearance:none}.dataTables_wrapper select.dtype{padding:0 1.75rem;font-size:9px;height:calc(1.25rem + 5px);background:#ffdd57;color:rgba(0,0,0,.7);border:0;border-radius:.25rem;text-transform:uppercase}`;\n",
       "        const attributes = {'id': 'jupyter-datatables-css'} || {};\n",
       "        \n",
       "        let id = attributes.id;\n",
       "        let elem_exists = id ? $(`style#${id}`).length > 0 : false;\n",
       "        \n",
       "        let e = elem_exists ? document.querySelector(`style#${id}`)\n",
       "                            : document.createElement(\"style\");\n",
       "        \n",
       "        $(e).text(`${style}`).attr('type', 'text/css');\n",
       "        \n",
       "        Object.entries(attributes)\n",
       "            .forEach( ([attr, val]) => $(e).attr(attr, val) );\n",
       "\n",
       "        if (!elem_exists) document.head.appendChild(e);\n",
       "     }"
      ],
      "text/plain": [
       "<JupyterRequire.display.SafeScript object>"
      ]
     },
     "metadata": {
      "finalized": true
     },
     "output_type": "display_data"
    },
    {
     "data": {
      "application/javascript": [
       "{ \n",
       "        'use strict';\n",
       "    \n",
       "        const script = `define('dt-config', ['underscore', 'moment'], function (_, moment) {\n",
       "\n",
       "  let mapDType = (dtypes, target) => _.object(_.zip(dtypes, new Array(dtypes.length).fill(target)))\n",
       "\n",
       "  $.fn.dataTable.defaults.dateDisplayFormat = 'YYYYMMDD'\n",
       "  $.fn.dataTable.defaults.formatDate = (t, format) => moment(t, format || $.fn.dataTable.defaults.dateDisplayFormat)\n",
       "\n",
       "  $.fn.dataTable.defaults.dTypeMap = {\n",
       "    ...mapDType(['int8', 'int16', 'int32', 'int64', 'float8', 'float16', 'float32', 'float64'], 'num'),\n",
       "    ...mapDType(['datetime8[ns]', 'datetime16[ns]', 'datetime32[ns]', 'datetime64[ns]'], 'date'),\n",
       "    ...mapDType(['timedelta8[ns]', 'timedelta16[ns]', 'timedelta32[ns]', 'timedelta64[ns]'], 'string'), // TODO: Custom type \\`timedelta\\`\n",
       "    ...mapDType(['object', 'string'], 'string'),\n",
       "    ...mapDType(['bool'], 'boolean'),\n",
       "    ...mapDType(['default'], 'num')\n",
       "  }\n",
       "\n",
       "  $.fn.dataTable.defaults.chartMap = {\n",
       "    boolean: ['CategoricalBar', 'Histogram'],\n",
       "    date: ['CategoricalBar', 'Histogram'],\n",
       "    num: ['Histogram', 'CategoricalBar', 'Bar', 'Line'],\n",
       "    string: ['CategoricalBar'],\n",
       "\n",
       "    undefined: ['Bar']\n",
       "  }\n",
       "\n",
       "  return $.fn.dataTable.defaults\n",
       "})\n",
       "`;\n",
       "        const attributes = {'id': 'dt-config-js'} || {};\n",
       "        \n",
       "        let id = attributes.id;\n",
       "        let elem_exists = id ? $(`script#${id}`).length > 0 : false;\n",
       "        \n",
       "        let e = elem_exists ? document.querySelector(`script#${id}`)\n",
       "                            : document.createElement(\"script\");\n",
       "        \n",
       "        $(e).text(`${script}`).attr('type', 'text/javascript');\n",
       "        \n",
       "        Object.entries(attributes)\n",
       "            .forEach( ([attr, val]) => $(e).attr(attr, val) );\n",
       "\n",
       "        if (!elem_exists) document.head.appendChild(e);\n",
       "     }"
      ],
      "text/plain": [
       "<JupyterRequire.display.SafeScript object>"
      ]
     },
     "metadata": {
      "finalized": true
     },
     "output_type": "display_data"
    },
    {
     "data": {
      "application/javascript": [
       "{ \n",
       "        'use strict';\n",
       "    \n",
       "        const script = `/**\n",
       " * Jupyter DataTables\n",
       " *\n",
       " * @module\n",
       " * @summary     Jupyter DataTables\n",
       " * @description Jupyter interactive pandas DataFrame representation leveraging pandas, DataTables and ChartJS.\n",
       " * @file        components.js\n",
       " * @author      Marek Cermak\n",
       " * @contact     macermak@redhat.com\n",
       " * @copyright   Copyright 2019 Marek Cermak <macermak@redhat.com>\n",
       " *\n",
       " * This source file is free software, available under the following license:\n",
       " *   MIT license\n",
       " *\n",
       " * This source file is distributed in the hope that it will be useful, but\n",
       " * WITHOUT ANY WARRANTY; without even the implied warranty of MERCHANTABILITY\n",
       " * or FITNESS FOR A PARTICULAR PURPOSE. See the license files for details.\n",
       " *\n",
       " * For details please refer to: https://github.com/CermakM/jupyter-datatables\n",
       " */\n",
       "\n",
       "define('dt-components', ['underscore'], function (_) {\n",
       "\n",
       "  _.templateSettings = {\n",
       "    escape: /\\{\\{%-([\\s\\S]+?)%\\}\\}/g,\n",
       "    evaluate: /\\{\\{%([\\s\\S]+?)%\\}\\}/g,\n",
       "    interpolate: /\\{\\{(.+?)\\}\\}/g\n",
       "  }\n",
       "\n",
       "\n",
       "  class DTContainer extends HTMLDivElement {\n",
       "    constructor() {\n",
       "      super()\n",
       "\n",
       "      this.attachShadow({ mode: 'open' })\n",
       "\n",
       "      // Bulma CSS\n",
       "      const bulmaStyle = document.createElement('style')\n",
       "      bulmaStyle.textContent = '@import url(https://cdnjs.cloudflare.com/ajax/libs/bulma/0.7.5/css/bulma.min.css);'\n",
       "\n",
       "      this.shadowRoot.appendChild(bulmaStyle)\n",
       "\n",
       "      // Jupyter DataTables CSS\n",
       "      $(this.shadowRoot).append($('style#jupyter-datatables-css').clone())\n",
       "\n",
       "      // classes\n",
       "      this.classList.add('dt-container')\n",
       "    }\n",
       "\n",
       "    connectedCallback() {\n",
       "      // FontAwesome icons\n",
       "      const fas = document.querySelector('link[href*=\"fontawesome\"]')\n",
       "\n",
       "      if (fas) {\n",
       "        this.shadowRoot.appendChild(fas.cloneNode())\n",
       "      }\n",
       "    }\n",
       "\n",
       "    append(e) {\n",
       "      this.shadowRoot.append(e)\n",
       "    }\n",
       "\n",
       "    appendChild(node) {\n",
       "      this.shadowRoot.appendChild(node)\n",
       "    }\n",
       "  }\n",
       "\n",
       "\n",
       "  class DTChartList extends HTMLUListElement {\n",
       "    constructor() {\n",
       "      super()\n",
       "\n",
       "      for (const chartName in $.fn.dataTable.defaults.graphObjects) {\n",
       "        const li = document.createElement('li')\n",
       "        const a = document.createElement('a')\n",
       "\n",
       "        a.setAttribute('role', 'button')\n",
       "        a.setAttribute('aria-disabled', false)\n",
       "        a.setAttribute('aria-pressed', false)\n",
       "\n",
       "        a.setAttribute('data-chart_name', chartName)\n",
       "        a.setAttribute('data-label', 'button-chart-type')\n",
       "\n",
       "        a.style = 'text-transform: capitalize'\n",
       "        a.textContent = \\`\\${chartName} chart\\`\n",
       "\n",
       "        a.classList.add('dt-button')\n",
       "        a.classList.add('dt-chart-type')\n",
       "\n",
       "        li.appendChild(a)\n",
       "\n",
       "        this.appendChild(li)\n",
       "      }\n",
       "\n",
       "      this.classList.add('menu-list')\n",
       "      this.classList.add('dt-chart-list')\n",
       "    }\n",
       "  }\n",
       "\n",
       "  customElements.define('dt-container', DTContainer, { extends: 'div' })\n",
       "  customElements.define('dt-chart-list', DTChartList, { extends: 'ul' })\n",
       "\n",
       "\n",
       "  /* Templates */\n",
       "\n",
       "  const DTSettingsButtonComponentTemplate = _.template(\\`\n",
       "    <div class=\"button is-small dt-chart-settings-button\">\n",
       "        <figure class=\"bd-link-figure\">\n",
       "            <span class=\"icon\">\n",
       "                <i class=\"fas fa-ellipsis-v\"></i>\n",
       "            </span>\n",
       "\n",
       "        </figure>\n",
       "    </div>\n",
       "  \\`)\n",
       "\n",
       "  const DTSettingsComponentTemplate = _.template(\\`\n",
       "    <div class=\"menu dt-chart-settings\">\n",
       "        <p class=\"menu-label dt-chart-menu-label\">Charts</p>\n",
       "        <ul class=\"menu-list\">\n",
       "            <li>\n",
       "                <a>Kind</a>\n",
       "                <ul is=\"dt-chart-list\"></ul>\n",
       "            </li>\n",
       "        </ul>\n",
       "    </div>\n",
       "  \\`)\n",
       "\n",
       "  let createElementFromTemplate = function (template, context) {\n",
       "    let tmp = document.implementation.createHTMLDocument()\n",
       "    tmp.body.innerHTML = template(context)\n",
       "\n",
       "    return tmp.body.children[0]\n",
       "  }\n",
       "\n",
       "\n",
       "  return {\n",
       "    createElementFromTemplate: createElementFromTemplate,\n",
       "\n",
       "    DTChartList: DTChartList,\n",
       "    DTContainer: DTContainer,\n",
       "\n",
       "    templates: {\n",
       "      DTSettingsButtonComponentTemplate: DTSettingsButtonComponentTemplate,\n",
       "      DTSettingsComponentTemplate: DTSettingsComponentTemplate,\n",
       "    }\n",
       "  }\n",
       "})\n",
       "`;\n",
       "        const attributes = {'id': 'dt-components-js'} || {};\n",
       "        \n",
       "        let id = attributes.id;\n",
       "        let elem_exists = id ? $(`script#${id}`).length > 0 : false;\n",
       "        \n",
       "        let e = elem_exists ? document.querySelector(`script#${id}`)\n",
       "                            : document.createElement(\"script\");\n",
       "        \n",
       "        $(e).text(`${script}`).attr('type', 'text/javascript');\n",
       "        \n",
       "        Object.entries(attributes)\n",
       "            .forEach( ([attr, val]) => $(e).attr(attr, val) );\n",
       "\n",
       "        if (!elem_exists) document.head.appendChild(e);\n",
       "     }"
      ],
      "text/plain": [
       "<JupyterRequire.display.SafeScript object>"
      ]
     },
     "metadata": {
      "finalized": true
     },
     "output_type": "display_data"
    },
    {
     "data": {
      "application/javascript": [
       "{ \n",
       "        'use strict';\n",
       "    \n",
       "        const script = `/**\n",
       " * Jupyter DataTables\n",
       " *\n",
       " * @module\n",
       " * @summary     Jupyter DataTables\n",
       " * @description Jupyter interactive pandas DataFrame representation leveraging pandas, DataTables and ChartJS.\n",
       " * @file        graph-objects.js\n",
       " * @author      Marek Cermak\n",
       " * @contact     macermak@redhat.com\n",
       " * @copyright   Copyright 2019 Marek Cermak <macermak@redhat.com>\n",
       " *\n",
       " * This source file is free software, available under the following license:\n",
       " *   MIT license\n",
       " *\n",
       " * This source file is distributed in the hope that it will be useful, but\n",
       " * WITHOUT ANY WARRANTY; without even the implied warranty of MERCHANTABILITY\n",
       " * or FITNESS FOR A PARTICULAR PURPOSE. See the license files for details.\n",
       " *\n",
       " * For details please refer to: https://github.com/CermakM/jupyter-datatables\n",
       " */\n",
       "\n",
       "define('dt-graph-objects', ['moment', 'chartjs'], function (moment, chartjs) {\n",
       "  const d3 = Object.assign({}, require('d3'), require('d3-array')) // extend the d3 with d3-array\n",
       "\n",
       "  Chart.defaults.scale.gridLines.display = false\n",
       "\n",
       "  const layout = Chart.defaults.global.layout\n",
       "\n",
       "  layout.width = '167.5px'\n",
       "  layout.margin = 'auto'\n",
       "  layout.padding = { left: 2, right: 2, top: 5, bottom: 5 }\n",
       "\n",
       "  let Line = function (data, index, dtype) {\n",
       "    this.name = 'Line'\n",
       "\n",
       "    if (_.isUndefined(index)) {\n",
       "      index = [{\n",
       "        data: d3.range(0, data.length),\n",
       "        dtype: 'num',\n",
       "        level: 0\n",
       "      }]\n",
       "    }\n",
       "\n",
       "    index = index[0] // TODO: Handle multi-index\n",
       "\n",
       "    let labels = index.data\n",
       "\n",
       "    if (index.dtype === 'date') {\n",
       "      labels = labels.map(d => moment(d))\n",
       "    }\n",
       "\n",
       "    console.debug('Line plot data: ', data, 'labels: ', labels)\n",
       "\n",
       "    let canvas = $('<canvas>')\n",
       "      .attr('width', layout.width)\n",
       "      .css('margin', layout.margin)\n",
       "\n",
       "    let ctx = canvas.get(0).getContext('2d')\n",
       "\n",
       "    let chart = new Chart(ctx, {\n",
       "      type: 'line',\n",
       "      data: {\n",
       "        labels: labels,\n",
       "        datasets: [{\n",
       "          data: data,\n",
       "          backgroundColor: 'rgb(255, 99, 132, 0.6)',\n",
       "          borderColor: 'rgb(255, 99, 132)',\n",
       "          borderWidth: 1\n",
       "        }]\n",
       "      },\n",
       "      options: {\n",
       "        legend: {\n",
       "          display: false\n",
       "        },\n",
       "        scales: {\n",
       "          xAxes: [{\n",
       "            ...(index.dtype === 'date' ? { type: 'time' } : {}),\n",
       "            display: false\n",
       "          }],\n",
       "          yAxes: [{\n",
       "            display: false,\n",
       "            ticks: {\n",
       "              beginAtZero: true\n",
       "            }\n",
       "          }]\n",
       "        },\n",
       "        responsive: false\n",
       "      }\n",
       "    })\n",
       "\n",
       "    return chart\n",
       "  }\n",
       "\n",
       "  let Scatter = function (data, index, dtype) {\n",
       "    this.name = 'Scatter'\n",
       "\n",
       "    if (_.isUndefined(index)) {\n",
       "      index = [{\n",
       "        data: d3.range(0, data.length),\n",
       "        dtype: 'num',\n",
       "        level: 0\n",
       "      }]\n",
       "    }\n",
       "\n",
       "    index = index[0] // TODO: Handle multi-index\n",
       "\n",
       "    data = data.map((d, i) => {\n",
       "      return {\n",
       "        x: index.data[i],\n",
       "        y: d\n",
       "      }\n",
       "    })\n",
       "\n",
       "    console.debug('Scatter plot data: ', data)\n",
       "\n",
       "    let canvas = $('<canvas>')\n",
       "      .attr('width', layout.width)\n",
       "      .css('margin', layout.margin)\n",
       "\n",
       "    let ctx = canvas.get(0).getContext('2d')\n",
       "\n",
       "    let chart = new Chart(ctx, {\n",
       "      type: 'scatter',\n",
       "      data: {\n",
       "        datasets: [{\n",
       "          data: data,\n",
       "          backgroundColor: 'rgb(255, 99, 132, 0.6)',\n",
       "          borderColor: 'rgb(255, 99, 132)',\n",
       "          borderWidth: 1\n",
       "        }]\n",
       "      },\n",
       "      options: {\n",
       "        legend: {\n",
       "          display: false\n",
       "        },\n",
       "        scales: {\n",
       "          xAxes: [{\n",
       "            ...(index.dtype === 'date' ? { type: 'time' } : {}),\n",
       "            display: false\n",
       "          }],\n",
       "          yAxes: [{\n",
       "            display: false,\n",
       "            ticks: {\n",
       "              beginAtZero: true\n",
       "            }\n",
       "          }]\n",
       "        },\n",
       "        responsive: false\n",
       "      }\n",
       "    })\n",
       "\n",
       "    return chart\n",
       "  }\n",
       "\n",
       "  let Bar = function (data, index, dtype) {\n",
       "    this.name = 'Bar'\n",
       "\n",
       "    if (_.isUndefined(index)) {\n",
       "      index = [{\n",
       "        data: d3.range(0, data.length),\n",
       "        dtype: 'num',\n",
       "        level: 0\n",
       "      }]\n",
       "    }\n",
       "\n",
       "    index = index[0] // TODO: Handle multi-index\n",
       "\n",
       "    let labels = index.data\n",
       "\n",
       "    if (index.dtype === 'date') {\n",
       "      labels = labels.map(d => $.fn.dataTable.defaults.formatDate(d))\n",
       "    }\n",
       "\n",
       "    console.debug('Bar plot data: ', data, 'labels: ', labels)\n",
       "\n",
       "    let canvas = $('<canvas>')\n",
       "      .attr('width', layout.width)\n",
       "      .css('margin', layout.margin)\n",
       "\n",
       "    let ctx = canvas.get(0).getContext('2d')\n",
       "\n",
       "    let chart = new Chart(ctx, {\n",
       "      type: 'bar',\n",
       "      data: {\n",
       "        labels: labels,\n",
       "        datasets: [{\n",
       "          data: data,\n",
       "          backgroundColor: 'rgb(255, 99, 132)',\n",
       "          borderColor: 'rgb(255, 99, 132)',\n",
       "          borderWidth: 1\n",
       "        }]\n",
       "      },\n",
       "      options: {\n",
       "        legend: {\n",
       "          display: false\n",
       "        },\n",
       "        scales: {\n",
       "          xAxes: [{\n",
       "            ...(index.dtype === 'date' ? { type: 'time' } : {}),\n",
       "            display: false\n",
       "          }],\n",
       "          yAxes: [{\n",
       "            display: false,\n",
       "            ticks: {\n",
       "              beginAtZero: true\n",
       "            }\n",
       "          }]\n",
       "        },\n",
       "        responsive: false\n",
       "      }\n",
       "    })\n",
       "\n",
       "    return chart\n",
       "  }\n",
       "\n",
       "  let CategoricalBar = function (data, index, dtype) {\n",
       "    this.name = 'CategoricalBar'\n",
       "\n",
       "    const grouped = d3.nest()\n",
       "      .key(d => d)\n",
       "      .rollup(d => d.length)\n",
       "      .entries(data)\n",
       "\n",
       "    const values = grouped.map(d => d.value)\n",
       "    const labels = grouped.map(d => d.key)\n",
       "\n",
       "    index = [{ level: 0, data: labels, dtype: dtype }]\n",
       "    const chart = Bar(values, index, 'num')\n",
       "\n",
       "    // point mapping\n",
       "    chart.mapDataPoint = (p) => labels.indexOf(p.value)\n",
       "\n",
       "    return chart\n",
       "  }\n",
       "\n",
       "  let histBinFreedman = function (a) {\n",
       "    return 2 * (d3.quantile(a, 0.75) - d3.quantile(a, 0.25)) * Math.pow(a.length, -1 / 3)\n",
       "  }\n",
       "\n",
       "  let histBinSturges = function (a) {\n",
       "    return (a[a.length - 1] - a[0]) / (Math.log2(a.length) + 1)\n",
       "  }\n",
       "\n",
       "  let histBinAuto = function (a) {\n",
       "    const binWidthFreedman = histBinFreedman(a)\n",
       "    const binWidthSturges = histBinSturges(a)\n",
       "\n",
       "    return binWidthFreedman ? Math.min(binWidthFreedman, binWidthSturges) : binWidthSturges\n",
       "  }\n",
       "\n",
       "  let Histogram = function (data, index, dtype) {\n",
       "    this.name = 'Histogram'\n",
       "\n",
       "    // map to the Number data type and sort\n",
       "    data = Array.prototype.map.call(data, Number).sort(d3.ascending)\n",
       "\n",
       "    console.debug('Histogram data: ', data)\n",
       "\n",
       "    // automatically determine optimal number of bins\n",
       "    const nBins = Math.ceil((data[data.length - 1] - data[0]) / histBinAuto(data))\n",
       "\n",
       "    console.debug('Estimated number of bins: ', nBins)\n",
       "\n",
       "    let xScale = d3.scaleLinear()\n",
       "      .domain(d3.extent(data))\n",
       "      .nice()\n",
       "\n",
       "    let hist = d3.histogram()\n",
       "      .domain(xScale.domain())\n",
       "      .thresholds(xScale.ticks(nBins))\n",
       "\n",
       "    let bins = hist(data)\n",
       "\n",
       "    const histogramData = bins.map((d) => d.length)\n",
       "    const histogramLabels = bins.map((d) => d.x0)\n",
       "\n",
       "    index = [{ level: 0, data: histogramLabels, dtype: dtype }]\n",
       "\n",
       "    const chart = Bar(histogramData, index, 'num')\n",
       "\n",
       "    // point mapping\n",
       "    chart.mapDataPoint = (p) => d3.maxIndex(hist([p.value]))\n",
       "\n",
       "    return chart\n",
       "  }\n",
       "\n",
       "  return {\n",
       "    Bar: Bar,\n",
       "    CategoricalBar: CategoricalBar,\n",
       "    Histogram: Histogram,\n",
       "    Line: Line,\n",
       "    Scatter: Scatter\n",
       "  }\n",
       "})\n",
       "`;\n",
       "        const attributes = {'id': 'dt-graph-objects-js'} || {};\n",
       "        \n",
       "        let id = attributes.id;\n",
       "        let elem_exists = id ? $(`script#${id}`).length > 0 : false;\n",
       "        \n",
       "        let e = elem_exists ? document.querySelector(`script#${id}`)\n",
       "                            : document.createElement(\"script\");\n",
       "        \n",
       "        $(e).text(`${script}`).attr('type', 'text/javascript');\n",
       "        \n",
       "        Object.entries(attributes)\n",
       "            .forEach( ([attr, val]) => $(e).attr(attr, val) );\n",
       "\n",
       "        if (!elem_exists) document.head.appendChild(e);\n",
       "     }"
      ],
      "text/plain": [
       "<JupyterRequire.display.SafeScript object>"
      ]
     },
     "metadata": {
      "finalized": true
     },
     "output_type": "display_data"
    },
    {
     "data": {
      "application/javascript": [
       "{ \n",
       "        'use strict';\n",
       "    \n",
       "        const script = `/**\n",
       " * Jupyter DataTables\n",
       " *\n",
       " * @module\n",
       " * @summary     Jupyter DataTables\n",
       " * @description Jupyter interactive pandas DataFrame representation leveraging pandas, DataTables and ChartJS.\n",
       " * @file        toolbar.js\n",
       " * @author      Marek Cermak\n",
       " * @contact     macermak@redhat.com\n",
       " * @copyright   Copyright 2019 Marek Cermak <macermak@redhat.com>\n",
       " *\n",
       " * This source file is free software, available under the following license:\n",
       " *   MIT license\n",
       " *\n",
       " * This source file is distributed in the hope that it will be useful, but\n",
       " * WITHOUT ANY WARRANTY; without even the implied warranty of MERCHANTABILITY\n",
       " * or FITNESS FOR A PARTICULAR PURPOSE. See the license files for details.\n",
       " *\n",
       " * For details please refer to: https://github.com/CermakM/jupyter-datatables\n",
       " */\n",
       "\n",
       "define('dt-toolbar', ['dt-components'], function (components) {\n",
       "\n",
       "  const templates = components.templates\n",
       "\n",
       "  return class Toolbar {\n",
       "    constructor(chart, dtype) {\n",
       "      this.chart = chart\n",
       "      this.dtype = dtype\n",
       "\n",
       "      this.settings = components.createElementFromTemplate(templates.DTSettingsComponentTemplate)\n",
       "      this.settingsButton = components.createElementFromTemplate(templates.DTSettingsButtonComponentTemplate)\n",
       "\n",
       "      $(this.settingsButton).click(() => {\n",
       "        if (this.settingsContainer.style.display != 'none') {\n",
       "          // settings already visible, just toggle\n",
       "          $(this.settingsContainer).hide()\n",
       "        } else {\n",
       "          const offset = {}\n",
       "          const margin = { top: 20, left: 0 }\n",
       "\n",
       "          offset.top = $(this.settingsButton).offset().top - $(output_area.element).offset().top\n",
       "          offset.top = offset.top + margin.top\n",
       "\n",
       "          offset.left = $(this.settingsButton).offset().left - $(output_area.element).offset().left\n",
       "          offset.left = offset.left + margin.left\n",
       "\n",
       "          $(this.settingsContainer).css(offset).show()\n",
       "\n",
       "          if (!_.isUndefined(this.dtype)) {\n",
       "            const allowedChartTypes = $.fn.dataTable.defaults.chartMap[this.dtype]\n",
       "\n",
       "            $(this.settings).find('.dt-chart-type').each((i, e) => {\n",
       "              const chartName = e.dataset.chart_name\n",
       "\n",
       "              // check active chart type\n",
       "              $(e).toggleClass('is-active', chartName === chart.name)\n",
       "\n",
       "              // check which chart types are not allowed for the current dtype and disable them\n",
       "              if (!allowedChartTypes.includes(chartName)) {\n",
       "                $(e).addClass('is-disabled')\n",
       "                console.debug(\\`Chart type '\\${chartName}' is not allowed for dtype '\\${dtype}'\\`)\n",
       "              } else {\n",
       "                // in case dtype changes for some reason\n",
       "                $(e).removeClass('is-disabled')\n",
       "              }\n",
       "            })\n",
       "          }\n",
       "\n",
       "          // click anywhere else hides the settings\n",
       "          setTimeout(() => {\n",
       "            $(document).one('click', () => $(this.settingsContainer).hide())\n",
       "          }, 20)\n",
       "        }\n",
       "      })\n",
       "\n",
       "      this.settingsContainer = document.createElement('div', { is: 'dt-container' })\n",
       "      this.settingsContainer.classList.add('dt-chart-settings-container')\n",
       "\n",
       "      $(this.settingsContainer).append(this.settings)\n",
       "      $(this.settingsContainer).css({ position: 'absolute' })\n",
       "      $(this.settingsContainer).hide()\n",
       "\n",
       "      // Append to the output area to allow overlay\n",
       "      const output_area = Jupyter.notebook.get_executed_cell().output_area\n",
       "      $(output_area.element).append(this.settingsContainer)\n",
       "\n",
       "      this.container = document.createElement('div', { is: 'dt-container' })\n",
       "      this.container.classList.add('dt-chart-toolbar')\n",
       "\n",
       "      $(this.container).append(this.settingsButton)\n",
       "    }\n",
       "\n",
       "    empty() {\n",
       "      this.destroy(false)\n",
       "    }\n",
       "\n",
       "    destroy(container = true) {\n",
       "      this.settings.remove()\n",
       "      this.settingsButton.remove()\n",
       "      this.settingsContainer.remove()\n",
       "\n",
       "      // finally remove the toolbar container itself if \\`container\\` is specified\n",
       "      if (container) { this.container.remove() } else { $(this.container).empty() } // remove all children but leave the container\n",
       "    }\n",
       "\n",
       "    onClick(callback, selector) {\n",
       "      let selection = $(this.settings).find(selector)\n",
       "\n",
       "      if (selection.length <= 0) { throw new Error(\\`Selector '\\${selector}' dit not match any elements.\\`) }\n",
       "\n",
       "      selection.each((i, elt) => {\n",
       "        $(elt).click(e => {\n",
       "          e.preventDefault()\n",
       "\n",
       "          callback.call(elt, e, this.chart)\n",
       "        })\n",
       "      })\n",
       "    }\n",
       "  }\n",
       "\n",
       "})\n",
       "`;\n",
       "        const attributes = {'id': 'dt-toolbar-js'} || {};\n",
       "        \n",
       "        let id = attributes.id;\n",
       "        let elem_exists = id ? $(`script#${id}`).length > 0 : false;\n",
       "        \n",
       "        let e = elem_exists ? document.querySelector(`script#${id}`)\n",
       "                            : document.createElement(\"script\");\n",
       "        \n",
       "        $(e).text(`${script}`).attr('type', 'text/javascript');\n",
       "        \n",
       "        Object.entries(attributes)\n",
       "            .forEach( ([attr, val]) => $(e).attr(attr, val) );\n",
       "\n",
       "        if (!elem_exists) document.head.appendChild(e);\n",
       "     }"
      ],
      "text/plain": [
       "<JupyterRequire.display.SafeScript object>"
      ]
     },
     "metadata": {
      "finalized": true
     },
     "output_type": "display_data"
    },
    {
     "data": {
      "application/javascript": [
       "{ \n",
       "        'use strict';\n",
       "    \n",
       "        const script = `define('dt-tooltips', ['underscore'], function (_) {\n",
       "\n",
       "  let showTooltip = function (chart, pointIndex, datasetIndex = 0) {\n",
       "    if (chart.animating) return // chart is still in animation process\n",
       "\n",
       "    if (_.isUndefined(chart.tooltip._active)) { chart.tooltip._active = [] }\n",
       "\n",
       "    let activeElements = chart.tooltip._active\n",
       "    let requestedElement = chart.getDatasetMeta(datasetIndex).data[pointIndex]\n",
       "\n",
       "    for (var i = 0; i < activeElements.length; i++) {\n",
       "      if (requestedElement._index == activeElements[i]._index) { return }\n",
       "    }\n",
       "\n",
       "    activeElements.push(requestedElement)\n",
       "\n",
       "    chart.tooltip._active = activeElements\n",
       "    chart.tooltip.update(true)\n",
       "    chart.tooltip.pivot()\n",
       "    chart.draw()\n",
       "  }\n",
       "\n",
       "  let hideTooltip = function (chart, pointIndex, datasetIndex = 0) {\n",
       "    let activeElements = chart.tooltip._active\n",
       "    if (_.isUndefined(activeElements) || activeElements.length == 0) { return }\n",
       "\n",
       "    let requestedElement = chart.getDatasetMeta(datasetIndex).data[pointIndex]\n",
       "    for (var i = 0; i < activeElements.length; i++) {\n",
       "      if (requestedElement._index == activeElements[i]._index) {\n",
       "        activeElements.splice(i, 1)\n",
       "        break\n",
       "      }\n",
       "    }\n",
       "\n",
       "    chart.tooltip._active = activeElements\n",
       "    chart.tooltip.update(true)\n",
       "    chart.draw()\n",
       "  }\n",
       "\n",
       "  let hideAllTooltips = function (chart) {\n",
       "    let activeElements = chart.tooltip._active\n",
       "    if (_.isUndefined(activeElements) || activeElements.length == 0) { return }\n",
       "\n",
       "    activeElements = []\n",
       "\n",
       "    chart.tooltip._active = activeElements\n",
       "    chart.tooltip.update(true)\n",
       "    chart.draw()\n",
       "  }\n",
       "\n",
       "  return {\n",
       "    showTooltip: showTooltip,\n",
       "    hideTooltip: hideTooltip,\n",
       "\n",
       "    hideAllTooltips: hideAllTooltips\n",
       "  }\n",
       "})\n",
       "`;\n",
       "        const attributes = {'id': 'dt-tooltips-js'} || {};\n",
       "        \n",
       "        let id = attributes.id;\n",
       "        let elem_exists = id ? $(`script#${id}`).length > 0 : false;\n",
       "        \n",
       "        let e = elem_exists ? document.querySelector(`script#${id}`)\n",
       "                            : document.createElement(\"script\");\n",
       "        \n",
       "        $(e).text(`${script}`).attr('type', 'text/javascript');\n",
       "        \n",
       "        Object.entries(attributes)\n",
       "            .forEach( ([attr, val]) => $(e).attr(attr, val) );\n",
       "\n",
       "        if (!elem_exists) document.head.appendChild(e);\n",
       "     }"
      ],
      "text/plain": [
       "<JupyterRequire.display.SafeScript object>"
      ]
     },
     "metadata": {
      "finalized": true
     },
     "output_type": "display_data"
    },
    {
     "data": {
      "application/javascript": [
       "{ \n",
       "        'use strict';\n",
       "    \n",
       "        const script = `/**\n",
       " * Jupyter DataTables\n",
       " *\n",
       " * @module\n",
       " * @summary     Jupyter DataTables\n",
       " * @description Jupyter interactive pandas DataFrame representation leveraging pandas, DataTables and ChartJS.\n",
       " * @file        jupyter-datatables.js\n",
       " * @author      Marek Cermak\n",
       " * @contact     macermak@redhat.com\n",
       " * @copyright   Copyright 2019 Marek Cermak <macermak@redhat.com>\n",
       " *\n",
       " * This source file is free software, available under the following license:\n",
       " *   MIT license\n",
       " *\n",
       " * This source file is distributed in the hope that it will be useful, but\n",
       " * WITHOUT ANY WARRANTY; without even the implied warranty of MERCHANTABILITY\n",
       " * or FITNESS FOR A PARTICULAR PURPOSE. See the license files for details.\n",
       " *\n",
       " * For details please refer to: https://github.com/CermakM/jupyter-datatables\n",
       " */\n",
       "\n",
       "define('jupyter-datatables', [\n",
       "  'underscore',\n",
       "  'moment',\n",
       "  'dt-config',\n",
       "  'dt-components',\n",
       "  'dt-graph-objects',\n",
       "  'dt-toolbar',\n",
       "  'dt-tooltips',\n",
       "], function (_, moment, config, components, go, Toolbar, tooltips) {\n",
       "  require('datatables.net')\n",
       "\n",
       "  const d3 = require('d3')\n",
       "  const events = require('base/js/events')\n",
       "\n",
       "  config.graphObjects = Object(go)\n",
       "\n",
       "  $.fn.dataTable.Api.register('row.create()', function () {\n",
       "    let row = $(this.row(0).node())\n",
       "      .clone()\n",
       "      .removeClass()\n",
       "\n",
       "    row\n",
       "      .children()\n",
       "      .empty()\n",
       "\n",
       "    return row\n",
       "  })\n",
       "\n",
       "  /**\n",
       "\t * Boolean type detector\n",
       "\t */\n",
       "  $.fn.dataTable.ext.type.detect.unshift(function (data) {\n",
       "    const dtype = 'boolean'\n",
       "\n",
       "    if (_.isBoolean(data)) {\n",
       "      return dtype\n",
       "    } else if (_.isString(data)) {\n",
       "      return (/true|false/i).test(data.toLowerCase()) ? dtype : null\n",
       "    }\n",
       "\n",
       "    return null\n",
       "  })\n",
       "\n",
       "  let createDTypePreview = function (dtype) {\n",
       "    const dTypeContainer = $('<div>')\n",
       "      .attr('class', 'dtype-container')\n",
       "\n",
       "    // dtype element\n",
       "    const dTypeSelect = $('<select>')\n",
       "      .attr('role', 'option')\n",
       "      .attr('class', 'dtype')\n",
       "      .appendTo(dTypeContainer)\n",
       "\n",
       "    const dTypeOptions = [\n",
       "      $('<option>').attr('value', dtype).text(dtype)\n",
       "      // TODO: other options suitable for this column\n",
       "    ]\n",
       "\n",
       "    dTypeOptions.forEach((opt) => opt.appendTo(dTypeSelect))\n",
       "\n",
       "    return dTypeContainer\n",
       "  }\n",
       "\n",
       "  let createDataToolbar = function (chart, data, index, dtype) {\n",
       "    const toolbar = new Toolbar(chart, dtype)\n",
       "\n",
       "    setTimeout(() => {\n",
       "      toolbar.onClick(function (event, chart) {\n",
       "        if ($(event.target).hasClass('is-active')) {\n",
       "          event.preventDefault() // do not propagate\n",
       "\n",
       "          console.debug(\\`Chart '\\${chart.name}' is already set. Skipping chart update.\\`)\n",
       "          return\n",
       "        }\n",
       "\n",
       "        console.debug('Updating chart:', chart)\n",
       "\n",
       "        const go = this.dataset.chart_name\n",
       "\n",
       "        chart.toolbar.empty()\n",
       "        chart.destroy()\n",
       "\n",
       "        chart.container.replaceWith(createDataPreview(data, index, dtype, go))\n",
       "      }, 'a.dt-chart-type')\n",
       "    }, 100)\n",
       "\n",
       "    return toolbar\n",
       "  }\n",
       "\n",
       "  let createDataPreview = function (data, index, dtype, go) {\n",
       "    console.debug('Creating data preview.', data, index, dtype)\n",
       "\n",
       "    if (_.isUndefined(dtype)) { console.warn('Data type was not provided.') } else if (!_.has(config.chartMap, dtype)) { throw new Error(\\`Unknown dtype '\\${dtype}'.\\`) }\n",
       "\n",
       "    if (index.length > 1) {\n",
       "      console.warn('Multi-index is not supported yet. Picking the 0th level.')\n",
       "      // TODO: handle multi-index\n",
       "    }\n",
       "\n",
       "    let kind, GraphObject, chart\n",
       "\n",
       "    if (_.isUndefined(go)) {\n",
       "      console.warn('Graph object was not provided.')\n",
       "\n",
       "      for (let k of config.chartMap[dtype]) {\n",
       "        if (_.has(config.graphObjects, k)) {\n",
       "          kind = k\n",
       "          GraphObject = config.graphObjects[k]\n",
       "\n",
       "          chart = new GraphObject(data, index, dtype)\n",
       "          if (chart) { break }\n",
       "        }\n",
       "        console.warn('Unknown plot kind: ', k)\n",
       "      }\n",
       "\n",
       "      if (_.isUndefined(kind)) {\n",
       "        throw new Error(\n",
       "          \\`Unable to find graph object for dtype '\\${dtype}' in: \\${config.graphObjects}\\`\n",
       "        )\n",
       "      }\n",
       "    } else {\n",
       "      GraphObject = _.isString(go) ? config.graphObjects[go] : go\n",
       "      chart = new GraphObject(data, index, dtype)\n",
       "    }\n",
       "\n",
       "    // set chart name for future reference\n",
       "    chart.name = GraphObject.name\n",
       "\n",
       "    if (_.isUndefined(chart) || chart === null) {\n",
       "      throw new Error(\n",
       "        \\`Unable to produce graph object for dtype '\\${dtype}'\\`\n",
       "      )\n",
       "    }\n",
       "\n",
       "    registerChartEvents(chart)\n",
       "\n",
       "    console.debug('Data preview has been created: ', chart)\n",
       "\n",
       "    chart.toolbar = createDataToolbar(chart, data, index, dtype)\n",
       "    chart.container = $('<div/>', { class: 'dt-chart-container' })\n",
       "      .append(chart.toolbar.container)\n",
       "      .append(chart.canvas)\n",
       "\n",
       "    return chart.container\n",
       "  }\n",
       "\n",
       "  let createDataTable = function (table, options, buttons) {\n",
       "    return new Promise((resolve) => {\n",
       "      Object.assign(options, {\n",
       "        fnInitComplete: function (settings) {\n",
       "          let dt = settings.oInstance.api()\n",
       "\n",
       "          console.debug('dtype preview initialization.', settings)\n",
       "\n",
       "          let dTypePreviewRow = dt.row.create()\n",
       "            .removeAttr('aria-label')\n",
       "            .attr('class', 'dtype-preview')\n",
       "\n",
       "          dTypePreviewRow\n",
       "            .children().each((i, e) => {\n",
       "              if ($(e).is('th')) { return }\n",
       "\n",
       "              let dtype = settings.aoColumns[i].sType\n",
       "              let dTypePreview = createDTypePreview(dtype)\n",
       "\n",
       "              $(e)\n",
       "                .attr('class', 'column-dtype-preview dt-head-center')\n",
       "                .attr('aria-label', \\`dtype preview for column \\${i}\\`)\n",
       "                .append(dTypePreview)\n",
       "\n",
       "              // map dtype back to known format\n",
       "              // TODO: run type detectors instead of assuming 'num'\n",
       "              settings.aoColumns[i].sType = config.dTypeMap[dtype]\n",
       "            })\n",
       "\n",
       "          dTypePreviewRow.ready(() => {\n",
       "            $(settings.nTHead).append(dTypePreviewRow)\n",
       "          })\n",
       "\n",
       "          console.debug('Data preview initialization.', settings)\n",
       "\n",
       "          let dataPreviewRow = dt.row.create()\n",
       "            .removeAttr('aria-controls')\n",
       "            .removeAttr('aria-label')\n",
       "            .attr('class', 'column-data-preview')\n",
       "\n",
       "          let index = []\n",
       "\n",
       "          dataPreviewRow\n",
       "            .children().each((i, e) => {\n",
       "              let dtype = settings.aoColumns[i].sType\n",
       "              let data = dt.column(i).data().toArray()\n",
       "\n",
       "              if ($(e).is('th')) {\n",
       "                index.push({ data: data, dtype: dtype, level: i })\n",
       "                return\n",
       "              }\n",
       "\n",
       "              $(e)\n",
       "                .attr('class', 'column-data-preview')\n",
       "                .attr('role', 'figure')\n",
       "                .attr('aria-label', \\`data preview for column \\${i}\\`)\n",
       "\n",
       "              let dataPreview = createDataPreview(data, index, dtype)\n",
       "\n",
       "              $(e).append(dataPreview)\n",
       "            })\n",
       "\n",
       "          dataPreviewRow.ready(() => {\n",
       "            $(settings.nTHead).append(dataPreviewRow)\n",
       "          })\n",
       "\n",
       "          registerDataTableEvents(dt)\n",
       "\n",
       "          resolve(settings)\n",
       "        }\n",
       "      })\n",
       "\n",
       "      let dt = $(table).DataTable(options).columns.adjust()\n",
       "        .responsive.recalc()\n",
       "        .columns.adjust()\n",
       "      let btns = new $.fn.dataTable.Buttons(dt, {\n",
       "        buttons: buttons\n",
       "      })\n",
       "\n",
       "      events.one('output_appended.OutputArea', () => {\n",
       "        setTimeout(dt.columns.adjust, 50)\n",
       "      })\n",
       "\n",
       "      $(dt.table().container()).prepend(btns.container())\n",
       "    })\n",
       "  }\n",
       "\n",
       "  let registerChartEvents = function (chart) {\n",
       "    events.on('hide_all_tooltips.ChartJS', () => {\n",
       "      tooltips.hideAllTooltips(chart)\n",
       "    })\n",
       "\n",
       "    $(chart.canvas).on('show_tooltip.ChartJS', (e, d) => {\n",
       "      tooltips.hideAllTooltips(chart)\n",
       "\n",
       "      // Show tooltip on certain data point\n",
       "      const dataPoint = d.data\n",
       "\n",
       "      let datasetIndex\n",
       "      if (_.has(chart, 'mapDataPoint')) {\n",
       "        datasetIndex = chart.mapDataPoint(dataPoint)\n",
       "      } else { datasetIndex = chart.data.labels.indexOf(dataPoint.index) }\n",
       "\n",
       "      tooltips.showTooltip(chart, datasetIndex)\n",
       "    })\n",
       "  }\n",
       "\n",
       "  let registerDataTableEvents = function (dt) {\n",
       "\n",
       "    dt.on('mouseleave', 'tbody', function (e) {\n",
       "      events.trigger('hide_all_tooltips.ChartJS')\n",
       "    })\n",
       "\n",
       "    dt.on('mouseenter', 'td', function (e) {\n",
       "      let cell = dt.cell(this)\n",
       "      let idx = cell.index()\n",
       "\n",
       "      const dIndex = dt.row(idx.row).data()[0]\n",
       "      const dValue = dt.row(idx.row).data()[idx.column]\n",
       "\n",
       "      const canvas = $(dt.table().container())\n",
       "        .find('canvas')\n",
       "        .get(idx.column - 1)\n",
       "\n",
       "      $(canvas).trigger('show_tooltip.ChartJS', {\n",
       "        cell: cell,\n",
       "        data: {\n",
       "          index: dIndex,\n",
       "          value: dValue\n",
       "        }\n",
       "      })\n",
       "    })\n",
       "\n",
       "    events.on('before_finalize.JupyterRequire', function () {\n",
       "      const canvasElements = $('canvas')\n",
       "\n",
       "      console.log('Finalizing canvas elements...', canvasElements)\n",
       "      canvasElements.each((i, canvas) => {\n",
       "        const dataURL = canvas.toDataURL('image/png')\n",
       "        const canvasPNG = $('<img/>', { src: dataURL, class: 'dt-chart-image' }).get(0)\n",
       "\n",
       "        console.debug('\\tResulting image: ', canvasPNG)\n",
       "\n",
       "        canvas.replaceWith(canvasPNG)\n",
       "      })\n",
       "\n",
       "      console.debug('\\tDisabling buttons and search fields...')\n",
       "\n",
       "      $('a.paginate_button, .dt-button, input[type=search], .dataTables_length select')\n",
       "        .off('click')\n",
       "        .css('cursor', 'not-allowed')\n",
       "        .css('color', '#999')\n",
       "        .addClass('disabled')\n",
       "        .prop('disabled', true)\n",
       "\n",
       "      console.log('Canvas finalization completed successfully.')\n",
       "    })\n",
       "\n",
       "    // Focus search field event\n",
       "    $(document).on('focus', '.dataTables_filter input', function (e) {\n",
       "      setTimeout(() => {\n",
       "        let cell = Jupyter.notebook.get_selected_cell()\n",
       "        let oArea = cell.output_area\n",
       "\n",
       "        if (e.type === 'focusin') {\n",
       "          oArea.keyboard_manager.disable()\n",
       "        } else { oArea.keyboard_manager.enable() }\n",
       "      }, 50) // set timeout to let Jupyter select the cell\n",
       "    })\n",
       "\n",
       "    // Keyup search field event\n",
       "    $(document).on('keyup', '.dataTables_filter input', function (e) {\n",
       "      if ($(this).is(':focus') && e.key === 'Escape') {\n",
       "        let cell = Jupyter.notebook.get_selected_cell()\n",
       "        let oArea = cell.output_area\n",
       "\n",
       "        $(this).blur() // focus out of the search element\n",
       "\n",
       "        oArea.keyboard_manager.enable()\n",
       "\n",
       "        return events.trigger('select.Cell', { 'cell': cell })\n",
       "      }\n",
       "\n",
       "      return true\n",
       "    })\n",
       "  }\n",
       "\n",
       "  /**\n",
       "\t   * Create HTML table from raw String and append it to an element\n",
       "\t   *\n",
       "\t   * @param {String} html\n",
       "\t   * @param {Element} element\n",
       "\t   */\n",
       "  let appendTable = function (html, element) {\n",
       "    return new Promise((resolve) => {\n",
       "      const table = $.parseHTML(html)\n",
       "\n",
       "      $(table).ready(() => {\n",
       "        element.append(table)\n",
       "        resolve(table)\n",
       "      })\n",
       "    })\n",
       "  }\n",
       "\n",
       "  /**\n",
       "\t   * Create DataTable from raw string and append it to an element\n",
       "\t   */\n",
       "  return appendDataTable = async function (html, options, buttons, element) {\n",
       "    const table = await appendTable(html, element)\n",
       "\n",
       "    return createDataTable(table, options, buttons)\n",
       "  }\n",
       "})\n",
       "`;\n",
       "        const attributes = {'id': 'jupyter-datatables-js'} || {};\n",
       "        \n",
       "        let id = attributes.id;\n",
       "        let elem_exists = id ? $(`script#${id}`).length > 0 : false;\n",
       "        \n",
       "        let e = elem_exists ? document.querySelector(`script#${id}`)\n",
       "                            : document.createElement(\"script\");\n",
       "        \n",
       "        $(e).text(`${script}`).attr('type', 'text/javascript');\n",
       "        \n",
       "        Object.entries(attributes)\n",
       "            .forEach( ([attr, val]) => $(e).attr(attr, val) );\n",
       "\n",
       "        if (!elem_exists) document.head.appendChild(e);\n",
       "     }"
      ],
      "text/plain": [
       "<JupyterRequire.display.SafeScript object>"
      ]
     },
     "metadata": {
      "finalized": true
     },
     "output_type": "display_data"
    },
    {
     "name": "stderr",
     "output_type": "stream",
     "text": [
      "Enabling notebook extension jupyter-js-widgets/extension...\n",
      "      - Validating: ok\n"
     ]
    }
   ],
   "source": [
    "from sklearn.model_selection import train_test_split\n",
    "from sklearn.metrics import r2_score\n",
    "from sklearn.preprocessing import StandardScaler\n",
    "from sklearn.linear_model import LinearRegression\n",
    "\n",
    "import numpy as np\n",
    "import pandas as pd\n",
    "\n",
    "import seaborn as sns\n",
    "import matplotlib.pyplot as plt\n",
    "\n",
    "import hyperopt\n",
    "\n",
    "# !pip install catboost\n",
    "from catboost import CatBoostRegressor, Pool, metrics, cv\n",
    "\n",
    "from jupyter_datatables import init_datatables_mode\n",
    "init_datatables_mode() # visualise data tables\n",
    "\n",
    "!jupyter nbextension enable --py widgetsnbextension"
   ]
  },
  {
   "cell_type": "code",
   "execution_count": 17,
   "metadata": {
    "id": "KIUFIkI8NZMy"
   },
   "outputs": [],
   "source": [
    "# define MAPE score\n",
    "def mape(actual, pred):\n",
    "    return np.mean(np.abs((actual - pred) / actual)) * 100"
   ]
  },
  {
   "cell_type": "markdown",
   "metadata": {
    "id": "yXFMB23r1B01"
   },
   "source": [
    "# Data processing"
   ]
  },
  {
   "cell_type": "code",
   "execution_count": 2,
   "metadata": {
    "id": "dFPFQxEM1JmO"
   },
   "outputs": [],
   "source": [
    "# get the preferences data\n",
    "data_pref_raw = pd.read_csv(\"SCI_and_preferences.csv\", encoding=\"utf-8\").iloc[:, 1:]\n",
    "data_pref_raw = data_pref_raw.drop_duplicates(subset=data_pref_raw.columns[2:]).reset_index(drop=True)\n",
    "data_pref_raw.scaled_sci = np.log(data_pref_raw.scaled_sci)\n",
    "\n",
    "pref_features = list(data_pref_raw.columns[2:-1])\n",
    "log_SCI = [data_pref_raw.columns[-1]]"
   ]
  },
  {
   "cell_type": "code",
   "execution_count": 3,
   "metadata": {
    "id": "kBsUKLEDb-q8"
   },
   "outputs": [],
   "source": [
    "# get the exogenous variables (containing extra regions and duplicates)\n",
    "data_exog_raw = pd.read_csv(\"SCI_and_exogenous_variables.csv\", encoding=\"utf-8\").iloc[:, 1:]\n",
    "data_exog_raw[\"log_distance\"] = np.log(data_exog_raw.distance)\n",
    "\n",
    "exog_features = [i for i in data_exog_raw.columns[2:] if i not in [\"both_west_de\", \"both_east_de\"]]"
   ]
  },
  {
   "cell_type": "code",
   "execution_count": 4,
   "metadata": {
    "id": "uL2oNDy4d-Ib"
   },
   "outputs": [],
   "source": [
    "# combine the datasets omitting extra regions and duplicates\n",
    "data_joint = pd.merge(data_pref_raw, data_exog_raw,  how=\"inner\", left_on=[\"user_loc\", \"fr_loc\"], right_on=[\"user_loc\", \"fr_loc\"])"
   ]
  },
  {
   "cell_type": "code",
   "execution_count": 5,
   "metadata": {
    "id": "utOP9vyrgYhR"
   },
   "outputs": [],
   "source": [
    "# create two datasets with equal number of rows, but different sets of predictors\n",
    "data_pref = data_joint.loc[:, log_SCI + pref_features] # preferences\n",
    "data_exog = data_joint.loc[:, log_SCI + exog_features] # exogenous variables"
   ]
  },
  {
   "cell_type": "code",
   "execution_count": 6,
   "metadata": {},
   "outputs": [],
   "source": [
    "# set random seed for reproducibility\n",
    "rng = np.random.RandomState(1)"
   ]
  },
  {
   "cell_type": "code",
   "execution_count": 7,
   "metadata": {},
   "outputs": [],
   "source": [
    "#create a uniform placebo dataset\n",
    "data_uniform_placebo = data_pref.copy()\n",
    "\n",
    "for col in pref_features:\n",
    "    data_uniform_placebo[col] = rng.uniform(size=data_pref.shape[0])"
   ]
  },
  {
   "cell_type": "code",
   "execution_count": 10,
   "metadata": {},
   "outputs": [],
   "source": [
    "#create a normal placebo dataset\n",
    "data_normal_placebo = data_pref.copy()\n",
    "\n",
    "for col in pref_features:\n",
    "    data_normal_placebo[col] = rng.normal(size=data_pref.shape[0])"
   ]
  },
  {
   "cell_type": "markdown",
   "metadata": {
    "id": "RcKZvLtBilTz"
   },
   "source": [
    "# Building models for prediction of $log(SCI)$"
   ]
  },
  {
   "cell_type": "markdown",
   "metadata": {
    "id": "B5Yb49EKi_F6"
   },
   "source": [
    "## 1) $log(SCI)$ ~ preferences"
   ]
  },
  {
   "cell_type": "code",
   "execution_count": 21,
   "metadata": {
    "id": "Kx9NqXgPovQr"
   },
   "outputs": [],
   "source": [
    "X = data_pref.loc[:, pref_features]\n",
    "y = data_pref.loc[:, log_SCI]"
   ]
  },
  {
   "cell_type": "code",
   "execution_count": 22,
   "metadata": {
    "id": "1_plaY53JKfa"
   },
   "outputs": [],
   "source": [
    "X_train, X_test, y_train, y_test = train_test_split(X, y, train_size=0.8, random_state=1)"
   ]
  },
  {
   "cell_type": "code",
   "execution_count": null,
   "metadata": {},
   "outputs": [],
   "source": []
  },
  {
   "cell_type": "code",
   "execution_count": 10,
   "metadata": {},
   "outputs": [
    {
     "data": {
      "application/vnd.jupyter.widget-view+json": {
       "model_id": "2ac8df381766497e9a4bbe252fde434b",
       "version_major": 2,
       "version_minor": 0
      },
      "text/plain": [
       "MetricVisualizer(layout=Layout(align_self='stretch', height='500px'))"
      ]
     },
     "metadata": {},
     "output_type": "display_data"
    }
   ],
   "source": [
    "# fit a boosting regressor with default parameters\n",
    "boosting_reg = CatBoostRegressor(custom_metric=[metrics.MAPE(), metrics.R2()], logging_level='Silent', random_state=1)\n",
    "boosting_reg.fit(X_train, y_train, plot=True);"
   ]
  },
  {
   "cell_type": "code",
   "execution_count": 21,
   "metadata": {},
   "outputs": [
    {
     "name": "stdout",
     "output_type": "stream",
     "text": [
      "train MAPE = 5.488378429259207%\n",
      "test MAPE = 8.234840276270475%\n",
      "train R_squared = 0.9033327337919508\n",
      "test R_squared = 0.7746200710672916\n"
     ]
    }
   ],
   "source": [
    "print('train MAPE = {}%'.format(mape(y_train.scaled_sci, boosting_reg.predict(X_train))))\n",
    "print('test MAPE = {}%'.format(mape(y_test.scaled_sci, boosting_reg.predict(X_test))))\n",
    "print('train R_squared = {}'.format(r2_score(y_train.scaled_sci, boosting_reg.predict(X_train))))\n",
    "print('test R_squared = {}'.format(r2_score(y_test.scaled_sci, boosting_reg.predict(X_test))))"
   ]
  },
  {
   "cell_type": "code",
   "execution_count": null,
   "metadata": {},
   "outputs": [],
   "source": []
  },
  {
   "cell_type": "code",
   "execution_count": 20,
   "metadata": {},
   "outputs": [
    {
     "data": {
      "application/vnd.jupyter.widget-view+json": {
       "model_id": "1c4c8fc228ca48d195063168325d61b4",
       "version_major": 2,
       "version_minor": 0
      },
      "text/plain": [
       "MetricVisualizer(layout=Layout(align_self='stretch', height='500px'))"
      ]
     },
     "metadata": {},
     "output_type": "display_data"
    }
   ],
   "source": [
    "# perform cross-validation to determine the optimal number of trees\n",
    "cv_params = boosting_reg.get_params()\n",
    "\n",
    "cv_data = cv(\n",
    "    Pool(X_train, y_train),\n",
    "    cv_params,\n",
    "    iterations=3000,\n",
    "    fold_count=5,\n",
    "    plot=True\n",
    ")"
   ]
  },
  {
   "cell_type": "code",
   "execution_count": null,
   "metadata": {},
   "outputs": [],
   "source": []
  },
  {
   "cell_type": "code",
   "execution_count": 32,
   "metadata": {},
   "outputs": [],
   "source": [
    "# tune the hyperparameters\n",
    "def hyperopt_objective(params):\n",
    "    model = CatBoostRegressor(\n",
    "        l2_leaf_reg=int(params['l2_leaf_reg']),\n",
    "        learning_rate=params['learning_rate'],\n",
    "        iterations=2000,\n",
    "        eval_metric=metrics.MAPE(),\n",
    "        random_seed=1,\n",
    "        verbose=False,\n",
    "        loss_function=metrics.RMSE(),\n",
    "    )\n",
    "    \n",
    "    cv_data = cv(\n",
    "        Pool(X_train, y_train),\n",
    "        model.get_params()\n",
    "    )\n",
    "    \n",
    "    best_MAPE = np.min(cv_data[\"test-MAPE-mean\"])\n",
    "    \n",
    "    return best_MAPE"
   ]
  },
  {
   "cell_type": "code",
   "execution_count": 33,
   "metadata": {},
   "outputs": [
    {
     "name": "stdout",
     "output_type": "stream",
     "text": [
      "100%|██████████████████████████████████████████████| 10/10 [56:17<00:00, 337.75s/trial, best loss: 0.08398234676971289]\n"
     ]
    }
   ],
   "source": [
    "params_space = {\n",
    "    'l2_leaf_reg': hyperopt.hp.qloguniform('l2_leaf_reg', 1, 4, 1),\n",
    "    'learning_rate': hyperopt.hp.uniform('learning_rate', 1e-3, 5e-1),\n",
    "}\n",
    "\n",
    "trials = hyperopt.Trials()\n",
    "\n",
    "best = hyperopt.fmin(\n",
    "    hyperopt_objective,\n",
    "    space=params_space,\n",
    "    algo=hyperopt.tpe.suggest,\n",
    "    max_evals=10,\n",
    "    trials=trials,\n",
    "    rstate=np.random.RandomState(1)\n",
    ")"
   ]
  },
  {
   "cell_type": "code",
   "execution_count": 34,
   "metadata": {},
   "outputs": [
    {
     "data": {
      "text/plain": [
       "{'l2_leaf_reg': 21.0, 'learning_rate': 0.1205357630756511}"
      ]
     },
     "execution_count": 34,
     "metadata": {},
     "output_type": "execute_result"
    }
   ],
   "source": [
    "best"
   ]
  },
  {
   "cell_type": "code",
   "execution_count": null,
   "metadata": {},
   "outputs": [],
   "source": []
  },
  {
   "cell_type": "code",
   "execution_count": 70,
   "metadata": {},
   "outputs": [
    {
     "data": {
      "application/vnd.jupyter.widget-view+json": {
       "model_id": "03b400f3364140e9be049a29429f33df",
       "version_major": 2,
       "version_minor": 0
      },
      "text/plain": [
       "MetricVisualizer(layout=Layout(align_self='stretch', height='500px'))"
      ]
     },
     "metadata": {},
     "output_type": "display_data"
    }
   ],
   "source": [
    "# fit again with tuned hyperparameters\n",
    "boosting_reg = CatBoostRegressor(\n",
    "    l2_leaf_reg=21.0, \n",
    "    learning_rate=0.1205357630756511,\n",
    "    iterations=2000,\n",
    "    custom_metric=[metrics.MAPE(), metrics.R2()], \n",
    "    logging_level='Silent', \n",
    "    random_state=1\n",
    ")\n",
    "\n",
    "boosting_reg.fit(X_train, y_train, plot=True);"
   ]
  },
  {
   "cell_type": "code",
   "execution_count": 49,
   "metadata": {},
   "outputs": [
    {
     "name": "stdout",
     "output_type": "stream",
     "text": [
      "train MAPE = 2.8370840853728128%\n",
      "test MAPE = 7.614206389083779%\n",
      "train R_squared = 0.9766553694965441\n",
      "test R_squared = 0.8047177250592741\n"
     ]
    }
   ],
   "source": [
    "print('train MAPE = {}%'.format(mape(y_train.scaled_sci, boosting_reg.predict(X_train))))\n",
    "print('test MAPE = {}%'.format(mape(y_test.scaled_sci, boosting_reg.predict(X_test))))\n",
    "print('train R_squared = {}'.format(r2_score(y_train.scaled_sci, boosting_reg.predict(X_train))))\n",
    "print('test R_squared = {}'.format(r2_score(y_test.scaled_sci, boosting_reg.predict(X_test))))"
   ]
  },
  {
   "cell_type": "code",
   "execution_count": null,
   "metadata": {},
   "outputs": [],
   "source": []
  },
  {
   "cell_type": "code",
   "execution_count": 66,
   "metadata": {},
   "outputs": [
    {
     "name": "stdout",
     "output_type": "stream",
     "text": [
      "child_hard_work: 7.101020731923989\n",
      "Justifiable_Claiming_government_benefits_to_which_you_are_not_entitled: 6.479797912986653\n",
      "It_is_childs_duty_to_take_care_of_ill_parent: 3.8450913687825867\n",
      "child_independence: 3.6341811724453277\n",
      "Religious_denomination: 3.386456030247135\n",
      "Greater_respect_for_authority: 3.328786077063077\n",
      "Willingness_to_fight_for_country: 2.886670036978651\n",
      "How_often_do_you_attend_religious_services: 2.879246177429207\n",
      "Trust_People_you_know_personally_(B): 2.184844936840127\n",
      "Trust_Your_family_(B): 2.123131677547407\n",
      "child_feeling_of_responsibility: 2.100468450223712\n",
      "Justifiable_Homosexuality: 2.036665140018402\n",
      "child_unselfishness: 1.6048683105712085\n",
      "signing_a_petition: 1.4638818726873266\n",
      "Pray_to_God_outside_of_religious_services_(EVS5): 1.2755955979102014\n",
      "Neighbours_different_race: 1.2681105890415503\n",
      "Believe_in_God: 1.2383028797821123\n",
      "Trust_People_you_meet_for_the_first_time_(B): 1.2126899385551357\n",
      "Most_people_can_be_trusted: 1.1985005068092565\n",
      "Neighbours_Immigrants: 1.1874196946944746\n",
      "Government_has_the_right_Collect_information_about_anyone_living_in_COUNTRY: 1.1640730455484063\n",
      "Political_system_Having_a_strong_leader: 1.1180433768813498\n",
      "Neighbours_Heavy_drinkers: 1.0265098806267825\n",
      "How_often_in_country_elections_Rich_people_buy_elections: 0.9785706286048407\n",
      "Democracy_People_obey_their_rulers: 0.977136746766049\n",
      "Neighbours_Homosexuals: 0.9282358179361532\n",
      "child_tolerance: 0.8719272811824381\n",
      "attending_peaceful_demonstrations: 0.8651770317071217\n",
      "Homosexual_couples_are_as_good_parents_as_other_couples: 0.85227996029465\n",
      "Confidence_The_United_Nations: 0.8518836439642907\n",
      "Neighbours_Drug_addicts: 0.8489003031377145\n",
      "Confidence_Armed_Forces: 0.8406849476410186\n",
      "How_often_in_country_elections_TV_news_favors_the_governing_party: 0.7960080469073396\n",
      "Less_importance_placed_on_work: 0.7938142033138225\n",
      "child_determination_perseverance: 0.7766632135246287\n",
      "Trust_Your_neighborhood_(B): 0.7092749882860371\n",
      "How_close_you_feel_Continent: 0.6948510114571559\n",
      "child_religious_faith: 0.6692981310296099\n",
      "Confidence_The_Press: 0.647509519244851\n",
      "How_close_do_you_feel_to_country: 0.6269847483773814\n",
      "How_often_in_country_elections_Votes_are_counted_fairly: 0.6027350043343309\n",
      "child_good_manners: 0.5911521412057702\n",
      "Democracy_People_receive_state_aid_for_unemployment: 0.5792703111722869\n",
      "Pre-school_child_suffers_with_working_mother: 0.5768135502699208\n",
      "Evaluate_the_impact_of_immigrants_on_the_development_of_your_country: 0.5751480298523542\n",
      "Justifiable_Political_violence: 0.5569741104521639\n",
      "Confidence_Churches: 0.5541819463935149\n",
      "child_obedience: 0.5408397873958146\n",
      "How_often_in_country_elections_Election_officials_are_fair: 0.5170926777490878\n",
      "Justifiable_Death_penalty: 0.5121767500761262\n",
      "Government_has_the_right_Keep_people_under_video_surveillance_in_public_areas: 0.4900832641072635\n",
      "Justifiable_Someone_accepting_a_bribe: 0.4825566756758141\n",
      "How_proud_of_nationality: 0.4788091883476352\n",
      "Happiness: 0.47494150719536554\n",
      "Employers_should_give_priority_to_(nation)_people_than_immigrants_(5_point): 0.46556112082615797\n",
      "Work: 0.46267847678123714\n",
      "Justifiable_Having_casual_sex: 0.4582854133002943\n",
      "Justifiable_Prostitution: 0.452990617746149\n",
      "Confidence_Labour_Unions: 0.4343402633353479\n",
      "One_of_main_goals_in_life_has_been_to_make_my_parents_proud: 0.4203531028612218\n",
      "Justifiable_Cheating_on_taxes: 0.41968708666918075\n",
      "Interest_in_politics: 0.40677799600186654\n",
      "Justifiable_Divorce: 0.40327970768674626\n",
      "Politics: 0.39382840805527747\n",
      "Men_should_have_more_right_to_a_job_than_women: 0.3766202936026428\n",
      "Democracy_Religious_authorities_interpret_the_laws: 0.37427187349412583\n",
      "How_often_in_country_elections_Voters_are_threatened_with_violence: 0.3684931407759317\n",
      "How_often_in_country_elections_Journalists_provide_fair_coverage_of_elections: 0.3676892665015476\n",
      "child_thrift_saving_money: 0.36520217778605923\n",
      "How_often_in_country_elections_Voters_are_bribed: 0.365171742016357\n",
      "Satisfaction_with_life: 0.3607417839851994\n",
      "Political_system_Having_the_army_rule: 0.3599657461815317\n",
      "Work_should_come_first_even_if_it_means_less_spare_time: 0.35908852681332676\n",
      "Justifiable_Avoiding_a_fare_on_public_transport: 0.35335863715869514\n",
      "Justifiable_Suicide: 0.3509951164032827\n",
      "Political_system_Having_experts_make_decisions: 0.34718286903701806\n",
      "Aims_of_country_second_choice: 0.3465121109125484\n",
      "Duty_towards_society_to_have_children: 0.34311928465965497\n",
      "Justifiable_Euthanasia: 0.3372896992812481\n",
      "People_who_do_not_work_turn_lazy: 0.32470873211254\n",
      "Confidence_The_Police: 0.3245342534469979\n",
      "Trust_People_of_another_religion_(B): 0.32179157860012036\n",
      "joining_unofficial_strikes: 0.3196686360328339\n",
      "Democracy_The_state_makes_incomes_equal: 0.312302388559379\n",
      "How_often_in_country_elections_Opposition_candidates_are_prevented_from_runni: 0.3116162322381081\n",
      "Aims_of_respondent_first_choice: 0.3044917316786942\n",
      "Confidence_The_Civil_Services: 0.30114913245852354\n",
      "How_close_you_feel_Your_village_town_or_city: 0.29804018211365224\n",
      "Family: 0.29545021193001475\n",
      "Religious_person: 0.2872502885352601\n",
      "Employers_should_give_priority_to_(nation)_people_than_immigrants: 0.2819382461537065\n",
      "Justifiable_Abortion: 0.28087905694119136\n",
      "joining_in_boycotts: 0.27308416055464\n",
      "Trust_People_of_another_nationality_(B): 0.27282465330794103\n",
      "child_imagination: 0.2695766069011189\n",
      "Religion: 0.26915690503656164\n",
      "Aims_of_country_first_choice: 0.2681233679299162\n",
      "Democraticness_in_own_country: 0.2641150727581871\n",
      "Vote_in_elections_local_level: 0.2639863071784726\n",
      "Confidence_The_Environmental_Protection_Movement: 0.2563912147038736\n",
      "Democracy_The_army_takes_over_when_government_is_incompetent: 0.25620601708280116\n",
      "Income_equality: 0.2548587109191572\n",
      "Democracy_People_choose_their_leaders_in_free_elections: 0.24528966892349804\n",
      "How_important_is_God_in_your_life: 0.23826004337842327\n",
      "Men_should_have_more_right_to_a_job_than_women_(5-point_scale): 0.22613996841765585\n",
      "Confidence_Major_Companies: 0.22609839555535877\n",
      "Believe_in_heaven: 0.2189667299826313\n",
      "Government_responsibility: 0.21685699850189752\n",
      "Confidence_Justice_System: 0.21309486899146732\n",
      "Democracy_Civil_rights_protect_liberty_against_oppression: 0.21270461460225729\n",
      "Aims_of_respondent_second_choice: 0.21172336719492355\n",
      "Protecting_environment_vs_Economic_growth: 0.21137143930360108\n",
      "Work_is_a_duty_towards_society: 0.21028796371756\n",
      "Confidence_The_Political_Parties: 0.20977211697859233\n",
      "How_close_do_you_feel_to_your_county_region_district: 0.20713916654680609\n",
      "Vote_in_elections_National_level: 0.20469313406703152\n",
      "Private_vs_state_ownership_of_business: 0.20443336937281503\n",
      "Believe_in_hell: 0.2035357547405934\n",
      "Post-Materialist_index_4-item: 0.20190758618663382\n",
      "Importance_of_democracy: 0.2000027821354592\n",
      "Democracy_Governments_tax_the_rich_and_subsidize_the_poor: 0.19755424011986242\n",
      "Self_positioning_in_political_scale: 0.19673341028347913\n",
      "Freedom_of_choice: 0.19591009083718697\n",
      "Believe_in_life_after_death: 0.18683321567626887\n",
      "Men_make_better_business_executives_than_women: 0.17971401711059334\n",
      "Satisfaction_with_the_political_system: 0.177399915621309\n",
      "Confidence_The_Government: 0.17646428151394203\n",
      "Men_make_better_political_leaders_than_women: 0.17596246020637415\n",
      "Political_system_Having_a_democratic_political_system: 0.17540932988409805\n",
      "Confidence_Parliament: 0.16309412131792\n",
      "Government_has_the_right_Monitor_all_e-mails_and_any_other_information_exchange: 0.14822356152635804\n",
      "University_is_more_important_for_a_boy_than_for_a_girl: 0.13350007530765856\n",
      "Leisure_time: 0.13220490076728272\n",
      "Competition_good_or_harmful: 0.12241215294562122\n",
      "How_close_you_feel_World: 0.1140715616406753\n",
      "Democracy_Women_have_the_same_rights_as_men: 0.10994904737573702\n",
      "Confidence_Major_regional_organization: 0.09553815422735955\n",
      "Friends: 0.09234277744398049\n",
      "Confidence_The_European_Union: 0.052445995354134155\n"
     ]
    }
   ],
   "source": [
    "# feature importances\n",
    "feature_importances = boosting_reg.get_feature_importance(Pool(X_test, y_test), type=\"PredictionValuesChange\")\n",
    "feature_names = X_train.columns\n",
    "for score, name in sorted(zip(feature_importances, feature_names), reverse=True):\n",
    "    print('{}: {}'.format(name, score))"
   ]
  },
  {
   "cell_type": "code",
   "execution_count": 63,
   "metadata": {},
   "outputs": [
    {
     "name": "stdout",
     "output_type": "stream",
     "text": [
      "child_hard_work: 0.03248112861358465\n",
      "Justifiable_Claiming_government_benefits_to_which_you_are_not_entitled: 0.03063368391308008\n",
      "Pray_to_God_outside_of_religious_services_(EVS5): 0.029876204155073083\n",
      "child_independence: 0.018746221765085336\n",
      "Religious_denomination: 0.014543811007314389\n",
      "Greater_respect_for_authority: 0.013974481939705408\n",
      "It_is_childs_duty_to_take_care_of_ill_parent: 0.01209178929364818\n",
      "child_feeling_of_responsibility: 0.012090522840423001\n",
      "Trust_Your_family_(B): 0.01206215875182104\n",
      "How_often_do_you_attend_religious_services: 0.01131774275752917\n",
      "Willingness_to_fight_for_country: 0.010288545543908123\n",
      "child_unselfishness: 0.00863315196709391\n",
      "Trust_People_you_know_personally_(B): 0.0067593622810792064\n",
      "Political_system_Having_a_strong_leader: 0.006425891269950967\n",
      "Neighbours_Immigrants: 0.005728318374344621\n",
      "signing_a_petition: 0.005603495999942476\n",
      "Justifiable_Homosexuality: 0.005221207969781205\n",
      "Democracy_People_obey_their_rulers: 0.004890843031280068\n",
      "child_determination_perseverance: 0.004793148602833419\n",
      "child_tolerance: 0.004664200140741204\n",
      "Neighbours_different_race: 0.004537126402373359\n",
      "How_often_in_country_elections_Rich_people_buy_elections: 0.004407734782801431\n",
      "attending_peaceful_demonstrations: 0.004217923346114372\n",
      "Neighbours_Homosexuals: 0.003992535218431681\n",
      "Confidence_Churches: 0.003817007092036584\n",
      "child_religious_faith: 0.003588211365808003\n",
      "Government_has_the_right_Keep_people_under_video_surveillance_in_public_areas: 0.003539895314156327\n",
      "Most_people_can_be_trusted: 0.003422481364759644\n",
      "How_close_do_you_feel_to_country: 0.00325190411171028\n",
      "How_often_in_country_elections_Votes_are_counted_fairly: 0.003221389168689859\n",
      "Less_importance_placed_on_work: 0.0031386894460091463\n",
      "Employers_should_give_priority_to_(nation)_people_than_immigrants_(5_point): 0.003128039623059853\n",
      "Trust_People_you_meet_for_the_first_time_(B): 0.0030601018857782103\n",
      "Evaluate_the_impact_of_immigrants_on_the_development_of_your_country: 0.003030353263174246\n",
      "Justifiable_Having_casual_sex: 0.0029494284743482035\n",
      "Believe_in_God: 0.0028252699593563912\n",
      "How_close_you_feel_Continent: 0.0027907508681415116\n",
      "Trust_Your_neighborhood_(B): 0.0027603804260095677\n",
      "Homosexual_couples_are_as_good_parents_as_other_couples: 0.002734050317212078\n",
      "Confidence_The_United_Nations: 0.0027081637414430038\n",
      "Justifiable_Cheating_on_taxes: 0.0023745177485674507\n",
      "Neighbours_Heavy_drinkers: 0.0023507631541501706\n",
      "Men_should_have_more_right_to_a_job_than_women: 0.0023281435040576337\n",
      "Justifiable_Political_violence: 0.0022106070652105902\n",
      "Justifiable_Someone_accepting_a_bribe: 0.0019772730046608844\n",
      "How_proud_of_nationality: 0.0019633493515277545\n",
      "Work: 0.001928897163498644\n",
      "Justifiable_Death_penalty: 0.0018731837446613886\n",
      "How_often_in_country_elections_Voters_are_threatened_with_violence: 0.0018265416583767013\n",
      "Government_has_the_right_Collect_information_about_anyone_living_in_COUNTRY: 0.0018262053338903295\n",
      "Interest_in_politics: 0.00181641492636897\n",
      "child_thrift_saving_money: 0.001792733538491298\n",
      "Confidence_Armed_Forces: 0.0017134891973743516\n",
      "Democracy_Religious_authorities_interpret_the_laws: 0.0016962079266682473\n",
      "Pre-school_child_suffers_with_working_mother: 0.0016939745760892189\n",
      "Justifiable_Avoiding_a_fare_on_public_transport: 0.0016493378249673452\n",
      "Work_is_a_duty_towards_society: 0.0016146017200239227\n",
      "Work_should_come_first_even_if_it_means_less_spare_time: 0.001607421342638804\n",
      "Political_system_Having_experts_make_decisions: 0.0015925464192403371\n",
      "child_good_manners: 0.0015782037267202398\n",
      "Neighbours_Drug_addicts: 0.0015505457376326914\n",
      "Happiness: 0.0015486183955807364\n",
      "How_often_in_country_elections_TV_news_favors_the_governing_party: 0.0014959972607331284\n",
      "Income_equality: 0.0014872044437913567\n",
      "How_often_in_country_elections_Opposition_candidates_are_prevented_from_runni: 0.0014836216451439288\n",
      "Aims_of_country_second_choice: 0.0014227093353680331\n",
      "Confidence_The_Civil_Services: 0.0013975979062788024\n",
      "Political_system_Having_the_army_rule: 0.0013814283128094074\n",
      "Religious_person: 0.0013738436041617064\n",
      "Justifiable_Prostitution: 0.0013480201872756448\n",
      "Confidence_Labour_Unions: 0.0013419774577322352\n",
      "Justifiable_Suicide: 0.0013403626319891115\n",
      "Confidence_The_Press: 0.0013192531186195788\n",
      "People_who_do_not_work_turn_lazy: 0.0013143685237713143\n",
      "How_often_in_country_elections_Election_officials_are_fair: 0.0013079102720248148\n",
      "One_of_main_goals_in_life_has_been_to_make_my_parents_proud: 0.0012994910702019968\n",
      "Democracy_The_state_makes_incomes_equal: 0.001296747844430013\n",
      "Confidence_The_Police: 0.0012663927635354622\n",
      "Vote_in_elections_local_level: 0.0012623274849808963\n",
      "Satisfaction_with_life: 0.0012416737983467208\n",
      "Believe_in_life_after_death: 0.0011763798166168904\n",
      "child_obedience: 0.0011663790245506345\n",
      "Politics: 0.0011180010189768552\n",
      "Confidence_Justice_System: 0.0011177462194374987\n",
      "Democracy_People_receive_state_aid_for_unemployment: 0.0010779195365467897\n",
      "joining_in_boycotts: 0.0010701981049544562\n",
      "How_close_you_feel_Your_village_town_or_city: 0.000998824674678489\n",
      "Justifiable_Euthanasia: 0.0009321904229525613\n",
      "Importance_of_democracy: 0.0009313148215237543\n",
      "How_often_in_country_elections_Voters_are_bribed: 0.0009309219751448827\n",
      "Trust_People_of_another_nationality_(B): 0.0009234720152392351\n",
      "Post-Materialist_index_4-item: 0.0009127287980470467\n",
      "Justifiable_Abortion: 0.0008990243156880018\n",
      "Private_vs_state_ownership_of_business: 0.000898628262999468\n",
      "Democracy_Governments_tax_the_rich_and_subsidize_the_poor: 0.0008972227983270464\n",
      "How_important_is_God_in_your_life: 0.0008942314585179689\n",
      "Aims_of_respondent_second_choice: 0.0008894266002960061\n",
      "Confidence_The_Political_Parties: 0.0008705349101445492\n",
      "Democracy_Civil_rights_protect_liberty_against_oppression: 0.0008345113099320622\n",
      "Duty_towards_society_to_have_children: 0.0008328294519146517\n",
      "Protecting_environment_vs_Economic_growth: 0.0008288641860713097\n",
      "Family: 0.0008174131853014854\n",
      "Confidence_The_Government: 0.0008123728427091859\n",
      "Believe_in_hell: 0.0008032475308262788\n",
      "Aims_of_country_first_choice: 0.0007889725279242032\n",
      "Government_responsibility: 0.0007885549451863705\n",
      "Democraticness_in_own_country: 0.0007827020674359142\n",
      "Aims_of_respondent_first_choice: 0.000774636151258723\n",
      "How_often_in_country_elections_Journalists_provide_fair_coverage_of_elections: 0.0007552305079261412\n",
      "child_imagination: 0.000753699108125061\n",
      "Vote_in_elections_National_level: 0.0007213531986590693\n",
      "joining_unofficial_strikes: 0.000714378353753653\n",
      "Self_positioning_in_political_scale: 0.000706547019308168\n",
      "Democracy_The_army_takes_over_when_government_is_incompetent: 0.0007014383641482658\n",
      "Men_should_have_more_right_to_a_job_than_women_(5-point_scale): 0.0006834130662578541\n",
      "Religion: 0.0006712599374865125\n",
      "Employers_should_give_priority_to_(nation)_people_than_immigrants: 0.0006439867135236144\n",
      "How_close_do_you_feel_to_your_county_region_district: 0.000633826876713206\n",
      "Trust_People_of_another_religion_(B): 0.0005900763812187737\n",
      "Competition_good_or_harmful: 0.000584545618169785\n",
      "Believe_in_heaven: 0.0005787102948527911\n",
      "Political_system_Having_a_democratic_political_system: 0.00053920239582117\n",
      "Leisure_time: 0.0005069003832006702\n",
      "Freedom_of_choice: 0.00044734502630772166\n",
      "Justifiable_Divorce: 0.00044184546460079854\n",
      "Confidence_Major_regional_organization: 0.0003766082440200824\n",
      "Confidence_The_Environmental_Protection_Movement: 0.00037248238082343565\n",
      "Satisfaction_with_the_political_system: 0.0003621712107274577\n",
      "Government_has_the_right_Monitor_all_e-mails_and_any_other_information_exchange: 0.00035610163228727565\n",
      "Democracy_People_choose_their_leaders_in_free_elections: 0.00035066838980313264\n",
      "Men_make_better_business_executives_than_women: 0.00030879014089169043\n",
      "Democracy_Women_have_the_same_rights_as_men: 0.00028485853761173185\n",
      "Confidence_Parliament: 0.0002840149107322665\n",
      "Men_make_better_political_leaders_than_women: 0.000283467981596619\n",
      "How_close_you_feel_World: 0.0002677938008733838\n",
      "Friends: 0.0002002066521821222\n",
      "University_is_more_important_for_a_boy_than_for_a_girl: 0.00012702778842310636\n",
      "Confidence_Major_Companies: 0.00010311502126791883\n",
      "Confidence_The_European_Union: 0.00010240994842736217\n"
     ]
    }
   ],
   "source": [
    "# feature importances (different method)\n",
    "feature_importances = boosting_reg.get_feature_importance(Pool(X_test, y_test), type=\"LossFunctionChange\")\n",
    "feature_names = X_train.columns\n",
    "for score, name in sorted(zip(feature_importances, feature_names), reverse=True):\n",
    "    print('{}: {}'.format(name, score))"
   ]
  },
  {
   "cell_type": "code",
   "execution_count": null,
   "metadata": {},
   "outputs": [],
   "source": []
  },
  {
   "cell_type": "code",
   "execution_count": 9,
   "metadata": {
    "colab": {
     "base_uri": "https://localhost:8080/"
    },
    "id": "tnuk5HODDFc0",
    "outputId": "36639db6-6a12-4ed7-c15a-9111fcb70242"
   },
   "outputs": [],
   "source": [
    "lin_reg = LinearRegression()\n",
    "\n",
    "lin_reg.fit(X_train, y_train);"
   ]
  },
  {
   "cell_type": "code",
   "execution_count": 12,
   "metadata": {
    "colab": {
     "base_uri": "https://localhost:8080/"
    },
    "id": "9I8DRgB6DFkR",
    "outputId": "297ba9ef-d7fb-4573-a547-0355a43f090f"
   },
   "outputs": [
    {
     "name": "stdout",
     "output_type": "stream",
     "text": [
      "train MAPE = 14.62379457214769%\n",
      "test MAPE = 14.713679609575298%\n",
      "train R_squared = 0.3685999719006382\n",
      "test R_squared = 0.3760911994764822\n"
     ]
    }
   ],
   "source": [
    "print('train MAPE = {}%'.format(mape(y_train, lin_reg.predict(X_train))[0]))\n",
    "print('test MAPE = {}%'.format(mape(y_test, lin_reg.predict(X_test))[0]))\n",
    "print('train R_squared = {}'.format(r2_score(y_train, lin_reg.predict(X_train))))\n",
    "print('test R_squared = {}'.format(r2_score(y_test, lin_reg.predict(X_test))))"
   ]
  },
  {
   "cell_type": "code",
   "execution_count": null,
   "metadata": {},
   "outputs": [],
   "source": []
  },
  {
   "cell_type": "code",
   "execution_count": 27,
   "metadata": {},
   "outputs": [],
   "source": [
    "# data for the gravity regression\n",
    "X_train_gravity, X_test_gravity = X_train.copy(), X_test.copy()\n",
    "\n",
    "for col in X_train_gravity.columns:\n",
    "    X_train_gravity[col] = np.log1p(X_train_gravity[col])\n",
    "    X_test_gravity[col] = np.log1p(X_test_gravity[col])"
   ]
  },
  {
   "cell_type": "code",
   "execution_count": 28,
   "metadata": {},
   "outputs": [],
   "source": [
    "lin_reg = LinearRegression()\n",
    "\n",
    "lin_reg.fit(X_train_gravity, y_train);"
   ]
  },
  {
   "cell_type": "code",
   "execution_count": 29,
   "metadata": {},
   "outputs": [
    {
     "name": "stdout",
     "output_type": "stream",
     "text": [
      "train MAPE = 14.776349756522574%\n",
      "test MAPE = 14.823028327903314%\n",
      "train R_squared = 0.3592687058159386\n",
      "test R_squared = 0.3711478424487422\n"
     ]
    }
   ],
   "source": [
    "print('train MAPE = {}%'.format(mape(y_train, lin_reg.predict(X_train_gravity))[0]))\n",
    "print('test MAPE = {}%'.format(mape(y_test, lin_reg.predict(X_test_gravity))[0]))\n",
    "print('train R_squared = {}'.format(r2_score(y_train, lin_reg.predict(X_train_gravity))))\n",
    "print('test R_squared = {}'.format(r2_score(y_test, lin_reg.predict(X_test_gravity))))"
   ]
  },
  {
   "cell_type": "markdown",
   "metadata": {
    "id": "rO_CStA_YPMG"
   },
   "source": [
    "## 2) $log(SCI)$ ~ exogenous variables"
   ]
  },
  {
   "cell_type": "code",
   "execution_count": 71,
   "metadata": {
    "id": "g6C0zCgZYWU2"
   },
   "outputs": [],
   "source": [
    "X = data_exog.loc[:, exog_features]\n",
    "y = data_exog.loc[:, log_SCI]\n",
    "\n",
    "categorical_features_indices = np.where(X.dtypes != np.float)[0]"
   ]
  },
  {
   "cell_type": "code",
   "execution_count": 72,
   "metadata": {
    "id": "cDtxtqpgYWcH"
   },
   "outputs": [],
   "source": [
    "X_train, X_test, y_train, y_test = train_test_split(X, y, train_size=0.8, random_state=1)"
   ]
  },
  {
   "cell_type": "code",
   "execution_count": null,
   "metadata": {},
   "outputs": [],
   "source": []
  },
  {
   "cell_type": "code",
   "execution_count": 27,
   "metadata": {},
   "outputs": [
    {
     "data": {
      "application/vnd.jupyter.widget-view+json": {
       "model_id": "30311632b33241dcbd66eb4a9041920f",
       "version_major": 2,
       "version_minor": 0
      },
      "text/plain": [
       "MetricVisualizer(layout=Layout(align_self='stretch', height='500px'))"
      ]
     },
     "metadata": {},
     "output_type": "display_data"
    }
   ],
   "source": [
    "# fit a boosting regressor with default parameters\n",
    "boosting_reg = CatBoostRegressor(custom_metric=[metrics.MAPE(), metrics.R2()], logging_level='Silent', random_state=1)\n",
    "boosting_reg.fit(X_train, y_train, cat_features=categorical_features_indices, plot=True);"
   ]
  },
  {
   "cell_type": "code",
   "execution_count": 28,
   "metadata": {},
   "outputs": [
    {
     "name": "stdout",
     "output_type": "stream",
     "text": [
      "train MAPE = 11.553017250876609%\n",
      "test MAPE = 11.90309229015608%\n",
      "train R_squared = 0.6597626418849509\n",
      "test R_squared = 0.6533325518639037\n"
     ]
    }
   ],
   "source": [
    "print('train MAPE = {}%'.format(mape(y_train.scaled_sci, boosting_reg.predict(X_train))))\n",
    "print('test MAPE = {}%'.format(mape(y_test.scaled_sci, boosting_reg.predict(X_test))))\n",
    "print('train R_squared = {}'.format(r2_score(y_train.scaled_sci, boosting_reg.predict(X_train))))\n",
    "print('test R_squared = {}'.format(r2_score(y_test.scaled_sci, boosting_reg.predict(X_test))))"
   ]
  },
  {
   "cell_type": "code",
   "execution_count": null,
   "metadata": {},
   "outputs": [],
   "source": []
  },
  {
   "cell_type": "code",
   "execution_count": 29,
   "metadata": {},
   "outputs": [
    {
     "data": {
      "application/vnd.jupyter.widget-view+json": {
       "model_id": "7679423740764bb98ea6da8d83d4ca87",
       "version_major": 2,
       "version_minor": 0
      },
      "text/plain": [
       "MetricVisualizer(layout=Layout(align_self='stretch', height='500px'))"
      ]
     },
     "metadata": {},
     "output_type": "display_data"
    }
   ],
   "source": [
    "# perform cross-validation to determine the optimal number of trees\n",
    "cv_params = boosting_reg.get_params()\n",
    "\n",
    "cv_data = cv(\n",
    "    Pool(X_train, y_train, cat_features=categorical_features_indices),\n",
    "    cv_params,\n",
    "    iterations=3000,\n",
    "    fold_count=5,\n",
    "    plot=True\n",
    ")"
   ]
  },
  {
   "cell_type": "code",
   "execution_count": null,
   "metadata": {
    "id": "KR_8Apc5c3iH"
   },
   "outputs": [],
   "source": []
  },
  {
   "cell_type": "code",
   "execution_count": 39,
   "metadata": {},
   "outputs": [],
   "source": [
    "# tune the hyperparameters\n",
    "def hyperopt_objective(params):\n",
    "    model = CatBoostRegressor(\n",
    "        l2_leaf_reg=int(params['l2_leaf_reg']),\n",
    "        learning_rate=params['learning_rate'],\n",
    "        iterations=1000,\n",
    "        eval_metric=metrics.MAPE(),\n",
    "        random_seed=1,\n",
    "        verbose=False,\n",
    "        loss_function=metrics.RMSE(),\n",
    "    )\n",
    "    \n",
    "    cv_data = cv(\n",
    "        Pool(X_train, y_train, cat_features=categorical_features_indices),\n",
    "        model.get_params()\n",
    "    )\n",
    "    \n",
    "    best_MAPE = np.min(cv_data[\"test-MAPE-mean\"])\n",
    "    \n",
    "    return best_MAPE"
   ]
  },
  {
   "cell_type": "code",
   "execution_count": 40,
   "metadata": {},
   "outputs": [
    {
     "name": "stdout",
     "output_type": "stream",
     "text": [
      "100%|███████████████████████████████████████████████| 50/50 [18:26<00:00, 22.13s/trial, best loss: 0.11892849987217069]\n"
     ]
    }
   ],
   "source": [
    "params_space = {\n",
    "    'l2_leaf_reg': hyperopt.hp.qloguniform('l2_leaf_reg', 0, 4, 1),\n",
    "    'learning_rate': hyperopt.hp.uniform('learning_rate', 1e-3, 5e-1),\n",
    "}\n",
    "\n",
    "trials = hyperopt.Trials()\n",
    "\n",
    "best = hyperopt.fmin(\n",
    "    hyperopt_objective,\n",
    "    space=params_space,\n",
    "    algo=hyperopt.tpe.suggest,\n",
    "    max_evals=50,\n",
    "    trials=trials,\n",
    "    rstate=np.random.RandomState(1)\n",
    ")"
   ]
  },
  {
   "cell_type": "code",
   "execution_count": 41,
   "metadata": {},
   "outputs": [
    {
     "data": {
      "text/plain": [
       "{'l2_leaf_reg': 1.0, 'learning_rate': 0.1316765532194309}"
      ]
     },
     "execution_count": 41,
     "metadata": {},
     "output_type": "execute_result"
    }
   ],
   "source": [
    "best"
   ]
  },
  {
   "cell_type": "code",
   "execution_count": null,
   "metadata": {},
   "outputs": [],
   "source": []
  },
  {
   "cell_type": "code",
   "execution_count": 76,
   "metadata": {},
   "outputs": [
    {
     "data": {
      "application/vnd.jupyter.widget-view+json": {
       "model_id": "5aad49b688884d17a79621e83d88f0c9",
       "version_major": 2,
       "version_minor": 0
      },
      "text/plain": [
       "MetricVisualizer(layout=Layout(align_self='stretch', height='500px'))"
      ]
     },
     "metadata": {},
     "output_type": "display_data"
    }
   ],
   "source": [
    "# fit again with tuned hyperparameters\n",
    "boosting_reg = CatBoostRegressor(\n",
    "    l2_leaf_reg=1.0, \n",
    "    learning_rate=0.1316765532194309,\n",
    "    iterations=1000,\n",
    "    custom_metric=[metrics.MAPE(), metrics.R2()], \n",
    "    logging_level='Silent', \n",
    "    random_state=1\n",
    ")\n",
    "\n",
    "boosting_reg.fit(X_train, y_train, cat_features=categorical_features_indices, plot=True);"
   ]
  },
  {
   "cell_type": "code",
   "execution_count": 77,
   "metadata": {},
   "outputs": [
    {
     "name": "stdout",
     "output_type": "stream",
     "text": [
      "train MAPE = 11.408734878153481%\n",
      "test MAPE = 11.96630713837443%\n",
      "train R_squared = 0.6670979141444966\n",
      "test R_squared = 0.6476729461198691\n"
     ]
    }
   ],
   "source": [
    "print('train MAPE = {}%'.format(mape(y_train.scaled_sci, boosting_reg.predict(X_train))))\n",
    "print('test MAPE = {}%'.format(mape(y_test.scaled_sci, boosting_reg.predict(X_test))))\n",
    "print('train R_squared = {}'.format(r2_score(y_train.scaled_sci, boosting_reg.predict(X_train))))\n",
    "print('test R_squared = {}'.format(r2_score(y_test.scaled_sci, boosting_reg.predict(X_test))))"
   ]
  },
  {
   "cell_type": "code",
   "execution_count": null,
   "metadata": {},
   "outputs": [],
   "source": []
  },
  {
   "cell_type": "code",
   "execution_count": 78,
   "metadata": {},
   "outputs": [
    {
     "name": "stdout",
     "output_type": "stream",
     "text": [
      "country_1990_same: 31.45294389906891\n",
      "distance: 10.49603259042357\n",
      "user_eu_2003: 10.382614299959943\n",
      "country_1960_same: 8.897264006859729\n",
      "log_distance: 8.678221175740664\n",
      "fr_eu_2003: 5.4762038820288685\n",
      "same_main_language: 5.200581826180633\n",
      "country_border: 4.60909550487868\n",
      "both_austro_hung_empire: 3.9703749792242653\n",
      "both_eastern_bloc: 3.5174951693348557\n",
      "country_1900_same: 3.0874606950637524\n",
      "both_uk_1900: 1.372726767872643\n",
      "both_uk_1960: 0.9879573408583664\n",
      "both_se_no_1900: 0.6740875208579684\n",
      "country_1930_same: 0.5453269975544487\n",
      "both_ru_1900: 0.28005858611898904\n",
      "country_same: 0.11987740739247789\n",
      "both_de_1900: 0.08882036256193843\n",
      "both_soviet_union: 0.0751218368783983\n",
      "both_czechoslovakia: 0.07450574364185673\n",
      "both_yugoslavia: 0.011432137214298832\n",
      "both_de_1930: 0.001797270284717889\n"
     ]
    }
   ],
   "source": [
    "# feature importances\n",
    "feature_importances = boosting_reg.get_feature_importance(\n",
    "    Pool(X_test, y_test, cat_features=categorical_features_indices), \n",
    "    type=\"PredictionValuesChange\"\n",
    ")\n",
    "\n",
    "feature_names = X_train.columns\n",
    "for score, name in sorted(zip(feature_importances, feature_names), reverse=True):\n",
    "    print('{}: {}'.format(name, score))"
   ]
  },
  {
   "cell_type": "code",
   "execution_count": 79,
   "metadata": {},
   "outputs": [
    {
     "name": "stdout",
     "output_type": "stream",
     "text": [
      "country_1990_same: 0.05440442254305833\n",
      "log_distance: 0.027892461521972667\n",
      "distance: 0.025896943335592892\n",
      "country_1900_same: 0.02111293414789328\n",
      "country_1960_same: 0.013858325973443941\n",
      "both_austro_hung_empire: 0.013352062771386342\n",
      "user_eu_2003: 0.011804364182419036\n",
      "country_border: 0.007379134674863286\n",
      "same_main_language: 0.00602970251856394\n",
      "fr_eu_2003: 0.002275302873293583\n",
      "both_se_no_1900: 0.0011920796928756028\n",
      "both_eastern_bloc: 0.0009976138468870133\n",
      "country_1930_same: 0.000986778139188793\n",
      "both_de_1900: 0.00034434004526784356\n",
      "both_uk_1900: 0.00026777290996926606\n",
      "both_yugoslavia: 0.00014383046608834604\n",
      "both_uk_1960: 8.068408111150394e-05\n",
      "both_czechoslovakia: 5.507215137934285e-05\n",
      "country_same: 3.653153111571328e-06\n",
      "both_de_1930: -3.562309182858492e-06\n",
      "both_ru_1900: -0.00014143428639157296\n",
      "both_soviet_union: -0.00035538194496331776\n"
     ]
    }
   ],
   "source": [
    "# feature importances (different method)\n",
    "feature_importances = boosting_reg.get_feature_importance(\n",
    "    Pool(X_test, y_test, cat_features=categorical_features_indices), \n",
    "    type=\"LossFunctionChange\"\n",
    ")\n",
    "\n",
    "feature_names = X_train.columns\n",
    "for score, name in sorted(zip(feature_importances, feature_names), reverse=True):\n",
    "    print('{}: {}'.format(name, score))"
   ]
  },
  {
   "cell_type": "code",
   "execution_count": null,
   "metadata": {},
   "outputs": [],
   "source": []
  },
  {
   "cell_type": "code",
   "execution_count": 44,
   "metadata": {
    "colab": {
     "base_uri": "https://localhost:8080/"
    },
    "id": "miOByLwoc_MN",
    "outputId": "40e3ab07-f162-4f84-8cbc-5424f414cadb"
   },
   "outputs": [
    {
     "data": {
      "text/plain": [
       "LinearRegression()"
      ]
     },
     "execution_count": 44,
     "metadata": {},
     "output_type": "execute_result"
    }
   ],
   "source": [
    "lin_reg = LinearRegression()\n",
    "\n",
    "lin_reg.fit(X_train, y_train)"
   ]
  },
  {
   "cell_type": "code",
   "execution_count": 45,
   "metadata": {
    "colab": {
     "base_uri": "https://localhost:8080/"
    },
    "id": "4OdNACbSdFQ2",
    "outputId": "f628dde9-49f1-41d6-db29-e4496f6351b7"
   },
   "outputs": [
    {
     "name": "stdout",
     "output_type": "stream",
     "text": [
      "train MAPE = 12.591634870545834%\n",
      "test MAPE = 12.672519870148982%\n",
      "train R_squared = 0.5981079185491187\n",
      "test R_squared = 0.6107835826711983\n"
     ]
    }
   ],
   "source": [
    "print('train MAPE = {}%'.format(mape(y_train, lin_reg.predict(X_train))[0]))\n",
    "print('test MAPE = {}%'.format(mape(y_test, lin_reg.predict(X_test))[0]))\n",
    "print('train R_squared = {}'.format(r2_score(y_train, lin_reg.predict(X_train))))\n",
    "print('test R_squared = {}'.format(r2_score(y_test, lin_reg.predict(X_test))))"
   ]
  },
  {
   "cell_type": "markdown",
   "metadata": {},
   "source": [
    "# 3) $log(SCI)$ ~ preferences + exogenous variables"
   ]
  },
  {
   "cell_type": "code",
   "execution_count": 82,
   "metadata": {},
   "outputs": [],
   "source": [
    "X = data_joint.loc[:, pref_features + exog_features]\n",
    "y = data_joint.loc[:, log_SCI]\n",
    "\n",
    "categorical_features_indices = np.where(X.dtypes != np.float)[0]"
   ]
  },
  {
   "cell_type": "code",
   "execution_count": 83,
   "metadata": {},
   "outputs": [],
   "source": [
    "X_train, X_test, y_train, y_test = train_test_split(X, y, train_size=0.8, random_state=1)"
   ]
  },
  {
   "cell_type": "code",
   "execution_count": null,
   "metadata": {},
   "outputs": [],
   "source": []
  },
  {
   "cell_type": "code",
   "execution_count": 84,
   "metadata": {},
   "outputs": [
    {
     "data": {
      "application/vnd.jupyter.widget-view+json": {
       "model_id": "b84b5d6121b540db9aba98d18d56bcba",
       "version_major": 2,
       "version_minor": 0
      },
      "text/plain": [
       "MetricVisualizer(layout=Layout(align_self='stretch', height='500px'))"
      ]
     },
     "metadata": {},
     "output_type": "display_data"
    }
   ],
   "source": [
    "# fit a boosting regressor with default parameters\n",
    "boosting_reg = CatBoostRegressor(custom_metric=[metrics.MAPE(), metrics.R2()], logging_level='Silent', random_state=1)\n",
    "boosting_reg.fit(X_train, y_train, cat_features=categorical_features_indices, plot=True);"
   ]
  },
  {
   "cell_type": "code",
   "execution_count": 85,
   "metadata": {},
   "outputs": [
    {
     "name": "stdout",
     "output_type": "stream",
     "text": [
      "train MAPE = 4.071533709526317%\n",
      "test MAPE = 5.995802888988918%\n",
      "train R_squared = 0.9548329725549245\n",
      "test R_squared = 0.9030528197500531\n"
     ]
    }
   ],
   "source": [
    "print('train MAPE = {}%'.format(mape(y_train.scaled_sci, boosting_reg.predict(X_train))))\n",
    "print('test MAPE = {}%'.format(mape(y_test.scaled_sci, boosting_reg.predict(X_test))))\n",
    "print('train R_squared = {}'.format(r2_score(y_train.scaled_sci, boosting_reg.predict(X_train))))\n",
    "print('test R_squared = {}'.format(r2_score(y_test.scaled_sci, boosting_reg.predict(X_test))))"
   ]
  },
  {
   "cell_type": "code",
   "execution_count": null,
   "metadata": {},
   "outputs": [],
   "source": []
  },
  {
   "cell_type": "code",
   "execution_count": 86,
   "metadata": {},
   "outputs": [
    {
     "data": {
      "application/vnd.jupyter.widget-view+json": {
       "model_id": "a97ad127dbf74f309e32d480872b3f5a",
       "version_major": 2,
       "version_minor": 0
      },
      "text/plain": [
       "MetricVisualizer(layout=Layout(align_self='stretch', height='500px'))"
      ]
     },
     "metadata": {},
     "output_type": "display_data"
    }
   ],
   "source": [
    "# perform cross-validation to determine the optimal number of trees\n",
    "cv_params = boosting_reg.get_params()\n",
    "\n",
    "cv_data = cv(\n",
    "    Pool(X_train, y_train, cat_features=categorical_features_indices),\n",
    "    cv_params,\n",
    "    iterations=3000,\n",
    "    fold_count=5,\n",
    "    plot=True\n",
    ")"
   ]
  },
  {
   "cell_type": "code",
   "execution_count": null,
   "metadata": {},
   "outputs": [],
   "source": []
  },
  {
   "cell_type": "code",
   "execution_count": 96,
   "metadata": {},
   "outputs": [],
   "source": [
    "# tune the hyperparameters\n",
    "def hyperopt_objective(params):\n",
    "    model = CatBoostRegressor(\n",
    "        l2_leaf_reg=int(params['l2_leaf_reg']),\n",
    "        learning_rate=params['learning_rate'],\n",
    "        iterations=2500,\n",
    "        eval_metric=metrics.MAPE(),\n",
    "        random_seed=1,\n",
    "        verbose=False,\n",
    "        loss_function=metrics.RMSE(),\n",
    "    )\n",
    "    \n",
    "    cv_data = cv(\n",
    "        Pool(X_train, y_train, cat_features=categorical_features_indices),\n",
    "        model.get_params()\n",
    "    )\n",
    "    \n",
    "    best_MAPE = np.min(cv_data[\"test-MAPE-mean\"])\n",
    "    \n",
    "    return best_MAPE"
   ]
  },
  {
   "cell_type": "code",
   "execution_count": 97,
   "metadata": {},
   "outputs": [
    {
     "name": "stdout",
     "output_type": "stream",
     "text": [
      "100%|███████████████████████████████████████████| 50/50 [5:56:48<00:00, 428.17s/trial, best loss: 0.059585526433243406]\n"
     ]
    }
   ],
   "source": [
    "params_space = {\n",
    "    'l2_leaf_reg': hyperopt.hp.qloguniform('l2_leaf_reg', 0, 4, 1),\n",
    "    'learning_rate': hyperopt.hp.uniform('learning_rate', 1e-3, 5e-1),\n",
    "}\n",
    "\n",
    "trials = hyperopt.Trials()\n",
    "\n",
    "best = hyperopt.fmin(\n",
    "    hyperopt_objective,\n",
    "    space=params_space,\n",
    "    algo=hyperopt.tpe.suggest,\n",
    "    max_evals=50,\n",
    "    trials=trials,\n",
    "    rstate=np.random.RandomState(1)\n",
    ")"
   ]
  },
  {
   "cell_type": "code",
   "execution_count": 98,
   "metadata": {},
   "outputs": [
    {
     "data": {
      "text/plain": [
       "{'l2_leaf_reg': 3.0, 'learning_rate': 0.06333624221419663}"
      ]
     },
     "execution_count": 98,
     "metadata": {},
     "output_type": "execute_result"
    }
   ],
   "source": [
    "best"
   ]
  },
  {
   "cell_type": "code",
   "execution_count": null,
   "metadata": {},
   "outputs": [],
   "source": []
  },
  {
   "cell_type": "code",
   "execution_count": 99,
   "metadata": {},
   "outputs": [
    {
     "data": {
      "application/vnd.jupyter.widget-view+json": {
       "model_id": "9452d04a343047949dc269b9171b3e76",
       "version_major": 2,
       "version_minor": 0
      },
      "text/plain": [
       "MetricVisualizer(layout=Layout(align_self='stretch', height='500px'))"
      ]
     },
     "metadata": {},
     "output_type": "display_data"
    }
   ],
   "source": [
    "# fit again with tuned hyperparameters\n",
    "boosting_reg = CatBoostRegressor(\n",
    "    l2_leaf_reg=3.0, \n",
    "    learning_rate=0.06333624221419663,\n",
    "    iterations=2500,\n",
    "    custom_metric=[metrics.MAPE(), metrics.R2()], \n",
    "    logging_level='Silent', \n",
    "    random_state=1\n",
    ")\n",
    "\n",
    "boosting_reg.fit(X_train, y_train, cat_features=categorical_features_indices, plot=True);"
   ]
  },
  {
   "cell_type": "code",
   "execution_count": 100,
   "metadata": {},
   "outputs": [
    {
     "name": "stdout",
     "output_type": "stream",
     "text": [
      "train MAPE = 2.2380851505775334%\n",
      "test MAPE = 5.514195881102879%\n",
      "train R_squared = 0.9865553766158637\n",
      "test R_squared = 0.9156461542623184\n"
     ]
    }
   ],
   "source": [
    "print('train MAPE = {}%'.format(mape(y_train.scaled_sci, boosting_reg.predict(X_train))))\n",
    "print('test MAPE = {}%'.format(mape(y_test.scaled_sci, boosting_reg.predict(X_test))))\n",
    "print('train R_squared = {}'.format(r2_score(y_train.scaled_sci, boosting_reg.predict(X_train))))\n",
    "print('test R_squared = {}'.format(r2_score(y_test.scaled_sci, boosting_reg.predict(X_test))))"
   ]
  },
  {
   "cell_type": "code",
   "execution_count": null,
   "metadata": {},
   "outputs": [],
   "source": []
  },
  {
   "cell_type": "code",
   "execution_count": 92,
   "metadata": {},
   "outputs": [
    {
     "name": "stdout",
     "output_type": "stream",
     "text": [
      "country_1990_same: 20.849295147342197\n",
      "country_1960_same: 8.44676688910983\n",
      "distance: 3.7950692762946723\n",
      "Justifiable_Claiming_government_benefits_to_which_you_are_not_entitled: 2.992372535008022\n",
      "Justifiable_Homosexuality: 2.8537143768031985\n",
      "log_distance: 2.6586100621313937\n",
      "fr_eu_2003: 2.0306652859122085\n",
      "both_austro_hung_empire: 1.6692139726137525\n",
      "Political_system_Having_a_strong_leader: 1.5262737923779761\n",
      "country_same: 1.4903684469111107\n",
      "user_eu_2003: 1.3325061228372495\n",
      "child_independence: 1.3239335392623777\n",
      "country_border: 1.3076287443069265\n",
      "Religious_denomination: 1.244459966194858\n",
      "Trust_Your_family_(B): 1.2434670622937052\n",
      "Trust_People_you_know_personally_(B): 1.1951427480766736\n",
      "Neighbours_Homosexuals: 1.1934136345317448\n",
      "It_is_childs_duty_to_take_care_of_ill_parent: 1.1167460672818956\n",
      "Justifiable_Prostitution: 0.9621435570741517\n",
      "Less_importance_placed_on_work: 0.947650209877854\n",
      "child_hard_work: 0.9356455666821717\n",
      "country_1900_same: 0.9206281664044281\n",
      "Neighbours_Immigrants: 0.905857355500466\n",
      "same_main_language: 0.845749938643261\n",
      "Government_has_the_right_Collect_information_about_anyone_living_in_COUNTRY: 0.8416914608584398\n",
      "Pray_to_God_outside_of_religious_services_(EVS5): 0.8261969669551096\n",
      "How_often_do_you_attend_religious_services: 0.8071239596533807\n",
      "Greater_respect_for_authority: 0.6929472755181322\n",
      "Most_people_can_be_trusted: 0.6652620316346933\n",
      "Trust_Your_neighborhood_(B): 0.6356060529658351\n",
      "Neighbours_different_race: 0.620468906997234\n",
      "Happiness: 0.6039205925540885\n",
      "Justifiable_Euthanasia: 0.5925109045596467\n",
      "attending_peaceful_demonstrations: 0.577006345573373\n",
      "child_feeling_of_responsibility: 0.5444078477337216\n",
      "both_uk_1900: 0.530961118476331\n",
      "both_se_no_1900: 0.5260941219839941\n",
      "Justifiable_Death_penalty: 0.5259347988482109\n",
      "Justifiable_Having_casual_sex: 0.48681087183603655\n",
      "Believe_in_God: 0.48262727576266223\n",
      "child_tolerance: 0.4699849506629205\n",
      "Justifiable_Avoiding_a_fare_on_public_transport: 0.4561827754371683\n",
      "Homosexual_couples_are_as_good_parents_as_other_couples: 0.44711112141607523\n",
      "How_often_in_country_elections_TV_news_favors_the_governing_party: 0.4406254582062539\n",
      "Democracy_People_receive_state_aid_for_unemployment: 0.44046655809559304\n",
      "Neighbours_Drug_addicts: 0.42276141748938584\n",
      "Employers_should_give_priority_to_(nation)_people_than_immigrants_(5_point): 0.4181399393232096\n",
      "How_often_in_country_elections_Election_officials_are_fair: 0.402036575812842\n",
      "How_close_do_you_feel_to_your_county_region_district: 0.4010155305682598\n",
      "Evaluate_the_impact_of_immigrants_on_the_development_of_your_country: 0.3988810336856907\n",
      "Confidence_Labour_Unions: 0.39864600521483073\n",
      "How_often_in_country_elections_Votes_are_counted_fairly: 0.39711751709606113\n",
      "joining_unofficial_strikes: 0.3946605156266522\n",
      "child_obedience: 0.38113833060558505\n",
      "Religious_person: 0.37766285042588194\n",
      "Confidence_Churches: 0.36846601373999727\n",
      "Justifiable_Someone_accepting_a_bribe: 0.3618753444461247\n",
      "both_uk_1960: 0.3615534320309702\n",
      "Private_vs_state_ownership_of_business: 0.3614774063334883\n",
      "signing_a_petition: 0.3546741463740337\n",
      "How_often_in_country_elections_Rich_people_buy_elections: 0.35250036747794866\n",
      "How_often_in_country_elections_Voters_are_threatened_with_violence: 0.34396112045217103\n",
      "child_good_manners: 0.33946465744869697\n",
      "joining_in_boycotts: 0.3385552083276955\n",
      "How_close_do_you_feel_to_country: 0.3299931702103276\n",
      "How_close_you_feel_Continent: 0.32739309589588445\n",
      "Confidence_The_United_Nations: 0.3251013480921918\n",
      "child_determination_perseverance: 0.32489337071668295\n",
      "Religion: 0.31805629371331423\n",
      "child_religious_faith: 0.3146058103103815\n",
      "child_unselfishness: 0.30719735104614837\n",
      "One_of_main_goals_in_life_has_been_to_make_my_parents_proud: 0.2988667173970617\n",
      "Confidence_Armed_Forces: 0.2966622660001898\n",
      "Democracy_People_obey_their_rulers: 0.29647453133973906\n",
      "Interest_in_politics: 0.2862568999512609\n",
      "People_who_do_not_work_turn_lazy: 0.27308261763469205\n",
      "Government_has_the_right_Keep_people_under_video_surveillance_in_public_areas: 0.27212956071100014\n",
      "Men_should_have_more_right_to_a_job_than_women: 0.2642165745039248\n",
      "Justifiable_Suicide: 0.2622704597751971\n",
      "Willingness_to_fight_for_country: 0.25949727548915796\n",
      "Work: 0.25432244039483587\n",
      "How_often_in_country_elections_Voters_are_bribed: 0.24886463044026336\n",
      "Satisfaction_with_life: 0.2473871323390092\n",
      "Justifiable_Political_violence: 0.2374094739359345\n",
      "Family: 0.23729626233658313\n",
      "Men_make_better_political_leaders_than_women: 0.23505019170119076\n",
      "Democracy_The_army_takes_over_when_government_is_incompetent: 0.22703427193042575\n",
      "Democracy_The_state_makes_incomes_equal: 0.22475151448898206\n",
      "Neighbours_Heavy_drinkers: 0.22162635628026403\n",
      "Importance_of_democracy: 0.2203960822523528\n",
      "Income_equality: 0.2149587871783787\n",
      "Trust_People_of_another_nationality_(B): 0.21287196692525057\n",
      "Vote_in_elections_local_level: 0.21274175787024258\n",
      "Democracy_Governments_tax_the_rich_and_subsidize_the_poor: 0.20612555955087056\n",
      "Work_should_come_first_even_if_it_means_less_spare_time: 0.20566906812475433\n",
      "Justifiable_Abortion: 0.20440879909550244\n",
      "Aims_of_country_second_choice: 0.20377608168734945\n",
      "Duty_towards_society_to_have_children: 0.20317695350745088\n",
      "Confidence_The_Environmental_Protection_Movement: 0.20164327228450965\n",
      "Politics: 0.20148526802463954\n",
      "Confidence_The_Civil_Services: 0.20124558595716774\n",
      "Government_responsibility: 0.1988638775916821\n",
      "How_close_you_feel_Your_village_town_or_city: 0.19851311594302642\n",
      "Vote_in_elections_National_level: 0.19797523288255364\n",
      "Political_system_Having_experts_make_decisions: 0.19525259164858244\n",
      "Aims_of_country_first_choice: 0.1924177107476088\n",
      "Satisfaction_with_the_political_system: 0.19053006725435293\n",
      "both_eastern_bloc: 0.18841146679371787\n",
      "country_1930_same: 0.18783070397503857\n",
      "Confidence_The_Press: 0.1866536258200991\n",
      "child_thrift_saving_money: 0.1863565507073834\n",
      "Believe_in_life_after_death: 0.18524404060056476\n",
      "Pre-school_child_suffers_with_working_mother: 0.18220826425624156\n",
      "Believe_in_hell: 0.17894552173132397\n",
      "Aims_of_respondent_first_choice: 0.17273366111389843\n",
      "Post-Materialist_index_4-item: 0.17103883999232497\n",
      "Friends: 0.1672883763735895\n",
      "Confidence_The_Police: 0.16195830163501615\n",
      "Democracy_Women_have_the_same_rights_as_men: 0.1577896297134262\n",
      "Employers_should_give_priority_to_(nation)_people_than_immigrants: 0.14996829615914578\n",
      "Believe_in_heaven: 0.1458756939862789\n",
      "Political_system_Having_the_army_rule: 0.144033909151982\n",
      "Democracy_Religious_authorities_interpret_the_laws: 0.14359695092179087\n",
      "Confidence_Major_Companies: 0.1397664028124856\n",
      "Confidence_Major_regional_organization: 0.13602098628146703\n",
      "Trust_People_of_another_religion_(B): 0.1345597029863634\n",
      "Competition_good_or_harmful: 0.13098256203852554\n",
      "Men_should_have_more_right_to_a_job_than_women_(5-point_scale): 0.12758948792654076\n",
      "How_often_in_country_elections_Journalists_provide_fair_coverage_of_elections: 0.1274084245935866\n",
      "Democraticness_in_own_country: 0.12712972837931602\n",
      "University_is_more_important_for_a_boy_than_for_a_girl: 0.12533082692784042\n",
      "Men_make_better_business_executives_than_women: 0.12368524157561657\n",
      "Political_system_Having_a_democratic_political_system: 0.12104004101203525\n",
      "How_close_you_feel_World: 0.11942751799274412\n",
      "Freedom_of_choice: 0.11493938536212156\n",
      "How_proud_of_nationality: 0.11372885943490427\n",
      "Trust_People_you_meet_for_the_first_time_(B): 0.11266102011823201\n",
      "Work_is_a_duty_towards_society: 0.11235450520559354\n",
      "child_imagination: 0.11195051002081086\n",
      "How_often_in_country_elections_Opposition_candidates_are_prevented_from_runni: 0.11188402297244057\n",
      "Self_positioning_in_political_scale: 0.11137723727125692\n",
      "Aims_of_respondent_second_choice: 0.11072107811595439\n",
      "Justifiable_Cheating_on_taxes: 0.11055381343697346\n",
      "Democracy_People_choose_their_leaders_in_free_elections: 0.11012193143642823\n",
      "Confidence_Justice_System: 0.11006475671849753\n",
      "Government_has_the_right_Monitor_all_e-mails_and_any_other_information_exchange: 0.10838057506903215\n",
      "Democracy_Civil_rights_protect_liberty_against_oppression: 0.1074147191507227\n",
      "Justifiable_Divorce: 0.10692170008397932\n",
      "Confidence_Parliament: 0.09770455773484632\n",
      "Protecting_environment_vs_Economic_growth: 0.09026487476753672\n",
      "Confidence_The_Government: 0.08557819521976709\n",
      "Confidence_The_Political_Parties: 0.07876125011826361\n",
      "Confidence_The_European_Union: 0.07789147038869121\n",
      "How_important_is_God_in_your_life: 0.07060257624895\n",
      "Leisure_time: 0.05996157383780261\n",
      "both_ru_1900: 0.03047312081675694\n",
      "both_czechoslovakia: 0.0032685179120091864\n",
      "both_de_1900: 0.0012023262585272897\n",
      "both_yugoslavia: 0.0\n",
      "both_soviet_union: 0.0\n",
      "both_de_1930: 0.0\n"
     ]
    }
   ],
   "source": [
    "# feature importances\n",
    "feature_importances = boosting_reg.get_feature_importance(\n",
    "    Pool(X_test, y_test, cat_features=categorical_features_indices), \n",
    "    type=\"PredictionValuesChange\"\n",
    ")\n",
    "\n",
    "feature_names = X_train.columns\n",
    "for score, name in sorted(zip(feature_importances, feature_names), reverse=True):\n",
    "    print('{}: {}'.format(name, score))"
   ]
  },
  {
   "cell_type": "code",
   "execution_count": 93,
   "metadata": {},
   "outputs": [
    {
     "name": "stdout",
     "output_type": "stream",
     "text": [
      "country_1990_same: 0.11191031933968204\n",
      "distance: 0.08449466448817305\n",
      "country_1960_same: 0.05360735111443288\n",
      "log_distance: 0.043240763766623724\n",
      "Justifiable_Claiming_government_benefits_to_which_you_are_not_entitled: 0.021801374927673534\n",
      "Justifiable_Homosexuality: 0.016032983567858428\n",
      "both_austro_hung_empire: 0.01571700862601355\n",
      "Neighbours_Homosexuals: 0.010418900683716814\n",
      "Political_system_Having_a_strong_leader: 0.009500341281180491\n",
      "Pray_to_God_outside_of_religious_services_(EVS5): 0.008567724062215787\n",
      "country_border: 0.008509100483506393\n",
      "country_1900_same: 0.008500974048050336\n",
      "Trust_Your_family_(B): 0.007114639666066014\n",
      "Neighbours_Immigrants: 0.006985947381761726\n",
      "Trust_People_you_know_personally_(B): 0.006423423445196974\n",
      "child_independence: 0.006219388026534822\n",
      "Religious_denomination: 0.00610884956161456\n",
      "same_main_language: 0.005726538055209673\n",
      "fr_eu_2003: 0.005587489475730512\n",
      "both_se_no_1900: 0.005557469545233784\n",
      "child_hard_work: 0.0052067251321459285\n",
      "user_eu_2003: 0.0044718683466302145\n",
      "It_is_childs_duty_to_take_care_of_ill_parent: 0.00420236608008534\n",
      "Trust_Your_neighborhood_(B): 0.0039298240341832935\n",
      "How_often_do_you_attend_religious_services: 0.0035783838600788043\n",
      "Government_has_the_right_Collect_information_about_anyone_living_in_COUNTRY: 0.00348424452404017\n",
      "attending_peaceful_demonstrations: 0.0032153421826672246\n",
      "Less_importance_placed_on_work: 0.003089773888565961\n",
      "Employers_should_give_priority_to_(nation)_people_than_immigrants_(5_point): 0.002947949867855182\n",
      "Justifiable_Avoiding_a_fare_on_public_transport: 0.0028438281454929437\n",
      "Confidence_Churches: 0.0027457564003250945\n",
      "Happiness: 0.0026812770157707555\n",
      "Justifiable_Prostitution: 0.0025958702178816573\n",
      "Justifiable_Euthanasia: 0.0025762648843666303\n",
      "country_same: 0.002515156634383564\n",
      "Greater_respect_for_authority: 0.0025009870767833675\n",
      "Most_people_can_be_trusted: 0.0024698556058430077\n",
      "Neighbours_different_race: 0.0023805682518759363\n",
      "How_often_in_country_elections_Voters_are_bribed: 0.002270176474878094\n",
      "child_obedience: 0.0022049843616526177\n",
      "Justifiable_Having_casual_sex: 0.0021875415810241883\n",
      "Private_vs_state_ownership_of_business: 0.002180802190683284\n",
      "joining_in_boycotts: 0.002070751348034583\n",
      "child_determination_perseverance: 0.0019952632817821225\n",
      "How_close_do_you_feel_to_country: 0.0018217969524564892\n",
      "Justifiable_Death_penalty: 0.0017847083434869293\n",
      "Interest_in_politics: 0.001783766289393196\n",
      "child_tolerance: 0.0017588494291684298\n",
      "Evaluate_the_impact_of_immigrants_on_the_development_of_your_country: 0.001745899022653985\n",
      "both_uk_1900: 0.0017303862200932496\n",
      "How_often_in_country_elections_TV_news_favors_the_governing_party: 0.00168701281447442\n",
      "child_feeling_of_responsibility: 0.0016223942800470126\n",
      "Income_equality: 0.0015661915342888855\n",
      "How_close_you_feel_Continent: 0.0015224282585570847\n",
      "One_of_main_goals_in_life_has_been_to_make_my_parents_proud: 0.0014796687848747658\n",
      "Homosexual_couples_are_as_good_parents_as_other_couples: 0.0014749168222760733\n",
      "How_often_in_country_elections_Rich_people_buy_elections: 0.0014570951017546796\n",
      "Neighbours_Drug_addicts: 0.0013990728328620583\n",
      "People_who_do_not_work_turn_lazy: 0.0012850925446042383\n",
      "Satisfaction_with_life: 0.0012063379322131973\n",
      "Family: 0.0011921687568883788\n",
      "Confidence_Armed_Forces: 0.0011689083848556159\n",
      "Believe_in_God: 0.0011448177198389864\n",
      "signing_a_petition: 0.0011025397129569847\n",
      "Men_should_have_more_right_to_a_job_than_women: 0.0011011941459423968\n",
      "Willingness_to_fight_for_country: 0.0010906681025470988\n",
      "Confidence_Labour_Unions: 0.0010656310466468644\n",
      "How_often_in_country_elections_Voters_are_threatened_with_violence: 0.001019268695768183\n",
      "Confidence_The_United_Nations: 0.0010180591405795636\n",
      "Justifiable_Suicide: 0.0010174452865783223\n",
      "How_close_do_you_feel_to_your_county_region_district: 0.0009951263612137384\n",
      "Politics: 0.0009815770693972214\n",
      "Aims_of_country_first_choice: 0.0009815569598325413\n",
      "Neighbours_Heavy_drinkers: 0.0009737229410434756\n",
      "Justifiable_Someone_accepting_a_bribe: 0.0009726283030576655\n",
      "country_1930_same: 0.0009654072771225763\n",
      "child_unselfishness: 0.0009620968105753525\n",
      "How_often_in_country_elections_Votes_are_counted_fairly: 0.0009540007731759781\n",
      "How_close_you_feel_Your_village_town_or_city: 0.0009429842085576512\n",
      "Believe_in_life_after_death: 0.0009317969622842925\n",
      "Importance_of_democracy: 0.0009003831387816574\n",
      "Men_make_better_political_leaders_than_women: 0.0008951629187558541\n",
      "Work_should_come_first_even_if_it_means_less_spare_time: 0.0008852362221997145\n",
      "child_religious_faith: 0.000883682981678402\n",
      "Religious_person: 0.0008705875481206937\n",
      "Government_responsibility: 0.0008684077116337674\n",
      "Post-Materialist_index_4-item: 0.0008610817916997471\n",
      "How_often_in_country_elections_Election_officials_are_fair: 0.0008413828402761281\n",
      "Trust_People_of_another_nationality_(B): 0.0008395978678871763\n",
      "Friends: 0.0008314067962627569\n",
      "Aims_of_respondent_first_choice: 0.0008186200047398118\n",
      "Duty_towards_society_to_have_children: 0.0008148356673172152\n",
      "Confidence_The_Environmental_Protection_Movement: 0.0007915795828774552\n",
      "Democracy_The_army_takes_over_when_government_is_incompetent: 0.000785609930672726\n",
      "Confidence_The_Police: 0.0007852214991154738\n",
      "Believe_in_hell: 0.0007847111141229823\n",
      "Political_system_Having_the_army_rule: 0.0007776511302968192\n",
      "Democracy_People_obey_their_rulers: 0.0007527736820670539\n",
      "Government_has_the_right_Keep_people_under_video_surveillance_in_public_areas: 0.0007453435980401824\n",
      "Aims_of_country_second_choice: 0.0007028209202012414\n",
      "Confidence_The_Civil_Services: 0.0006983263014680441\n",
      "Employers_should_give_priority_to_(nation)_people_than_immigrants: 0.0006849715685525726\n",
      "Vote_in_elections_local_level: 0.0006342664023792355\n",
      "both_uk_1960: 0.0006141925342358356\n",
      "child_thrift_saving_money: 0.000607458740279565\n",
      "Work: 0.0006070133362328645\n",
      "Democracy_Governments_tax_the_rich_and_subsidize_the_poor: 0.0006022711151423277\n",
      "Confidence_Justice_System: 0.000599783905516571\n",
      "Democracy_People_receive_state_aid_for_unemployment: 0.0005946036573547531\n",
      "both_eastern_bloc: 0.0005865876410156012\n",
      "Political_system_Having_experts_make_decisions: 0.0005814102436843549\n",
      "Confidence_Parliament: 0.0005794449155570036\n",
      "Justifiable_Cheating_on_taxes: 0.0005645877086670192\n",
      "Democraticness_in_own_country: 0.00056303817266945\n",
      "Men_make_better_business_executives_than_women: 0.0005513087167718922\n",
      "Justifiable_Political_violence: 0.0005417382813746041\n",
      "Democracy_Civil_rights_protect_liberty_against_oppression: 0.0005353755726481557\n",
      "Satisfaction_with_the_political_system: 0.0005179265552716084\n",
      "Democracy_The_state_makes_incomes_equal: 0.0005146223158967178\n",
      "Democracy_Women_have_the_same_rights_as_men: 0.0005127258181243932\n",
      "Believe_in_heaven: 0.0005091807334786091\n",
      "Self_positioning_in_political_scale: 0.0004925068911639796\n",
      "Competition_good_or_harmful: 0.0004717897607102728\n",
      "Confidence_Major_regional_organization: 0.0004690319608249838\n",
      "How_close_you_feel_World: 0.00046536088808329934\n",
      "Aims_of_respondent_second_choice: 0.00046469778831748076\n",
      "child_good_manners: 0.00046454847150784184\n",
      "Confidence_The_Press: 0.00043530951019427055\n",
      "Vote_in_elections_National_level: 0.000424034485292879\n",
      "How_often_in_country_elections_Journalists_provide_fair_coverage_of_elections: 0.00042286099238791897\n",
      "How_proud_of_nationality: 0.00041065751664876027\n",
      "Trust_People_you_meet_for_the_first_time_(B): 0.0003870930408054196\n",
      "Work_is_a_duty_towards_society: 0.0003744755069805539\n",
      "Democracy_Religious_authorities_interpret_the_laws: 0.0003592653149713798\n",
      "joining_unofficial_strikes: 0.00035289449463010714\n",
      "Religion: 0.0003492770659834221\n",
      "Trust_People_of_another_religion_(B): 0.0003417618564426905\n",
      "Confidence_The_Government: 0.0003362469984841132\n",
      "child_imagination: 0.0003358403250031672\n",
      "both_ru_1900: 0.00032222709063589594\n",
      "University_is_more_important_for_a_boy_than_for_a_girl: 0.00031903851370973513\n",
      "Justifiable_Abortion: 0.0003186213948845329\n",
      "Democracy_People_choose_their_leaders_in_free_elections: 0.0003097204514415086\n",
      "Pre-school_child_suffers_with_working_mother: 0.0003052246189365615\n",
      "Men_should_have_more_right_to_a_job_than_women_(5-point_scale): 0.00028827564637745606\n",
      "Freedom_of_choice: 0.0002428136249990609\n",
      "Confidence_The_European_Union: 0.0002296846219158044\n",
      "Protecting_environment_vs_Economic_growth: 0.00021822829309020575\n",
      "How_often_in_country_elections_Opposition_candidates_are_prevented_from_runni: 0.00020814197097196452\n",
      "Justifiable_Divorce: 0.00016637248027850937\n",
      "Confidence_The_Political_Parties: 0.00016338935461385207\n",
      "Political_system_Having_a_democratic_political_system: 0.0001396681098581598\n",
      "How_important_is_God_in_your_life: 0.00013840395041636588\n",
      "Leisure_time: 0.0001190942858066979\n",
      "Government_has_the_right_Monitor_all_e-mails_and_any_other_information_exchange: 0.00010443359820255793\n",
      "both_czechoslovakia: 4.7519123665962226e-05\n",
      "Confidence_Major_Companies: 2.7205184216783085e-05\n",
      "both_de_1900: 1.1676394305826232e-05\n",
      "both_yugoslavia: 0.0\n",
      "both_soviet_union: 0.0\n",
      "both_de_1930: 0.0\n"
     ]
    }
   ],
   "source": [
    "# feature importances (different method)\n",
    "feature_importances = boosting_reg.get_feature_importance(\n",
    "    Pool(X_test, y_test, cat_features=categorical_features_indices), \n",
    "    type=\"LossFunctionChange\"\n",
    ")\n",
    "\n",
    "feature_names = X_train.columns\n",
    "for score, name in sorted(zip(feature_importances, feature_names), reverse=True):\n",
    "    print('{}: {}'.format(name, score))"
   ]
  },
  {
   "cell_type": "code",
   "execution_count": null,
   "metadata": {},
   "outputs": [],
   "source": []
  },
  {
   "cell_type": "code",
   "execution_count": 94,
   "metadata": {},
   "outputs": [
    {
     "data": {
      "text/plain": [
       "LinearRegression()"
      ]
     },
     "execution_count": 94,
     "metadata": {},
     "output_type": "execute_result"
    }
   ],
   "source": [
    "lin_reg = LinearRegression()\n",
    "\n",
    "lin_reg.fit(X_train, y_train)"
   ]
  },
  {
   "cell_type": "code",
   "execution_count": 95,
   "metadata": {},
   "outputs": [
    {
     "name": "stdout",
     "output_type": "stream",
     "text": [
      "train MAPE = 9.636729448719155%\n",
      "test MAPE = 9.756911901510495%\n",
      "train R_squared = 0.7519636225258275\n",
      "test R_squared = 0.7585671966113464\n"
     ]
    }
   ],
   "source": [
    "print('train MAPE = {}%'.format(mape(y_train, lin_reg.predict(X_train))[0]))\n",
    "print('test MAPE = {}%'.format(mape(y_test, lin_reg.predict(X_test))[0]))\n",
    "print('train R_squared = {}'.format(r2_score(y_train, lin_reg.predict(X_train))))\n",
    "print('test R_squared = {}'.format(r2_score(y_test, lin_reg.predict(X_test))))"
   ]
  },
  {
   "cell_type": "markdown",
   "metadata": {},
   "source": [
    "# 4) $log(SCI)$ ~ uniform placebo"
   ]
  },
  {
   "cell_type": "code",
   "execution_count": 23,
   "metadata": {},
   "outputs": [],
   "source": [
    "X = data_uniform_placebo.loc[:, pref_features]\n",
    "y = data_uniform_placebo.loc[:, log_SCI]"
   ]
  },
  {
   "cell_type": "code",
   "execution_count": 24,
   "metadata": {},
   "outputs": [],
   "source": [
    "X_train, X_test, y_train, y_test = train_test_split(X, y, train_size=0.8, random_state=1)"
   ]
  },
  {
   "cell_type": "code",
   "execution_count": null,
   "metadata": {},
   "outputs": [],
   "source": []
  },
  {
   "cell_type": "code",
   "execution_count": 25,
   "metadata": {},
   "outputs": [
    {
     "data": {
      "application/vnd.jupyter.widget-view+json": {
       "model_id": "a80f0a683a1349689558bcda30d71259",
       "version_major": 2,
       "version_minor": 0
      },
      "text/plain": [
       "MetricVisualizer(layout=Layout(align_self='stretch', height='500px'))"
      ]
     },
     "metadata": {},
     "output_type": "display_data"
    }
   ],
   "source": [
    "# fit a boosting regressor with default parameters\n",
    "boosting_reg = CatBoostRegressor(custom_metric=[metrics.MAPE(), metrics.R2()], logging_level='Silent', random_state=1)\n",
    "boosting_reg.fit(X_train, y_train, plot=True);"
   ]
  },
  {
   "cell_type": "code",
   "execution_count": 26,
   "metadata": {},
   "outputs": [
    {
     "name": "stdout",
     "output_type": "stream",
     "text": [
      "train MAPE = 12.724787114820119%\n",
      "test MAPE = 18.02596663983792%\n",
      "train R_squared = 0.5071602982109926\n",
      "test R_squared = -0.024999716440471387\n"
     ]
    }
   ],
   "source": [
    "print('train MAPE = {}%'.format(mape(y_train.scaled_sci, boosting_reg.predict(X_train))))\n",
    "print('test MAPE = {}%'.format(mape(y_test.scaled_sci, boosting_reg.predict(X_test))))\n",
    "print('train R_squared = {}'.format(r2_score(y_train.scaled_sci, boosting_reg.predict(X_train))))\n",
    "print('test R_squared = {}'.format(r2_score(y_test.scaled_sci, boosting_reg.predict(X_test))))"
   ]
  },
  {
   "cell_type": "code",
   "execution_count": null,
   "metadata": {},
   "outputs": [],
   "source": []
  },
  {
   "cell_type": "code",
   "execution_count": 27,
   "metadata": {},
   "outputs": [],
   "source": [
    "lin_reg = LinearRegression()\n",
    "\n",
    "lin_reg.fit(X_train, y_train);"
   ]
  },
  {
   "cell_type": "code",
   "execution_count": 28,
   "metadata": {},
   "outputs": [
    {
     "name": "stdout",
     "output_type": "stream",
     "text": [
      "train MAPE = 17.433482072684647%\n",
      "test MAPE = 17.829415568085718%\n",
      "train R_squared = 0.007202702224818003\n",
      "test R_squared = -0.009151475108923668\n"
     ]
    }
   ],
   "source": [
    "print('train MAPE = {}%'.format(mape(y_train, lin_reg.predict(X_train))[0]))\n",
    "print('test MAPE = {}%'.format(mape(y_test, lin_reg.predict(X_test))[0]))\n",
    "print('train R_squared = {}'.format(r2_score(y_train, lin_reg.predict(X_train))))\n",
    "print('test R_squared = {}'.format(r2_score(y_test, lin_reg.predict(X_test))))"
   ]
  },
  {
   "cell_type": "markdown",
   "metadata": {},
   "source": [
    "# 4) $log(SCI)$ ~ normal placebo"
   ]
  },
  {
   "cell_type": "code",
   "execution_count": 13,
   "metadata": {},
   "outputs": [],
   "source": [
    "X = data_uniform_placebo.loc[:, pref_features]\n",
    "y = data_uniform_placebo.loc[:, log_SCI]"
   ]
  },
  {
   "cell_type": "code",
   "execution_count": 14,
   "metadata": {},
   "outputs": [],
   "source": [
    "X_train, X_test, y_train, y_test = train_test_split(X, y, train_size=0.8, random_state=1)"
   ]
  },
  {
   "cell_type": "code",
   "execution_count": null,
   "metadata": {},
   "outputs": [],
   "source": []
  },
  {
   "cell_type": "code",
   "execution_count": 15,
   "metadata": {},
   "outputs": [
    {
     "data": {
      "application/vnd.jupyter.widget-view+json": {
       "model_id": "8ec7a9cac61a4c258551987bc0c051d4",
       "version_major": 2,
       "version_minor": 0
      },
      "text/plain": [
       "MetricVisualizer(layout=Layout(align_self='stretch', height='500px'))"
      ]
     },
     "metadata": {},
     "output_type": "display_data"
    }
   ],
   "source": [
    "# fit a boosting regressor with default parameters\n",
    "boosting_reg = CatBoostRegressor(custom_metric=[metrics.MAPE(), metrics.R2()], logging_level='Silent', random_state=1)\n",
    "boosting_reg.fit(X_train, y_train, plot=True);"
   ]
  },
  {
   "cell_type": "code",
   "execution_count": 18,
   "metadata": {},
   "outputs": [
    {
     "name": "stdout",
     "output_type": "stream",
     "text": [
      "train MAPE = 12.724787114820076%\n",
      "test MAPE = 18.025966639837932%\n",
      "train R_squared = 0.5071602982109926\n",
      "test R_squared = -0.024999716440471387\n"
     ]
    }
   ],
   "source": [
    "print('train MAPE = {}%'.format(mape(y_train.scaled_sci, boosting_reg.predict(X_train))))\n",
    "print('test MAPE = {}%'.format(mape(y_test.scaled_sci, boosting_reg.predict(X_test))))\n",
    "print('train R_squared = {}'.format(r2_score(y_train.scaled_sci, boosting_reg.predict(X_train))))\n",
    "print('test R_squared = {}'.format(r2_score(y_test.scaled_sci, boosting_reg.predict(X_test))))"
   ]
  },
  {
   "cell_type": "code",
   "execution_count": null,
   "metadata": {},
   "outputs": [],
   "source": []
  },
  {
   "cell_type": "code",
   "execution_count": 19,
   "metadata": {},
   "outputs": [],
   "source": [
    "lin_reg = LinearRegression()\n",
    "\n",
    "lin_reg.fit(X_train, y_train);"
   ]
  },
  {
   "cell_type": "code",
   "execution_count": 20,
   "metadata": {},
   "outputs": [
    {
     "name": "stdout",
     "output_type": "stream",
     "text": [
      "train MAPE = 17.433482072684644%\n",
      "test MAPE = 17.8294155680857%\n",
      "train R_squared = 0.007202702224818003\n",
      "test R_squared = -0.009151475108923668\n"
     ]
    }
   ],
   "source": [
    "print('train MAPE = {}%'.format(mape(y_train, lin_reg.predict(X_train))[0]))\n",
    "print('test MAPE = {}%'.format(mape(y_test, lin_reg.predict(X_test))[0]))\n",
    "print('train R_squared = {}'.format(r2_score(y_train, lin_reg.predict(X_train))))\n",
    "print('test R_squared = {}'.format(r2_score(y_test, lin_reg.predict(X_test))))"
   ]
  },
  {
   "cell_type": "code",
   "execution_count": null,
   "metadata": {},
   "outputs": [],
   "source": []
  }
 ],
 "metadata": {
  "colab": {
   "collapsed_sections": [],
   "name": "predict_SCI.ipynb",
   "provenance": []
  },
  "finalized": {
   "timestamp": 1629793008484,
   "trusted": false
  },
  "kernelspec": {
   "display_name": "Python 3",
   "language": "python",
   "name": "python3"
  },
  "language_info": {
   "codemirror_mode": {
    "name": "ipython",
    "version": 3
   },
   "file_extension": ".py",
   "mimetype": "text/x-python",
   "name": "python",
   "nbconvert_exporter": "python",
   "pygments_lexer": "ipython3",
   "version": "3.8.11"
  },
  "require": {
   "paths": {
    "buttons.colvis": "https://cdn.datatables.net/buttons/1.5.6/js/buttons.colVis.min",
    "buttons.flash": "https://cdn.datatables.net/buttons/1.5.6/js/buttons.flash.min",
    "buttons.html5": "https://cdn.datatables.net/buttons/1.5.6/js/buttons.html5.min",
    "buttons.print": "https://cdn.datatables.net/buttons/1.5.6/js/buttons.print.min",
    "chartjs": "https://cdnjs.cloudflare.com/ajax/libs/Chart.js/2.8.0/Chart",
    "d3": "https://d3js.org/d3.v5.min",
    "d3-array": "https://d3js.org/d3-array.v2.min",
    "datatables.net": "https://cdn.datatables.net/1.10.18/js/jquery.dataTables",
    "datatables.net-buttons": "https://cdn.datatables.net/buttons/1.5.6/js/dataTables.buttons.min",
    "datatables.responsive": "https://cdn.datatables.net/responsive/2.2.2/js/dataTables.responsive.min",
    "datatables.scroller": "https://cdn.datatables.net/scroller/2.0.0/js/dataTables.scroller.min",
    "datatables.select": "https://cdn.datatables.net/select/1.3.0/js/dataTables.select.min",
    "jszip": "https://cdnjs.cloudflare.com/ajax/libs/jszip/2.5.0/jszip.min",
    "moment": "https://cdnjs.cloudflare.com/ajax/libs/moment.js/2.8.0/moment",
    "pdfmake": "https://cdnjs.cloudflare.com/ajax/libs/pdfmake/0.1.36/pdfmake.min",
    "vfsfonts": "https://cdnjs.cloudflare.com/ajax/libs/pdfmake/0.1.36/vfs_fonts"
   },
   "shim": {
    "buttons.colvis": {
     "deps": [
      "jszip",
      "datatables.net-buttons"
     ]
    },
    "buttons.flash": {
     "deps": [
      "jszip",
      "datatables.net-buttons"
     ]
    },
    "buttons.html5": {
     "deps": [
      "jszip",
      "datatables.net-buttons"
     ]
    },
    "buttons.print": {
     "deps": [
      "jszip",
      "datatables.net-buttons"
     ]
    },
    "chartjs": {
     "deps": [
      "moment"
     ]
    },
    "datatables.net": {
     "exports": "$.fn.dataTable"
    },
    "datatables.net-buttons": {
     "deps": [
      "datatables.net"
     ]
    },
    "pdfmake": {
     "deps": [
      "datatables.net"
     ]
    },
    "vfsfonts": {
     "deps": [
      "datatables.net"
     ]
    }
   }
  },
  "widgets": {
   "application/vnd.jupyter.widget-state+json": {
    "fa2ba1fb1a294ed89a5980740fdd2a91": {
     "model_module": "catboost-widget",
     "model_module_version": "^1.0.0",
     "model_name": "CatboostWidgetModel",
     "state": {
      "_dom_classes": [],
      "_model_module": "catboost-widget",
      "_model_module_version": "^1.0.0",
      "_model_name": "CatboostWidgetModel",
      "_view_count": null,
      "_view_module": "catboost-widget",
      "_view_module_version": "^1.0.0",
      "_view_name": "CatboostWidgetView",
      "data": {
       "catboost_info": {
        "content": {
         "data": {
          "iterations": [
           {
            "iteration": 0,
            "learn": [
             0.4999561616
            ],
            "parameters": [
             {
              "iterations": 500,
              "learning_rate": 0.1
             }
            ],
            "passed_time": 17.748682,
            "remaining_time": 53.246046,
            "test": [
             0.7144601453
            ]
           },
           {
            "iteration": 1,
            "learn": [
             0.2473522337
            ],
            "parameters": [
             {
              "iterations": 500,
              "learning_rate": 0.3
             }
            ],
            "passed_time": 35.53201679,
            "remaining_time": 35.53201679,
            "test": [
             0.7245153584
            ]
           },
           {
            "iteration": 2,
            "learn": [
             0.3192234528
            ],
            "parameters": [
             {
              "iterations": 1000,
              "learning_rate": 0.1
             }
            ],
            "passed_time": 72.69602278,
            "remaining_time": 24.23200759,
            "test": [
             0.6756735482
            ]
           },
           {
            "iteration": 3,
            "learn": [
             0.1017988214
            ],
            "parameters": [
             {
              "iterations": 1000,
              "learning_rate": 0.3
             }
            ],
            "passed_time": 108.082837,
            "remaining_time": 0,
            "test": [
             0.7151705373
            ]
           }
          ],
          "meta": {
           "iteration_count": 4,
           "launch_mode": "Train",
           "learn_metrics": [
            {
             "best_value": "Min",
             "name": "RMSE"
            }
           ],
           "learn_sets": [
            "learn"
           ],
           "name": "experiment",
           "parameters": "parameters",
           "test_metrics": [
            {
             "best_value": "Min",
             "name": "RMSE"
            }
           ],
           "test_sets": [
            "test"
           ]
          }
         },
         "passed_iterations": 3,
         "total_iterations": 4
        },
        "name": "catboost_info",
        "path": "catboost_info"
       }
      },
      "layout": "IPY_MODEL_059fed048aad4bf492be3fc64539fbbb"
     }
    },
    "ff9d8a9cb19042e585d4f2fbaf4f3b6e": {
     "model_module": "catboost-widget",
     "model_module_version": "^1.0.0",
     "model_name": "CatboostWidgetModel",
     "state": {
      "_dom_classes": [],
      "_model_module": "catboost-widget",
      "_model_module_version": "^1.0.0",
      "_model_name": "CatboostWidgetModel",
      "_view_count": null,
      "_view_module": "catboost-widget",
      "_view_module_version": "^1.0.0",
      "_view_name": "CatboostWidgetView",
      "data": {
       "catboost_info": {
        "content": {
         "data": {
          "iterations": [
           {
            "iteration": 0,
            "learn": [
             0.8503324097
            ],
            "parameters": [
             {
              "iterations": 300,
              "learning_rate": 0.1
             }
            ],
            "passed_time": 0.9574947362,
            "remaining_time": 7.659957889,
            "test": [
             0.8353099946
            ]
           },
           {
            "iteration": 1,
            "learn": [
             0.8350957176
            ],
            "parameters": [
             {
              "iterations": 300,
              "learning_rate": 0.3
             }
            ],
            "passed_time": 1.925108653,
            "remaining_time": 6.737880287,
            "test": [
             0.834579223
            ]
           },
           {
            "iteration": 2,
            "learn": [
             0.8300494519
            ],
            "parameters": [
             {
              "iterations": 300,
              "learning_rate": 0.5
             }
            ],
            "passed_time": 2.898810369,
            "remaining_time": 5.797620739,
            "test": [
             0.8377145277
            ]
           },
           {
            "iteration": 3,
            "learn": [
             0.844260494
            ],
            "parameters": [
             {
              "iterations": 500,
              "learning_rate": 0.1
             }
            ],
            "passed_time": 4.484823904,
            "remaining_time": 5.606029881,
            "test": [
             0.8353099946
            ]
           },
           {
            "iteration": 4,
            "learn": [
             0.828686513
            ],
            "parameters": [
             {
              "iterations": 500,
              "learning_rate": 0.3
             }
            ],
            "passed_time": 6.083989155,
            "remaining_time": 4.867191324,
            "test": [
             0.834579223
            ]
           },
           {
            "iteration": 5,
            "learn": [
             0.8242819617
            ],
            "parameters": [
             {
              "iterations": 500,
              "learning_rate": 0.5
             }
            ],
            "passed_time": 7.676114798,
            "remaining_time": 3.838057399,
            "test": [
             0.8377145277
            ]
           },
           {
            "iteration": 6,
            "learn": [
             0.8394808369
            ],
            "parameters": [
             {
              "iterations": 700,
              "learning_rate": 0.1
             }
            ],
            "passed_time": 9.90874779,
            "remaining_time": 2.831070797,
            "test": [
             0.8353099946
            ]
           },
           {
            "iteration": 7,
            "learn": [
             0.8255686005
            ],
            "parameters": [
             {
              "iterations": 700,
              "learning_rate": 0.3
             }
            ],
            "passed_time": 12.1254481,
            "remaining_time": 1.515681012,
            "test": [
             0.834579223
            ]
           },
           {
            "iteration": 8,
            "learn": [
             0.8212704201
            ],
            "parameters": [
             {
              "iterations": 700,
              "learning_rate": 0.5
             }
            ],
            "passed_time": 14.37281213,
            "remaining_time": 0,
            "test": [
             0.8377145277
            ]
           }
          ],
          "meta": {
           "iteration_count": 9,
           "launch_mode": "Train",
           "learn_metrics": [
            {
             "best_value": "Min",
             "name": "RMSE"
            }
           ],
           "learn_sets": [
            "learn"
           ],
           "name": "experiment",
           "parameters": "parameters",
           "test_metrics": [
            {
             "best_value": "Min",
             "name": "RMSE"
            }
           ],
           "test_sets": [
            "test"
           ]
          }
         },
         "passed_iterations": 8,
         "total_iterations": 9
        },
        "name": "catboost_info",
        "path": "catboost_info"
       }
      },
      "layout": "IPY_MODEL_284cad4f800f4f50a203102fc243b9d9"
     }
    }
   }
  }
 },
 "nbformat": 4,
 "nbformat_minor": 1
}
