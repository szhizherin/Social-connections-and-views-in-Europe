{
  "nbformat": 4,
  "nbformat_minor": 0,
  "metadata": {
    "colab": {
      "name": "predict_SCI.ipynb",
      "provenance": [],
      "collapsed_sections": []
    },
    "kernelspec": {
      "display_name": "Python 3",
      "name": "python3"
    },
    "language_info": {
      "name": "python"
    },
    "widgets": {
      "application/vnd.jupyter.widget-state+json": {
        "03b1ca9290744b09b8ac2eaf7e29c327": {
          "model_module": "catboost-widget",
          "model_name": "CatboostWidgetModel",
          "model_module_version": "^1.0.0",
          "state": {
            "_view_name": "CatboostWidgetView",
            "_dom_classes": [],
            "_model_name": "CatboostWidgetModel",
            "data": {
              "catboost_info": {
                "content": {
                  "data": {
                    "meta": {
                      "name": "experiment",
                      "parameters": "parameters",
                      "test_metrics": [
                        {
                          "best_value": "Min",
                          "name": "RMSE"
                        }
                      ],
                      "learn_sets": [
                        "learn"
                      ],
                      "launch_mode": "Train",
                      "learn_metrics": [
                        {
                          "best_value": "Min",
                          "name": "RMSE"
                        }
                      ],
                      "iteration_count": 4,
                      "test_sets": [
                        "test"
                      ]
                    },
                    "iterations": [
                      {
                        "parameters": [
                          {
                            "learning_rate": 0.1,
                            "iterations": 500
                          }
                        ],
                        "iteration": 0,
                        "remaining_time": 64.38792775,
                        "passed_time": 21.46264258,
                        "learn": [
                          0.4999561616
                        ],
                        "test": [
                          0.7144601453
                        ]
                      },
                      {
                        "parameters": [
                          {
                            "learning_rate": 0.3,
                            "iterations": 500
                          }
                        ],
                        "iteration": 1,
                        "remaining_time": 42.60872833,
                        "passed_time": 42.60872833,
                        "learn": [
                          0.2473522337
                        ],
                        "test": [
                          0.7245153584
                        ]
                      },
                      {
                        "parameters": [
                          {
                            "learning_rate": 0.1,
                            "iterations": 1000
                          }
                        ],
                        "iteration": 2,
                        "remaining_time": 28.23673062,
                        "passed_time": 84.71019187,
                        "learn": [
                          0.3192234528
                        ],
                        "test": [
                          0.6756735482
                        ]
                      },
                      {
                        "parameters": [
                          {
                            "learning_rate": 0.3,
                            "iterations": 1000
                          }
                        ],
                        "iteration": 3,
                        "remaining_time": 0,
                        "passed_time": 126.7587693,
                        "learn": [
                          0.1017988214
                        ],
                        "test": [
                          0.7151705373
                        ]
                      }
                    ]
                  },
                  "total_iterations": 4,
                  "passed_iterations": 3
                },
                "path": "catboost_info",
                "name": "catboost_info"
              }
            },
            "_view_module": "catboost-widget",
            "_model_module_version": "^1.0.0",
            "_view_count": null,
            "_view_module_version": "^1.0.0",
            "layout": "IPY_MODEL_2cf810fa875e4ae8b8b30323f5d0b81a",
            "_model_module": "catboost-widget"
          }
        }
      }
    }
  },
  "cells": [
    {
      "cell_type": "markdown",
      "metadata": {
        "id": "qGJTmIKu07bg"
      },
      "source": [
        "# Importing modules"
      ]
    },
    {
      "cell_type": "code",
      "metadata": {
        "id": "84KVx-aT0x9r"
      },
      "source": [
        "from sklearn.model_selection import train_test_split\n",
        "from sklearn.metrics import mean_absolute_error, r2_score\n",
        "from sklearn.preprocessing import StandardScaler\n",
        "from sklearn.linear_model import LinearRegression\n",
        "\n",
        "import numpy as np\n",
        "import pandas as pd\n",
        "\n",
        "import seaborn as sns\n",
        "import matplotlib.pyplot as plt  \n",
        "\n",
        "# !pip install catboost\n",
        "import catboost"
      ],
      "execution_count": 2,
      "outputs": []
    },
    {
      "cell_type": "markdown",
      "metadata": {
        "id": "yXFMB23r1B01"
      },
      "source": [
        "# Data processing"
      ]
    },
    {
      "cell_type": "code",
      "metadata": {
        "id": "dFPFQxEM1JmO"
      },
      "source": [
        "# get the preferences data\n",
        "data_pref_raw = pd.read_csv(\"SCI_and_preferences.csv\", encoding=\"utf-8\").iloc[:, 1:]\n",
        "data_pref_raw = data_pref_raw.drop_duplicates(subset=data_pref_raw.columns[2:]).reset_index(drop=True)\n",
        "data_pref_raw.scaled_sci = np.log(data_pref_raw.scaled_sci)\n",
        "\n",
        "pref_features = list(data_pref_raw.columns[2:-1])\n",
        "log_SCI = [data_pref_raw.columns[-1]]"
      ],
      "execution_count": 35,
      "outputs": []
    },
    {
      "cell_type": "code",
      "metadata": {
        "id": "kBsUKLEDb-q8"
      },
      "source": [
        "# get the exogenous variables (containing extra regions and duplicates)\n",
        "data_exog_raw = pd.read_csv(\"SCI_and_exogenous_variables.csv\", encoding=\"utf-8\").iloc[:, 1:]\n",
        "data_exog_raw[\"log_distance\"] = np.log(data_exog_raw.distance)\n",
        "\n",
        "exog_features = list(data_exog_raw.columns[2:])"
      ],
      "execution_count": 36,
      "outputs": []
    },
    {
      "cell_type": "code",
      "metadata": {
        "id": "uL2oNDy4d-Ib"
      },
      "source": [
        "# combine the datasets omitting extra regions and duplicates\n",
        "data_joint = pd.merge(data_pref_raw, data_exog_raw,  how=\"inner\", left_on=[\"user_loc\", \"fr_loc\"], right_on=[\"user_loc\", \"fr_loc\"])"
      ],
      "execution_count": 37,
      "outputs": []
    },
    {
      "cell_type": "code",
      "metadata": {
        "id": "utOP9vyrgYhR"
      },
      "source": [
        "# create two datasets with equal number of rows, but different sets of predictors\n",
        "data_pref = data_joint.loc[:, log_SCI + pref_features] # preferences\n",
        "data_exog = data_joint.loc[:, log_SCI + exog_features] # exogenous variables"
      ],
      "execution_count": 38,
      "outputs": []
    },
    {
      "cell_type": "markdown",
      "metadata": {
        "id": "RcKZvLtBilTz"
      },
      "source": [
        "# Building models for prediction of $log(SCI)$"
      ]
    },
    {
      "cell_type": "markdown",
      "metadata": {
        "id": "B5Yb49EKi_F6"
      },
      "source": [
        "## 1) $log(SCI)$ ~ preferences"
      ]
    },
    {
      "cell_type": "code",
      "metadata": {
        "id": "Kx9NqXgPovQr"
      },
      "source": [
        "X = data_pref.loc[:, pref_features]\n",
        "y = data_pref.loc[:, log_SCI]"
      ],
      "execution_count": 41,
      "outputs": []
    },
    {
      "cell_type": "code",
      "metadata": {
        "id": "1_plaY53JKfa"
      },
      "source": [
        "X_train, X_test, y_train, y_test = train_test_split(X.values, y.values, train_size=0.8, random_state=1)"
      ],
      "execution_count": 42,
      "outputs": []
    },
    {
      "cell_type": "code",
      "metadata": {
        "id": "pQxMYl8j6_en"
      },
      "source": [
        "scaler = StandardScaler()\n",
        "scaler.fit(X_train)\n",
        "\n",
        "X_train = scaler.transform(X_train)\n",
        "X_test = scaler.transform(X_test)"
      ],
      "execution_count": 43,
      "outputs": []
    },
    {
      "cell_type": "code",
      "metadata": {
        "id": "Ime7mDmOJCqO"
      },
      "source": [
        "boosting_reg = catboost.CatBoostRegressor(eval_metric='RMSE', logging_level='Silent', random_state=0)"
      ],
      "execution_count": 44,
      "outputs": []
    },
    {
      "cell_type": "code",
      "metadata": {
        "colab": {
          "base_uri": "https://localhost:8080/",
          "height": 101,
          "referenced_widgets": [
            "03b1ca9290744b09b8ac2eaf7e29c327"
          ]
        },
        "id": "Hs8QwsMqOwT6",
        "outputId": "56b20874-4a69-4e43-c49a-a9102166dcb6"
      },
      "source": [
        "boosting_reg.grid_search({'iterations': [500, 1000], 'learning_rate': [0.1, 0.3]}, \n",
        "                           X_train, y_train, plot=True, refit=True, cv=5);"
      ],
      "execution_count": 45,
      "outputs": [
        {
          "output_type": "display_data",
          "data": {
            "application/vnd.jupyter.widget-view+json": {
              "model_id": "03b1ca9290744b09b8ac2eaf7e29c327",
              "version_minor": 0,
              "version_major": 2
            },
            "text/plain": [
              "MetricVisualizer(layout=Layout(align_self='stretch', height='500px'))"
            ]
          },
          "metadata": {
            "tags": []
          }
        },
        {
          "output_type": "stream",
          "text": [
            "0:\tloss: 0.7144601\tbest: 0.7144601 (0)\ttotal: 21.5s\tremaining: 1m 4s\n",
            "1:\tloss: 0.7245154\tbest: 0.7144601 (0)\ttotal: 42.6s\tremaining: 42.6s\n",
            "2:\tloss: 0.6756735\tbest: 0.6756735 (2)\ttotal: 1m 24s\tremaining: 28.2s\n",
            "3:\tloss: 0.7151705\tbest: 0.6756735 (2)\ttotal: 2m 6s\tremaining: 0us\n",
            "Estimating final quality...\n"
          ],
          "name": "stdout"
        }
      ]
    },
    {
      "cell_type": "code",
      "metadata": {
        "id": "KIUFIkI8NZMy"
      },
      "source": [
        "# define MAPE score\n",
        "def mape(actual, pred):\n",
        "    return np.mean(np.abs((actual - pred) / actual)) * 100"
      ],
      "execution_count": 46,
      "outputs": []
    },
    {
      "cell_type": "code",
      "metadata": {
        "colab": {
          "base_uri": "https://localhost:8080/"
        },
        "id": "I1aiAk8SRRO0",
        "outputId": "9d99f580-2b47-45bd-9887-abb8a945ab37"
      },
      "source": [
        "print('train MAE = {}'.format(mean_absolute_error(y_train, boosting_reg.predict(X_train))))"
      ],
      "execution_count": 47,
      "outputs": [
        {
          "output_type": "stream",
          "text": [
            "train MAE = 0.2599625916993611\n"
          ],
          "name": "stdout"
        }
      ]
    },
    {
      "cell_type": "code",
      "metadata": {
        "colab": {
          "base_uri": "https://localhost:8080/"
        },
        "id": "INQSAH7DNPog",
        "outputId": "2b29fb9c-56e8-4a81-9e7c-5d241851209e"
      },
      "source": [
        "print('test MAE = {}'.format(mean_absolute_error(y_test, boosting_reg.predict(X_test))))"
      ],
      "execution_count": 48,
      "outputs": [
        {
          "output_type": "stream",
          "text": [
            "test MAE = 0.4816478655500689\n"
          ],
          "name": "stdout"
        }
      ]
    },
    {
      "cell_type": "code",
      "metadata": {
        "colab": {
          "base_uri": "https://localhost:8080/"
        },
        "id": "jMPp_3VxOHCJ",
        "outputId": "958ff3a8-5201-47b8-e895-ef2f590484a6"
      },
      "source": [
        "print('train MAPE = {}%'.format(mape(y_train, boosting_reg.predict(X_train))))"
      ],
      "execution_count": 49,
      "outputs": [
        {
          "output_type": "stream",
          "text": [
            "train MAPE = 23.71867982563325%\n"
          ],
          "name": "stdout"
        }
      ]
    },
    {
      "cell_type": "code",
      "metadata": {
        "colab": {
          "base_uri": "https://localhost:8080/"
        },
        "id": "wwximISOOU9Y",
        "outputId": "d7714e9f-53aa-444d-aecc-6b2e1f895279"
      },
      "source": [
        "print('test MAPE = {}%'.format(mape(y_test, boosting_reg.predict(X_test))))"
      ],
      "execution_count": 50,
      "outputs": [
        {
          "output_type": "stream",
          "text": [
            "test MAPE = 23.279117383529517%\n"
          ],
          "name": "stdout"
        }
      ]
    },
    {
      "cell_type": "code",
      "metadata": {
        "colab": {
          "base_uri": "https://localhost:8080/"
        },
        "id": "rP_qnKbuDv_7",
        "outputId": "5b00dabc-1c8a-4fa1-e297-c741dfb867c2"
      },
      "source": [
        "print('train R_squared = {}'.format(r2_score(y_train, boosting_reg.predict(X_train))))"
      ],
      "execution_count": 51,
      "outputs": [
        {
          "output_type": "stream",
          "text": [
            "train R_squared = 0.9410961922875284\n"
          ],
          "name": "stdout"
        }
      ]
    },
    {
      "cell_type": "code",
      "metadata": {
        "colab": {
          "base_uri": "https://localhost:8080/"
        },
        "id": "-qykQnFnD6z5",
        "outputId": "99bcb708-69f0-4b66-b73d-c67538727e66"
      },
      "source": [
        "print('test R_squared = {}'.format(r2_score(y_test, boosting_reg.predict(X_test))))"
      ],
      "execution_count": 52,
      "outputs": [
        {
          "output_type": "stream",
          "text": [
            "test R_squared = 0.7878284976336678\n"
          ],
          "name": "stdout"
        }
      ]
    },
    {
      "cell_type": "code",
      "metadata": {
        "id": "yB3OuUf_DwGY"
      },
      "source": [
        ""
      ],
      "execution_count": null,
      "outputs": []
    },
    {
      "cell_type": "code",
      "metadata": {
        "id": "tnuk5HODDFc0",
        "colab": {
          "base_uri": "https://localhost:8080/"
        },
        "outputId": "017b6fbe-59be-4489-e59b-84e2fee9ccda"
      },
      "source": [
        "lin_reg = LinearRegression()\n",
        "\n",
        "lin_reg.fit(X_train, y_train)"
      ],
      "execution_count": 54,
      "outputs": [
        {
          "output_type": "execute_result",
          "data": {
            "text/plain": [
              "LinearRegression(copy_X=True, fit_intercept=True, n_jobs=None, normalize=False)"
            ]
          },
          "metadata": {
            "tags": []
          },
          "execution_count": 54
        }
      ]
    },
    {
      "cell_type": "code",
      "metadata": {
        "id": "9I8DRgB6DFkR",
        "colab": {
          "base_uri": "https://localhost:8080/"
        },
        "outputId": "e9878c0a-c79a-4f8d-e4ab-257431b71f5d"
      },
      "source": [
        "lin_reg.score(X_train, y_train)"
      ],
      "execution_count": 55,
      "outputs": [
        {
          "output_type": "execute_result",
          "data": {
            "text/plain": [
              "0.3685975165720533"
            ]
          },
          "metadata": {
            "tags": []
          },
          "execution_count": 55
        }
      ]
    },
    {
      "cell_type": "code",
      "metadata": {
        "colab": {
          "base_uri": "https://localhost:8080/"
        },
        "id": "9FnMQ-A7Al3G",
        "outputId": "69876495-511a-439b-b52b-0162a7a70e78"
      },
      "source": [
        "lin_reg.score(X_test, y_test)"
      ],
      "execution_count": 56,
      "outputs": [
        {
          "output_type": "execute_result",
          "data": {
            "text/plain": [
              "0.37609748763088213"
            ]
          },
          "metadata": {
            "tags": []
          },
          "execution_count": 56
        }
      ]
    },
    {
      "cell_type": "code",
      "metadata": {
        "colab": {
          "base_uri": "https://localhost:8080/"
        },
        "id": "vPy7QCKuAvrb",
        "outputId": "6f91bc79-f188-4ab9-f83d-336c43990611"
      },
      "source": [
        "print('train MAPE = {}%'.format(mape(y_train, lin_reg.predict(X_train))))"
      ],
      "execution_count": 57,
      "outputs": [
        {
          "output_type": "stream",
          "text": [
            "train MAPE = 14.623900595851513%\n"
          ],
          "name": "stdout"
        }
      ]
    },
    {
      "cell_type": "code",
      "metadata": {
        "colab": {
          "base_uri": "https://localhost:8080/"
        },
        "id": "V_KWKdWPAwgz",
        "outputId": "b91d3cbf-592e-475b-f1d7-7cb00a9a0173"
      },
      "source": [
        "print('test MAPE = {}%'.format(mape(y_test, lin_reg.predict(X_test))))"
      ],
      "execution_count": 58,
      "outputs": [
        {
          "output_type": "stream",
          "text": [
            "test MAPE = 14.713743361792867%\n"
          ],
          "name": "stdout"
        }
      ]
    }
  ]
}