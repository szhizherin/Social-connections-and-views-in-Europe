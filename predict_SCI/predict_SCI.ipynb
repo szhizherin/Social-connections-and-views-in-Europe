{
 "cells": [
  {
   "cell_type": "markdown",
   "metadata": {
    "id": "qGJTmIKu07bg"
   },
   "source": [
    "# Importing modules"
   ]
  },
  {
   "cell_type": "code",
   "execution_count": 1,
   "metadata": {
    "id": "84KVx-aT0x9r"
   },
   "outputs": [
    {
     "name": "stderr",
     "output_type": "stream",
     "text": [
      "Enabling notebook extension jupyter-js-widgets/extension...\n",
      "      - Validating: ok\n"
     ]
    }
   ],
   "source": [
    "from sklearn.model_selection import train_test_split\n",
    "from sklearn.metrics import mean_absolute_error, r2_score\n",
    "from sklearn.preprocessing import StandardScaler\n",
    "from sklearn.linear_model import LinearRegression\n",
    "\n",
    "import numpy as np\n",
    "import pandas as pd\n",
    "\n",
    "import seaborn as sns\n",
    "import matplotlib.pyplot as plt  \n",
    "\n",
    "# !pip install catboost\n",
    "from catboost import CatBoostRegressor, Pool, metrics, cv\n",
    "\n",
    "!jupyter nbextension enable --py widgetsnbextension"
   ]
  },
  {
   "cell_type": "markdown",
   "metadata": {
    "id": "yXFMB23r1B01"
   },
   "source": [
    "# Data processing"
   ]
  },
  {
   "cell_type": "code",
   "execution_count": 2,
   "metadata": {
    "id": "dFPFQxEM1JmO"
   },
   "outputs": [],
   "source": [
    "# get the preferences data\n",
    "data_pref_raw = pd.read_csv(\"SCI_and_preferences.csv\", encoding=\"utf-8\").iloc[:, 1:]\n",
    "data_pref_raw = data_pref_raw.drop_duplicates(subset=data_pref_raw.columns[2:]).reset_index(drop=True)\n",
    "data_pref_raw.scaled_sci = np.log(data_pref_raw.scaled_sci)\n",
    "\n",
    "pref_features = list(data_pref_raw.columns[2:-1])\n",
    "log_SCI = [data_pref_raw.columns[-1]]"
   ]
  },
  {
   "cell_type": "code",
   "execution_count": 3,
   "metadata": {
    "id": "kBsUKLEDb-q8"
   },
   "outputs": [],
   "source": [
    "# get the exogenous variables (containing extra regions and duplicates)\n",
    "data_exog_raw = pd.read_csv(\"SCI_and_exogenous_variables.csv\", encoding=\"utf-8\").iloc[:, 1:]\n",
    "data_exog_raw[\"log_distance\"] = np.log(data_exog_raw.distance)\n",
    "\n",
    "exog_features = list(data_exog_raw.columns[2:])"
   ]
  },
  {
   "cell_type": "code",
   "execution_count": 4,
   "metadata": {
    "id": "uL2oNDy4d-Ib"
   },
   "outputs": [],
   "source": [
    "# combine the datasets omitting extra regions and duplicates\n",
    "data_joint = pd.merge(data_pref_raw, data_exog_raw,  how=\"inner\", left_on=[\"user_loc\", \"fr_loc\"], right_on=[\"user_loc\", \"fr_loc\"])"
   ]
  },
  {
   "cell_type": "code",
   "execution_count": 5,
   "metadata": {
    "id": "utOP9vyrgYhR"
   },
   "outputs": [],
   "source": [
    "# create two datasets with equal number of rows, but different sets of predictors\n",
    "data_pref = data_joint.loc[:, log_SCI + pref_features] # preferences\n",
    "data_exog = data_joint.loc[:, log_SCI + exog_features] # exogenous variables"
   ]
  },
  {
   "cell_type": "markdown",
   "metadata": {
    "id": "RcKZvLtBilTz"
   },
   "source": [
    "# Building models for prediction of $log(SCI)$"
   ]
  },
  {
   "cell_type": "markdown",
   "metadata": {
    "id": "B5Yb49EKi_F6"
   },
   "source": [
    "## 1) $log(SCI)$ ~ preferences"
   ]
  },
  {
   "cell_type": "code",
   "execution_count": 6,
   "metadata": {
    "id": "Kx9NqXgPovQr"
   },
   "outputs": [],
   "source": [
    "X = data_pref.loc[:, pref_features]\n",
    "y = data_pref.loc[:, log_SCI]"
   ]
  },
  {
   "cell_type": "code",
   "execution_count": 10,
   "metadata": {
    "id": "1_plaY53JKfa"
   },
   "outputs": [],
   "source": [
    "X_train, X_test, y_train, y_test = train_test_split(X, y, train_size=0.8, random_state=1)"
   ]
  },
  {
   "cell_type": "code",
   "execution_count": 8,
   "metadata": {
    "id": "pQxMYl8j6_en"
   },
   "outputs": [],
   "source": [
    "scaler = StandardScaler()\n",
    "scaler.fit(X_train)\n",
    "\n",
    "X_train = scaler.transform(X_train)\n",
    "X_test = scaler.transform(X_test)"
   ]
  },
  {
   "cell_type": "code",
   "execution_count": 15,
   "metadata": {
    "id": "Ime7mDmOJCqO"
   },
   "outputs": [],
   "source": [
    "boosting_reg = CatBoostRegressor(logging_level='Silent', random_state=1)"
   ]
  },
  {
   "cell_type": "code",
   "execution_count": 16,
   "metadata": {},
   "outputs": [
    {
     "data": {
      "application/vnd.jupyter.widget-view+json": {
       "model_id": "8d74cc36e4284eef9df0947b0e7287c0",
       "version_major": 2,
       "version_minor": 0
      },
      "text/plain": [
       "MetricVisualizer(layout=Layout(align_self='stretch', height='500px'))"
      ]
     },
     "metadata": {},
     "output_type": "display_data"
    },
    {
     "data": {
      "text/plain": [
       "<catboost.core.CatBoostRegressor at 0x1ceceb6f820>"
      ]
     },
     "execution_count": 16,
     "metadata": {},
     "output_type": "execute_result"
    }
   ],
   "source": [
    "boosting_reg.fit(X_train, y_train, plot=True);"
   ]
  },
  {
   "cell_type": "code",
   "execution_count": 19,
   "metadata": {},
   "outputs": [
    {
     "data": {
      "application/vnd.jupyter.widget-view+json": {
       "model_id": "bdc89fac80df4b87a7fa3ae31231b932",
       "version_major": 2,
       "version_minor": 0
      },
      "text/plain": [
       "MetricVisualizer(layout=Layout(align_self='stretch', height='500px'))"
      ]
     },
     "metadata": {},
     "output_type": "display_data"
    }
   ],
   "source": [
    "cv_params = boosting_reg.get_params()\n",
    "\n",
    "cv_data = cv(\n",
    "    Pool(X_train, y_train),\n",
    "    cv_params,\n",
    "    plot=True\n",
    ")"
   ]
  },
  {
   "cell_type": "code",
   "execution_count": null,
   "metadata": {},
   "outputs": [],
   "source": []
  },
  {
   "cell_type": "code",
   "execution_count": null,
   "metadata": {},
   "outputs": [],
   "source": []
  },
  {
   "cell_type": "code",
   "execution_count": 14,
   "metadata": {
    "colab": {
     "base_uri": "https://localhost:8080/",
     "height": 101,
     "referenced_widgets": [
      "fa2ba1fb1a294ed89a5980740fdd2a91"
     ]
    },
    "id": "Hs8QwsMqOwT6",
    "outputId": "6d1c5d99-b3fd-4075-b2dd-77a9fe55da38"
   },
   "outputs": [
    {
     "data": {
      "application/vnd.jupyter.widget-view+json": {
       "model_id": "713f2cc5b4af4be8a44df69c12661134",
       "version_major": 2,
       "version_minor": 0
      },
      "text/plain": [
       "MetricVisualizer(layout=Layout(align_self='stretch', height='500px'))"
      ]
     },
     "metadata": {},
     "output_type": "display_data"
    },
    {
     "name": "stdout",
     "output_type": "stream",
     "text": [
      "0:\tloss: 0.7137347\tbest: 0.7137347 (0)\ttotal: 22.1s\tremaining: 1m 6s\n",
      "1:\tloss: 0.7400022\tbest: 0.7137347 (0)\ttotal: 43.6s\tremaining: 43.6s\n",
      "2:\tloss: 0.6713634\tbest: 0.6713634 (2)\ttotal: 1m 27s\tremaining: 29.3s\n",
      "3:\tloss: 0.7287764\tbest: 0.6713634 (2)\ttotal: 2m 18s\tremaining: 0us\n",
      "Estimating final quality...\n"
     ]
    }
   ],
   "source": [
    "boosting_reg.grid_search({'iterations': [500, 1000], 'learning_rate': [0.1, 0.3]}, \n",
    "                           X_train, y_train, plot=True, refit=True, cv=5);"
   ]
  },
  {
   "cell_type": "code",
   "execution_count": 42,
   "metadata": {
    "colab": {
     "base_uri": "https://localhost:8080/"
    },
    "id": "Y3znUHSjbQBk",
    "outputId": "0a580f36-5e41-4a52-bee0-f9f6c7fb5f18"
   },
   "outputs": [
    {
     "data": {
      "text/plain": [
       "{'eval_metric': 'RMSE',\n",
       " 'iterations': 1000,\n",
       " 'learning_rate': 0.1,\n",
       " 'logging_level': 'Silent',\n",
       " 'loss_function': 'RMSE',\n",
       " 'random_state': 0}"
      ]
     },
     "execution_count": 42,
     "metadata": {
      "tags": []
     },
     "output_type": "execute_result"
    }
   ],
   "source": [
    "boosting_reg.get_params()"
   ]
  },
  {
   "cell_type": "code",
   "execution_count": 13,
   "metadata": {
    "id": "KIUFIkI8NZMy"
   },
   "outputs": [],
   "source": [
    "# define MAPE score\n",
    "def mape(actual, pred):\n",
    "    return np.mean(np.abs((actual - pred) / actual)) * 100"
   ]
  },
  {
   "cell_type": "code",
   "execution_count": 43,
   "metadata": {
    "colab": {
     "base_uri": "https://localhost:8080/"
    },
    "id": "I1aiAk8SRRO0",
    "outputId": "3ee0e9e8-919b-41f6-9d1e-3a2c40c9a8c5"
   },
   "outputs": [
    {
     "name": "stdout",
     "output_type": "stream",
     "text": [
      "train MAE = 0.2599625916993611\n",
      "test MAE = 0.4816478655500689\n",
      "train MAPE = 23.71867982563325%\n",
      "test MAPE = 23.279117383529517%\n",
      "train R_squared = 0.9410961922875284\n",
      "test R_squared = 0.7878284976336678\n"
     ]
    }
   ],
   "source": [
    "print('train MAE = {}'.format(mean_absolute_error(y_train, boosting_reg.predict(X_train))))\n",
    "print('test MAE = {}'.format(mean_absolute_error(y_test, boosting_reg.predict(X_test))))\n",
    "print('train MAPE = {}%'.format(mape(y_train, boosting_reg.predict(X_train))))\n",
    "print('test MAPE = {}%'.format(mape(y_test, boosting_reg.predict(X_test))))\n",
    "print('train R_squared = {}'.format(r2_score(y_train, boosting_reg.predict(X_train))))\n",
    "print('test R_squared = {}'.format(r2_score(y_test, boosting_reg.predict(X_test))))"
   ]
  },
  {
   "cell_type": "code",
   "execution_count": null,
   "metadata": {
    "id": "yB3OuUf_DwGY"
   },
   "outputs": [],
   "source": []
  },
  {
   "cell_type": "code",
   "execution_count": 15,
   "metadata": {
    "colab": {
     "base_uri": "https://localhost:8080/"
    },
    "id": "tnuk5HODDFc0",
    "outputId": "36639db6-6a12-4ed7-c15a-9111fcb70242"
   },
   "outputs": [
    {
     "data": {
      "text/plain": [
       "LinearRegression(copy_X=True, fit_intercept=True, n_jobs=None, normalize=False)"
      ]
     },
     "execution_count": 15,
     "metadata": {
      "tags": []
     },
     "output_type": "execute_result"
    }
   ],
   "source": [
    "lin_reg = LinearRegression()\n",
    "\n",
    "lin_reg.fit(X_train, y_train)"
   ]
  },
  {
   "cell_type": "code",
   "execution_count": 16,
   "metadata": {
    "colab": {
     "base_uri": "https://localhost:8080/"
    },
    "id": "9I8DRgB6DFkR",
    "outputId": "297ba9ef-d7fb-4573-a547-0355a43f090f"
   },
   "outputs": [
    {
     "name": "stdout",
     "output_type": "stream",
     "text": [
      "train MAPE = 14.623900595851513%\n",
      "test MAPE = 14.713743361792867%\n",
      "train R_squared = 0.3685975165720533\n",
      "test R_squared = 0.37609748763088213\n"
     ]
    }
   ],
   "source": [
    "print('train MAPE = {}%'.format(mape(y_train, lin_reg.predict(X_train))))\n",
    "print('test MAPE = {}%'.format(mape(y_test, lin_reg.predict(X_test))))\n",
    "print('train R_squared = {}'.format(r2_score(y_train, lin_reg.predict(X_train))))\n",
    "print('test R_squared = {}'.format(r2_score(y_test, lin_reg.predict(X_test))))"
   ]
  },
  {
   "cell_type": "markdown",
   "metadata": {
    "id": "rO_CStA_YPMG"
   },
   "source": [
    "## 2) $log(SCI)$ ~ exogenous variables"
   ]
  },
  {
   "cell_type": "code",
   "execution_count": 44,
   "metadata": {
    "id": "g6C0zCgZYWU2"
   },
   "outputs": [],
   "source": [
    "X = data_exog.loc[:, exog_features]\n",
    "y = data_exog.loc[:, log_SCI]"
   ]
  },
  {
   "cell_type": "code",
   "execution_count": 45,
   "metadata": {
    "id": "cDtxtqpgYWcH"
   },
   "outputs": [],
   "source": [
    "X_train, X_test, y_train, y_test = train_test_split(X.values, y.values, train_size=0.8, random_state=1)"
   ]
  },
  {
   "cell_type": "code",
   "execution_count": 46,
   "metadata": {
    "id": "GF-JG2urYWfO"
   },
   "outputs": [],
   "source": [
    "scaler = StandardScaler()\n",
    "scaler.fit(X_train)\n",
    "\n",
    "X_train = scaler.transform(X_train)\n",
    "X_test = scaler.transform(X_test)"
   ]
  },
  {
   "cell_type": "code",
   "execution_count": 30,
   "metadata": {
    "id": "szbIVN8KYWh6"
   },
   "outputs": [],
   "source": [
    "boosting_reg = catboost.CatBoostRegressor(eval_metric='RMSE', logging_level='Silent', random_state=0)"
   ]
  },
  {
   "cell_type": "code",
   "execution_count": 31,
   "metadata": {
    "colab": {
     "base_uri": "https://localhost:8080/",
     "height": 185,
     "referenced_widgets": [
      "ff9d8a9cb19042e585d4f2fbaf4f3b6e"
     ]
    },
    "id": "ClVFCM84YWkx",
    "outputId": "e27581ee-a3d5-4174-890b-0ad84c998d07"
   },
   "outputs": [
    {
     "data": {
      "application/vnd.jupyter.widget-view+json": {
       "model_id": "ff9d8a9cb19042e585d4f2fbaf4f3b6e",
       "version_major": 2,
       "version_minor": 0
      },
      "text/plain": [
       "MetricVisualizer(layout=Layout(align_self='stretch', height='500px'))"
      ]
     },
     "metadata": {
      "tags": []
     },
     "output_type": "display_data"
    },
    {
     "name": "stdout",
     "output_type": "stream",
     "text": [
      "0:\tloss: 0.8353100\tbest: 0.8353100 (0)\ttotal: 957ms\tremaining: 7.66s\n",
      "1:\tloss: 0.8345792\tbest: 0.8345792 (1)\ttotal: 1.93s\tremaining: 6.74s\n",
      "2:\tloss: 0.8377145\tbest: 0.8345792 (1)\ttotal: 2.9s\tremaining: 5.8s\n",
      "3:\tloss: 0.8353100\tbest: 0.8345792 (1)\ttotal: 4.48s\tremaining: 5.61s\n",
      "4:\tloss: 0.8345792\tbest: 0.8345792 (1)\ttotal: 6.08s\tremaining: 4.87s\n",
      "5:\tloss: 0.8377145\tbest: 0.8345792 (1)\ttotal: 7.68s\tremaining: 3.84s\n",
      "6:\tloss: 0.8353100\tbest: 0.8345792 (1)\ttotal: 9.91s\tremaining: 2.83s\n",
      "7:\tloss: 0.8345792\tbest: 0.8345792 (1)\ttotal: 12.1s\tremaining: 1.51s\n",
      "8:\tloss: 0.8377145\tbest: 0.8345792 (1)\ttotal: 14.4s\tremaining: 0us\n",
      "Estimating final quality...\n"
     ]
    }
   ],
   "source": [
    "boosting_reg.grid_search({'iterations': [300, 500, 700], 'learning_rate': [0.1, 0.3, 0.5]}, \n",
    "                           X_train, y_train, plot=True, refit=True, cv=5);"
   ]
  },
  {
   "cell_type": "code",
   "execution_count": 35,
   "metadata": {
    "colab": {
     "base_uri": "https://localhost:8080/"
    },
    "id": "j45QlPgYaoEX",
    "outputId": "438c7252-2f05-406d-b292-cb9e6d1717d5"
   },
   "outputs": [
    {
     "data": {
      "text/plain": [
       "{'eval_metric': 'RMSE',\n",
       " 'iterations': 300,\n",
       " 'learning_rate': 0.3,\n",
       " 'logging_level': 'Silent',\n",
       " 'loss_function': 'RMSE',\n",
       " 'random_state': 0}"
      ]
     },
     "execution_count": 35,
     "metadata": {
      "tags": []
     },
     "output_type": "execute_result"
    }
   ],
   "source": [
    "boosting_reg.get_params()"
   ]
  },
  {
   "cell_type": "code",
   "execution_count": 36,
   "metadata": {
    "colab": {
     "base_uri": "https://localhost:8080/"
    },
    "id": "tMJQs6hlYWoC",
    "outputId": "ae920d19-7ec3-41cc-e8ad-c9c6ac93d26b"
   },
   "outputs": [
    {
     "name": "stdout",
     "output_type": "stream",
     "text": [
      "train MAPE = 21.207769835043266%\n",
      "test MAPE = 21.779977453726058%\n",
      "train R_squared = 0.6629703385885135\n",
      "test R_squared = 0.6505219247073549\n"
     ]
    }
   ],
   "source": [
    "print('train MAPE = {}%'.format(mape(y_train, boosting_reg.predict(X_train))))\n",
    "print('test MAPE = {}%'.format(mape(y_test, boosting_reg.predict(X_test))))\n",
    "print('train R_squared = {}'.format(r2_score(y_train, boosting_reg.predict(X_train))))\n",
    "print('test R_squared = {}'.format(r2_score(y_test, boosting_reg.predict(X_test))))"
   ]
  },
  {
   "cell_type": "code",
   "execution_count": null,
   "metadata": {
    "id": "KR_8Apc5c3iH"
   },
   "outputs": [],
   "source": []
  },
  {
   "cell_type": "code",
   "execution_count": 47,
   "metadata": {
    "colab": {
     "base_uri": "https://localhost:8080/"
    },
    "id": "miOByLwoc_MN",
    "outputId": "40e3ab07-f162-4f84-8cbc-5424f414cadb"
   },
   "outputs": [
    {
     "data": {
      "text/plain": [
       "LinearRegression(copy_X=True, fit_intercept=True, n_jobs=None, normalize=False)"
      ]
     },
     "execution_count": 47,
     "metadata": {
      "tags": []
     },
     "output_type": "execute_result"
    }
   ],
   "source": [
    "lin_reg = LinearRegression()\n",
    "\n",
    "lin_reg.fit(X_train, y_train)"
   ]
  },
  {
   "cell_type": "code",
   "execution_count": 48,
   "metadata": {
    "colab": {
     "base_uri": "https://localhost:8080/"
    },
    "id": "4OdNACbSdFQ2",
    "outputId": "f628dde9-49f1-41d6-db29-e4496f6351b7"
   },
   "outputs": [
    {
     "name": "stdout",
     "output_type": "stream",
     "text": [
      "train MAPE = 12.591634870545901%\n",
      "test MAPE = 12.672519870149001%\n",
      "train R_squared = 0.5981079185491187\n",
      "test R_squared = 0.6107835826712049\n"
     ]
    }
   ],
   "source": [
    "print('train MAPE = {}%'.format(mape(y_train, lin_reg.predict(X_train))))\n",
    "print('test MAPE = {}%'.format(mape(y_test, lin_reg.predict(X_test))))\n",
    "print('train R_squared = {}'.format(r2_score(y_train, lin_reg.predict(X_train))))\n",
    "print('test R_squared = {}'.format(r2_score(y_test, lin_reg.predict(X_test))))"
   ]
  }
 ],
 "metadata": {
  "colab": {
   "collapsed_sections": [],
   "name": "predict_SCI.ipynb",
   "provenance": []
  },
  "kernelspec": {
   "display_name": "Python 3",
   "language": "python",
   "name": "python3"
  },
  "language_info": {
   "codemirror_mode": {
    "name": "ipython",
    "version": 3
   },
   "file_extension": ".py",
   "mimetype": "text/x-python",
   "name": "python",
   "nbconvert_exporter": "python",
   "pygments_lexer": "ipython3",
   "version": "3.8.5"
  },
  "widgets": {
   "application/vnd.jupyter.widget-state+json": {
    "fa2ba1fb1a294ed89a5980740fdd2a91": {
     "model_module": "catboost-widget",
     "model_module_version": "^1.0.0",
     "model_name": "CatboostWidgetModel",
     "state": {
      "_dom_classes": [],
      "_model_module": "catboost-widget",
      "_model_module_version": "^1.0.0",
      "_model_name": "CatboostWidgetModel",
      "_view_count": null,
      "_view_module": "catboost-widget",
      "_view_module_version": "^1.0.0",
      "_view_name": "CatboostWidgetView",
      "data": {
       "catboost_info": {
        "content": {
         "data": {
          "iterations": [
           {
            "iteration": 0,
            "learn": [
             0.4999561616
            ],
            "parameters": [
             {
              "iterations": 500,
              "learning_rate": 0.1
             }
            ],
            "passed_time": 17.748682,
            "remaining_time": 53.246046,
            "test": [
             0.7144601453
            ]
           },
           {
            "iteration": 1,
            "learn": [
             0.2473522337
            ],
            "parameters": [
             {
              "iterations": 500,
              "learning_rate": 0.3
             }
            ],
            "passed_time": 35.53201679,
            "remaining_time": 35.53201679,
            "test": [
             0.7245153584
            ]
           },
           {
            "iteration": 2,
            "learn": [
             0.3192234528
            ],
            "parameters": [
             {
              "iterations": 1000,
              "learning_rate": 0.1
             }
            ],
            "passed_time": 72.69602278,
            "remaining_time": 24.23200759,
            "test": [
             0.6756735482
            ]
           },
           {
            "iteration": 3,
            "learn": [
             0.1017988214
            ],
            "parameters": [
             {
              "iterations": 1000,
              "learning_rate": 0.3
             }
            ],
            "passed_time": 108.082837,
            "remaining_time": 0,
            "test": [
             0.7151705373
            ]
           }
          ],
          "meta": {
           "iteration_count": 4,
           "launch_mode": "Train",
           "learn_metrics": [
            {
             "best_value": "Min",
             "name": "RMSE"
            }
           ],
           "learn_sets": [
            "learn"
           ],
           "name": "experiment",
           "parameters": "parameters",
           "test_metrics": [
            {
             "best_value": "Min",
             "name": "RMSE"
            }
           ],
           "test_sets": [
            "test"
           ]
          }
         },
         "passed_iterations": 3,
         "total_iterations": 4
        },
        "name": "catboost_info",
        "path": "catboost_info"
       }
      },
      "layout": "IPY_MODEL_059fed048aad4bf492be3fc64539fbbb"
     }
    },
    "ff9d8a9cb19042e585d4f2fbaf4f3b6e": {
     "model_module": "catboost-widget",
     "model_module_version": "^1.0.0",
     "model_name": "CatboostWidgetModel",
     "state": {
      "_dom_classes": [],
      "_model_module": "catboost-widget",
      "_model_module_version": "^1.0.0",
      "_model_name": "CatboostWidgetModel",
      "_view_count": null,
      "_view_module": "catboost-widget",
      "_view_module_version": "^1.0.0",
      "_view_name": "CatboostWidgetView",
      "data": {
       "catboost_info": {
        "content": {
         "data": {
          "iterations": [
           {
            "iteration": 0,
            "learn": [
             0.8503324097
            ],
            "parameters": [
             {
              "iterations": 300,
              "learning_rate": 0.1
             }
            ],
            "passed_time": 0.9574947362,
            "remaining_time": 7.659957889,
            "test": [
             0.8353099946
            ]
           },
           {
            "iteration": 1,
            "learn": [
             0.8350957176
            ],
            "parameters": [
             {
              "iterations": 300,
              "learning_rate": 0.3
             }
            ],
            "passed_time": 1.925108653,
            "remaining_time": 6.737880287,
            "test": [
             0.834579223
            ]
           },
           {
            "iteration": 2,
            "learn": [
             0.8300494519
            ],
            "parameters": [
             {
              "iterations": 300,
              "learning_rate": 0.5
             }
            ],
            "passed_time": 2.898810369,
            "remaining_time": 5.797620739,
            "test": [
             0.8377145277
            ]
           },
           {
            "iteration": 3,
            "learn": [
             0.844260494
            ],
            "parameters": [
             {
              "iterations": 500,
              "learning_rate": 0.1
             }
            ],
            "passed_time": 4.484823904,
            "remaining_time": 5.606029881,
            "test": [
             0.8353099946
            ]
           },
           {
            "iteration": 4,
            "learn": [
             0.828686513
            ],
            "parameters": [
             {
              "iterations": 500,
              "learning_rate": 0.3
             }
            ],
            "passed_time": 6.083989155,
            "remaining_time": 4.867191324,
            "test": [
             0.834579223
            ]
           },
           {
            "iteration": 5,
            "learn": [
             0.8242819617
            ],
            "parameters": [
             {
              "iterations": 500,
              "learning_rate": 0.5
             }
            ],
            "passed_time": 7.676114798,
            "remaining_time": 3.838057399,
            "test": [
             0.8377145277
            ]
           },
           {
            "iteration": 6,
            "learn": [
             0.8394808369
            ],
            "parameters": [
             {
              "iterations": 700,
              "learning_rate": 0.1
             }
            ],
            "passed_time": 9.90874779,
            "remaining_time": 2.831070797,
            "test": [
             0.8353099946
            ]
           },
           {
            "iteration": 7,
            "learn": [
             0.8255686005
            ],
            "parameters": [
             {
              "iterations": 700,
              "learning_rate": 0.3
             }
            ],
            "passed_time": 12.1254481,
            "remaining_time": 1.515681012,
            "test": [
             0.834579223
            ]
           },
           {
            "iteration": 8,
            "learn": [
             0.8212704201
            ],
            "parameters": [
             {
              "iterations": 700,
              "learning_rate": 0.5
             }
            ],
            "passed_time": 14.37281213,
            "remaining_time": 0,
            "test": [
             0.8377145277
            ]
           }
          ],
          "meta": {
           "iteration_count": 9,
           "launch_mode": "Train",
           "learn_metrics": [
            {
             "best_value": "Min",
             "name": "RMSE"
            }
           ],
           "learn_sets": [
            "learn"
           ],
           "name": "experiment",
           "parameters": "parameters",
           "test_metrics": [
            {
             "best_value": "Min",
             "name": "RMSE"
            }
           ],
           "test_sets": [
            "test"
           ]
          }
         },
         "passed_iterations": 8,
         "total_iterations": 9
        },
        "name": "catboost_info",
        "path": "catboost_info"
       }
      },
      "layout": "IPY_MODEL_284cad4f800f4f50a203102fc243b9d9"
     }
    }
   }
  }
 },
 "nbformat": 4,
 "nbformat_minor": 1
}
