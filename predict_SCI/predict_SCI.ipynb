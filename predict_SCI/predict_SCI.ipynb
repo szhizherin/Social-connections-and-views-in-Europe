{
  "nbformat": 4,
  "nbformat_minor": 0,
  "metadata": {
    "colab": {
      "name": "predict_SCI.ipynb",
      "provenance": [],
      "collapsed_sections": []
    },
    "kernelspec": {
      "display_name": "Python 3",
      "name": "python3"
    },
    "language_info": {
      "name": "python"
    },
    "widgets": {
      "application/vnd.jupyter.widget-state+json": {
        "0ee3cb21f66442529a512576e3aa390a": {
          "model_module": "catboost-widget",
          "model_name": "CatboostWidgetModel",
          "model_module_version": "^1.0.0",
          "state": {
            "_view_name": "CatboostWidgetView",
            "_dom_classes": [],
            "_model_name": "CatboostWidgetModel",
            "data": {
              "catboost_info": {
                "content": {
                  "data": {
                    "meta": {
                      "name": "experiment",
                      "parameters": "parameters",
                      "test_metrics": [
                        {
                          "best_value": "Min",
                          "name": "RMSE"
                        }
                      ],
                      "learn_sets": [
                        "learn"
                      ],
                      "launch_mode": "Train",
                      "learn_metrics": [
                        {
                          "best_value": "Min",
                          "name": "RMSE"
                        }
                      ],
                      "iteration_count": 4,
                      "test_sets": [
                        "test"
                      ]
                    },
                    "iterations": [
                      {
                        "parameters": [
                          {
                            "learning_rate": 0.1,
                            "iterations": 500
                          }
                        ],
                        "iteration": 0,
                        "remaining_time": 69.84429212,
                        "passed_time": 23.28143071,
                        "learn": [
                          0.5369331032
                        ],
                        "test": [
                          0.7950974208
                        ]
                      },
                      {
                        "parameters": [
                          {
                            "learning_rate": 0.3,
                            "iterations": 500
                          }
                        ],
                        "iteration": 1,
                        "remaining_time": 46.27147903,
                        "passed_time": 46.27147903,
                        "learn": [
                          0.286683757
                        ],
                        "test": [
                          0.7934064827
                        ]
                      },
                      {
                        "parameters": [
                          {
                            "learning_rate": 0.1,
                            "iterations": 1000
                          }
                        ],
                        "iteration": 2,
                        "remaining_time": 30.70083993,
                        "passed_time": 92.10251979,
                        "learn": [
                          0.3574274425
                        ],
                        "test": [
                          0.7438265167
                        ]
                      },
                      {
                        "parameters": [
                          {
                            "learning_rate": 0.3,
                            "iterations": 1000
                          }
                        ],
                        "iteration": 3,
                        "remaining_time": 0,
                        "passed_time": 138.1531907,
                        "learn": [
                          0.1283722252
                        ],
                        "test": [
                          0.7764227622
                        ]
                      }
                    ]
                  },
                  "total_iterations": 4,
                  "passed_iterations": 3
                },
                "path": "catboost_info",
                "name": "catboost_info"
              }
            },
            "_view_module": "catboost-widget",
            "_model_module_version": "^1.0.0",
            "_view_count": null,
            "_view_module_version": "^1.0.0",
            "layout": "IPY_MODEL_bcac3c39cd954763b9a1fc67ccf28f56",
            "_model_module": "catboost-widget"
          }
        }
      }
    }
  },
  "cells": [
    {
      "cell_type": "markdown",
      "metadata": {
        "id": "qGJTmIKu07bg"
      },
      "source": [
        "# Импорт модулей"
      ]
    },
    {
      "cell_type": "code",
      "metadata": {
        "colab": {
          "base_uri": "https://localhost:8080/"
        },
        "id": "84KVx-aT0x9r",
        "outputId": "be6b9018-9d3e-4ac1-b355-754f9adbf9a7"
      },
      "source": [
        "from sklearn.model_selection import train_test_split, GridSearchCV\n",
        "from sklearn.metrics import mean_absolute_error\n",
        "from sklearn.preprocessing import StandardScaler\n",
        "from sklearn.ensemble import RandomForestRegressor, GradientBoostingRegressor, AdaBoostRegressor, StackingRegressor\n",
        "from sklearn.linear_model import LinearRegression, ElasticNet, LassoLars, Lasso, RidgeCV\n",
        "from sklearn.kernel_ridge import KernelRidge\n",
        "from sklearn.feature_selection import SelectFromModel\n",
        "from sklearn.metrics import mean_squared_log_error\n",
        "from sklearn.metrics import r2_score\n",
        "\n",
        "import xgboost as xgb\n",
        "import lightgbm as lgb\n",
        "\n",
        "from scipy import stats\n",
        "from scipy.stats import norm, skew\n",
        "\n",
        "import numpy as np\n",
        "import pandas as pd\n",
        "\n",
        "import seaborn as sns\n",
        "import matplotlib.pyplot as plt  \n",
        "\n",
        "import warnings\n",
        "warnings.filterwarnings('ignore')\n",
        "\n",
        "!pip install catboost\n",
        "import catboost"
      ],
      "execution_count": 4,
      "outputs": [
        {
          "output_type": "stream",
          "text": [
            "Requirement already satisfied: catboost in /usr/local/lib/python3.7/dist-packages (0.26.1)\n",
            "Requirement already satisfied: plotly in /usr/local/lib/python3.7/dist-packages (from catboost) (4.4.1)\n",
            "Requirement already satisfied: pandas>=0.24.0 in /usr/local/lib/python3.7/dist-packages (from catboost) (1.1.5)\n",
            "Requirement already satisfied: six in /usr/local/lib/python3.7/dist-packages (from catboost) (1.15.0)\n",
            "Requirement already satisfied: graphviz in /usr/local/lib/python3.7/dist-packages (from catboost) (0.10.1)\n",
            "Requirement already satisfied: matplotlib in /usr/local/lib/python3.7/dist-packages (from catboost) (3.2.2)\n",
            "Requirement already satisfied: scipy in /usr/local/lib/python3.7/dist-packages (from catboost) (1.4.1)\n",
            "Requirement already satisfied: numpy>=1.16.0 in /usr/local/lib/python3.7/dist-packages (from catboost) (1.19.5)\n",
            "Requirement already satisfied: python-dateutil>=2.7.3 in /usr/local/lib/python3.7/dist-packages (from pandas>=0.24.0->catboost) (2.8.2)\n",
            "Requirement already satisfied: pytz>=2017.2 in /usr/local/lib/python3.7/dist-packages (from pandas>=0.24.0->catboost) (2018.9)\n",
            "Requirement already satisfied: kiwisolver>=1.0.1 in /usr/local/lib/python3.7/dist-packages (from matplotlib->catboost) (1.3.1)\n",
            "Requirement already satisfied: pyparsing!=2.0.4,!=2.1.2,!=2.1.6,>=2.0.1 in /usr/local/lib/python3.7/dist-packages (from matplotlib->catboost) (2.4.7)\n",
            "Requirement already satisfied: cycler>=0.10 in /usr/local/lib/python3.7/dist-packages (from matplotlib->catboost) (0.10.0)\n",
            "Requirement already satisfied: retrying>=1.3.3 in /usr/local/lib/python3.7/dist-packages (from plotly->catboost) (1.3.3)\n"
          ],
          "name": "stdout"
        }
      ]
    },
    {
      "cell_type": "markdown",
      "metadata": {
        "id": "yXFMB23r1B01"
      },
      "source": [
        "# Работа с данными"
      ]
    },
    {
      "cell_type": "code",
      "metadata": {
        "id": "dFPFQxEM1JmO"
      },
      "source": [
        "data = pd.read_csv(\"SCI_and_preferences.csv\", encoding=\"utf-8\").iloc[:, 1:]"
      ],
      "execution_count": 6,
      "outputs": []
    },
    {
      "cell_type": "code",
      "metadata": {
        "id": "5h8B4Cpz400F"
      },
      "source": [
        "data = data.drop_duplicates(subset=data.columns[2:]).reset_index(drop=True)"
      ],
      "execution_count": 7,
      "outputs": []
    },
    {
      "cell_type": "code",
      "metadata": {
        "id": "H0BTSMEyrsdc"
      },
      "source": [
        "data = data.iloc[:, 2:]"
      ],
      "execution_count": 9,
      "outputs": []
    },
    {
      "cell_type": "code",
      "metadata": {
        "id": "Kx9NqXgPovQr"
      },
      "source": [
        "X = data.iloc[:, :-1]\n",
        "y = data.iloc[:, -1]"
      ],
      "execution_count": 10,
      "outputs": []
    },
    {
      "cell_type": "code",
      "metadata": {
        "id": "1_plaY53JKfa"
      },
      "source": [
        "X_train, X_test, y_train, y_test = train_test_split(X.values, y.values, train_size=0.8, random_state=0)"
      ],
      "execution_count": 11,
      "outputs": []
    },
    {
      "cell_type": "code",
      "metadata": {
        "id": "pQxMYl8j6_en"
      },
      "source": [
        "scaler = StandardScaler()\n",
        "scaler.fit(X_train)\n",
        "\n",
        "X_train = scaler.transform(X_train)\n",
        "X_test = scaler.transform(X_test)"
      ],
      "execution_count": 12,
      "outputs": []
    },
    {
      "cell_type": "code",
      "metadata": {
        "colab": {
          "base_uri": "https://localhost:8080/",
          "height": 280
        },
        "id": "BLWRFbnE7m31",
        "outputId": "a5084105-8525-4ef7-dc6c-e6360c98e68d"
      },
      "source": [
        "sns.distplot(np.log(y) , fit=norm)\n",
        "plt.show()"
      ],
      "execution_count": 13,
      "outputs": [
        {
          "output_type": "display_data",
          "data": {
            "image/png": "[encoded data removed]",
            "text/plain": [
              "<Figure size 432x288 with 1 Axes>"
            ]
          },
          "metadata": {
            "tags": [],
            "needs_background": "light"
          }
        }
      ]
    },
    {
      "cell_type": "code",
      "metadata": {
        "id": "Y_E9Ha-M8O9s"
      },
      "source": [
        "y_train, y_test = np.log(y_train), np.log(y_test)"
      ],
      "execution_count": 14,
      "outputs": []
    },
    {
      "cell_type": "code",
      "metadata": {
        "colab": {
          "base_uri": "https://localhost:8080/",
          "height": 265
        },
        "id": "FrRssMBf8esE",
        "outputId": "fe08a357-09ba-465d-99b1-4ffa123a7590"
      },
      "source": [
        "sns.distplot(y_train , fit=norm)\n",
        "plt.show()"
      ],
      "execution_count": 15,
      "outputs": [
        {
          "output_type": "display_data",
          "data": {
            "image/png": "[encoded data removed]",
            "text/plain": [
              "<Figure size 432x288 with 1 Axes>"
            ]
          },
          "metadata": {
            "tags": [],
            "needs_background": "light"
          }
        }
      ]
    },
    {
      "cell_type": "code",
      "metadata": {
        "colab": {
          "base_uri": "https://localhost:8080/",
          "height": 265
        },
        "id": "dMyiZ7VH8lcu",
        "outputId": "8649ea2e-5f6a-49ff-f453-d36c074841c3"
      },
      "source": [
        "sns.distplot(y_test , fit=norm)\n",
        "plt.show()"
      ],
      "execution_count": 16,
      "outputs": [
        {
          "output_type": "display_data",
          "data": {
            "image/png": "[encoded data removed]",
            "text/plain": [
              "<Figure size 432x288 with 1 Axes>"
            ]
          },
          "metadata": {
            "tags": [],
            "needs_background": "light"
          }
        }
      ]
    },
    {
      "cell_type": "markdown",
      "metadata": {
        "id": "Aihj4ReZCLr0"
      },
      "source": [
        "# Построение моделей"
      ]
    },
    {
      "cell_type": "code",
      "metadata": {
        "id": "KIUFIkI8NZMy"
      },
      "source": [
        "def mape(actual, pred):\n",
        "    return np.mean(np.abs((actual - pred) / actual)) * 100"
      ],
      "execution_count": 17,
      "outputs": []
    },
    {
      "cell_type": "code",
      "metadata": {
        "id": "Ime7mDmOJCqO"
      },
      "source": [
        "boosting_reg = catboost.CatBoostRegressor(eval_metric='RMSE', logging_level='Silent', random_state=0)"
      ],
      "execution_count": 18,
      "outputs": []
    },
    {
      "cell_type": "code",
      "metadata": {
        "colab": {
          "base_uri": "https://localhost:8080/",
          "height": 34,
          "referenced_widgets": [
            "0ee3cb21f66442529a512576e3aa390a"
          ]
        },
        "id": "Hs8QwsMqOwT6",
        "outputId": "f801dc68-b852-4648-8b34-05678d4adb2a"
      },
      "source": [
        "boosting_reg.grid_search({'iterations': [500, 1000], 'learning_rate': [0.1, 0.3]}, \n",
        "                           X_train, y_train, verbose=False, plot=True, refit=True, cv=5);"
      ],
      "execution_count": 20,
      "outputs": [
        {
          "output_type": "stream",
          "text": [
            "Custom logger is already specified. Specify more than one logger at same time is not thread safe."
          ],
          "name": "stderr"
        },
        {
          "output_type": "display_data",
          "data": {
            "application/vnd.jupyter.widget-view+json": {
              "model_id": "0ee3cb21f66442529a512576e3aa390a",
              "version_minor": 0,
              "version_major": 2
            },
            "text/plain": [
              "MetricVisualizer(layout=Layout(align_self='stretch', height='500px'))"
            ]
          },
          "metadata": {
            "tags": []
          }
        }
      ]
    },
    {
      "cell_type": "code",
      "metadata": {
        "colab": {
          "base_uri": "https://localhost:8080/"
        },
        "id": "I1aiAk8SRRO0",
        "outputId": "31cf54a4-50d9-4680-decb-e472b3e609a8"
      },
      "source": [
        "print('train MAE = {}'.format(mean_absolute_error(y_train, boosting_reg.predict(X_train))))"
      ],
      "execution_count": 21,
      "outputs": [
        {
          "output_type": "stream",
          "text": [
            "train MAE = 0.2926529557928739\n"
          ],
          "name": "stdout"
        }
      ]
    },
    {
      "cell_type": "code",
      "metadata": {
        "colab": {
          "base_uri": "https://localhost:8080/"
        },
        "id": "INQSAH7DNPog",
        "outputId": "5201e29c-6f45-4e32-e1be-8aca3d1d3d33"
      },
      "source": [
        "print('test MAE = {}'.format(mean_absolute_error(y_test, boosting_reg.predict(X_test))))"
      ],
      "execution_count": 22,
      "outputs": [
        {
          "output_type": "stream",
          "text": [
            "test MAE = 0.49261560790134074\n"
          ],
          "name": "stdout"
        }
      ]
    },
    {
      "cell_type": "code",
      "metadata": {
        "colab": {
          "base_uri": "https://localhost:8080/"
        },
        "id": "jMPp_3VxOHCJ",
        "outputId": "9b9f52b3-39f3-4fbd-f2bf-27c5a5a0527e"
      },
      "source": [
        "print('train MAPE = {}%'.format(mape(y_train, boosting_reg.predict(X_train))))"
      ],
      "execution_count": 23,
      "outputs": [
        {
          "output_type": "stream",
          "text": [
            "train MAPE = 4.918660022292928%\n"
          ],
          "name": "stdout"
        }
      ]
    },
    {
      "cell_type": "code",
      "metadata": {
        "colab": {
          "base_uri": "https://localhost:8080/"
        },
        "id": "wwximISOOU9Y",
        "outputId": "4634a5e9-cfcb-49cf-c3e0-efd9980e0ebb"
      },
      "source": [
        "print('test MAPE = {}%'.format(mape(y_test, boosting_reg.predict(X_test))))"
      ],
      "execution_count": 24,
      "outputs": [
        {
          "output_type": "stream",
          "text": [
            "test MAPE = 8.194533704156168%\n"
          ],
          "name": "stdout"
        }
      ]
    },
    {
      "cell_type": "code",
      "metadata": {
        "colab": {
          "base_uri": "https://localhost:8080/"
        },
        "id": "rP_qnKbuDv_7",
        "outputId": "ffe57bcd-ca1d-4f6d-d5a1-53970fb89bfd"
      },
      "source": [
        "print('train R_squared = {}'.format(r2_score(y_train, boosting_reg.predict(X_train))))"
      ],
      "execution_count": 25,
      "outputs": [
        {
          "output_type": "stream",
          "text": [
            "train R_squared = 0.9250404208626384\n"
          ],
          "name": "stdout"
        }
      ]
    },
    {
      "cell_type": "code",
      "metadata": {
        "colab": {
          "base_uri": "https://localhost:8080/"
        },
        "id": "-qykQnFnD6z5",
        "outputId": "b340e9fc-670f-4c56-ecf3-58644e414b7f"
      },
      "source": [
        "print('test R_squared = {}'.format(r2_score(y_test, boosting_reg.predict(X_test))))"
      ],
      "execution_count": 26,
      "outputs": [
        {
          "output_type": "stream",
          "text": [
            "test R_squared = 0.7609360401533717\n"
          ],
          "name": "stdout"
        }
      ]
    },
    {
      "cell_type": "code",
      "metadata": {
        "colab": {
          "base_uri": "https://localhost:8080/"
        },
        "id": "vJPB7vH6EKva",
        "outputId": "b4b9a38e-d4da-4c6d-e362-6e6206dfa62c"
      },
      "source": [
        "boosting_reg.feature_importances_"
      ],
      "execution_count": 32,
      "outputs": [
        {
          "output_type": "execute_result",
          "data": {
            "text/plain": [
              "array([0.23734151, 0.12490469, 0.15620696, 0.42916325, 0.79508018,\n",
              "       0.34149538, 0.37717344, 0.4908624 , 0.15265193, 0.48915803,\n",
              "       2.94714825, 6.84972672, 1.6752135 , 0.25513918, 0.55733527,\n",
              "       0.46432151, 0.99611397, 0.59823976, 1.76938094, 0.34413344,\n",
              "       1.35721706, 0.74236487, 0.89963335, 0.90996698, 0.72886555,\n",
              "       1.08086142, 0.16468474, 0.6413299 , 0.3758199 , 0.16259259,\n",
              "       0.75040221, 1.39689089, 0.27206486, 3.40790544, 0.36474754,\n",
              "       0.3140062 , 0.30115744, 2.38994738, 0.68762824, 2.06801865,\n",
              "       1.59241935, 0.11662826, 0.34413495, 0.44895156, 0.25723723,\n",
              "       0.32351024, 0.97336855, 0.12561775, 0.27279847, 0.40857706,\n",
              "       0.36059827, 0.26703842, 0.33112713, 1.94908863, 0.90082971,\n",
              "       2.71153171, 0.39451287, 1.09134071, 0.36503069, 0.60077197,\n",
              "       0.29222605, 0.17194676, 0.39369087, 0.24643564, 0.23700741,\n",
              "       0.19906405, 0.42621641, 1.40727285, 1.06765825, 0.35419566,\n",
              "       0.28905458, 0.29104604, 0.35059152, 0.10667084, 0.0688995 ,\n",
              "       0.12484266, 0.17998077, 0.30569953, 0.18774793, 0.3168672 ,\n",
              "       0.86576023, 0.33153072, 1.40303531, 0.55143441, 0.33750076,\n",
              "       0.18678692, 0.1144733 , 0.5855341 , 0.16227894, 0.39102933,\n",
              "       0.3817132 , 0.16740688, 0.08490955, 0.46246846, 1.21378104,\n",
              "       0.53452322, 0.2876971 , 0.30350023, 0.23122587, 0.42532679,\n",
              "       0.08244851, 0.44141901, 0.24653073, 0.18848826, 0.71909002,\n",
              "       0.94076042, 1.04267418, 3.18253447, 1.74947278, 2.58600306,\n",
              "       0.45704269, 1.74310017, 0.27707825, 0.12060106, 0.10670864,\n",
              "       0.56749152, 5.86045704, 0.26441412, 0.41742823, 0.51090032,\n",
              "       1.22568743, 0.92757596, 0.2007719 , 0.2658809 , 0.25895344,\n",
              "       0.51452836, 0.53592461, 0.60928219, 0.47246303, 0.34523385,\n",
              "       0.27945989, 0.68039411, 0.26975473, 0.17076345, 0.24435963,\n",
              "       0.74608487, 0.75392228, 0.1824837 , 0.87079226])"
            ]
          },
          "metadata": {
            "tags": []
          },
          "execution_count": 32
        }
      ]
    },
    {
      "cell_type": "code",
      "metadata": {
        "id": "yB3OuUf_DwGY"
      },
      "source": [
        ""
      ],
      "execution_count": null,
      "outputs": []
    },
    {
      "cell_type": "code",
      "metadata": {
        "id": "tnuk5HODDFc0",
        "colab": {
          "base_uri": "https://localhost:8080/"
        },
        "outputId": "6a6f6779-1c4c-461e-baa8-f2bf86be7758"
      },
      "source": [
        "lin_reg = LinearRegression()\n",
        "\n",
        "lin_reg.fit(X_train, y_train)"
      ],
      "execution_count": 27,
      "outputs": [
        {
          "output_type": "execute_result",
          "data": {
            "text/plain": [
              "LinearRegression(copy_X=True, fit_intercept=True, n_jobs=None, normalize=False)"
            ]
          },
          "metadata": {
            "tags": []
          },
          "execution_count": 27
        }
      ]
    },
    {
      "cell_type": "code",
      "metadata": {
        "id": "9I8DRgB6DFkR",
        "colab": {
          "base_uri": "https://localhost:8080/"
        },
        "outputId": "3ad1cb43-bd8b-4901-ebf7-1ba6ba1392e8"
      },
      "source": [
        "lin_reg.score(X_train, y_train)"
      ],
      "execution_count": 28,
      "outputs": [
        {
          "output_type": "execute_result",
          "data": {
            "text/plain": [
              "0.33367838730878596"
            ]
          },
          "metadata": {
            "tags": []
          },
          "execution_count": 28
        }
      ]
    },
    {
      "cell_type": "code",
      "metadata": {
        "colab": {
          "base_uri": "https://localhost:8080/"
        },
        "id": "9FnMQ-A7Al3G",
        "outputId": "3afd7e07-29d3-40ad-b331-e3bbe4d32660"
      },
      "source": [
        "lin_reg.score(X_test, y_test)"
      ],
      "execution_count": 29,
      "outputs": [
        {
          "output_type": "execute_result",
          "data": {
            "text/plain": [
              "0.32449934085759624"
            ]
          },
          "metadata": {
            "tags": []
          },
          "execution_count": 29
        }
      ]
    },
    {
      "cell_type": "code",
      "metadata": {
        "colab": {
          "base_uri": "https://localhost:8080/"
        },
        "id": "vPy7QCKuAvrb",
        "outputId": "2d898170-ae59-44ed-e919-8f8a8ebfb407"
      },
      "source": [
        "print('train MAPE = {}%'.format(mape(y_train, lin_reg.predict(X_train))))"
      ],
      "execution_count": 30,
      "outputs": [
        {
          "output_type": "stream",
          "text": [
            "train MAPE = 15.009864501664913%\n"
          ],
          "name": "stdout"
        }
      ]
    },
    {
      "cell_type": "code",
      "metadata": {
        "colab": {
          "base_uri": "https://localhost:8080/"
        },
        "id": "V_KWKdWPAwgz",
        "outputId": "5e22a826-0a6c-40a3-a142-e25db9c2f396"
      },
      "source": [
        "print('test MAPE = {}%'.format(mape(y_test, lin_reg.predict(X_test))))"
      ],
      "execution_count": 31,
      "outputs": [
        {
          "output_type": "stream",
          "text": [
            "test MAPE = 15.107749715775013%\n"
          ],
          "name": "stdout"
        }
      ]
    }
  ]
}