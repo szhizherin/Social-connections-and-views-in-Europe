{
  "nbformat": 4,
  "nbformat_minor": 0,
  "metadata": {
    "colab": {
      "name": "predict_SCI.ipynb",
      "provenance": [],
      "collapsed_sections": []
    },
    "kernelspec": {
      "display_name": "Python 3",
      "name": "python3"
    },
    "language_info": {
      "name": "python"
    },
    "widgets": {
      "application/vnd.jupyter.widget-state+json": {
        "fa2ba1fb1a294ed89a5980740fdd2a91": {
          "model_module": "catboost-widget",
          "model_name": "CatboostWidgetModel",
          "model_module_version": "^1.0.0",
          "state": {
            "_view_name": "CatboostWidgetView",
            "_dom_classes": [],
            "_model_name": "CatboostWidgetModel",
            "data": {
              "catboost_info": {
                "content": {
                  "data": {
                    "meta": {
                      "name": "experiment",
                      "parameters": "parameters",
                      "test_metrics": [
                        {
                          "best_value": "Min",
                          "name": "RMSE"
                        }
                      ],
                      "learn_sets": [
                        "learn"
                      ],
                      "launch_mode": "Train",
                      "learn_metrics": [
                        {
                          "best_value": "Min",
                          "name": "RMSE"
                        }
                      ],
                      "iteration_count": 4,
                      "test_sets": [
                        "test"
                      ]
                    },
                    "iterations": [
                      {
                        "parameters": [
                          {
                            "learning_rate": 0.1,
                            "iterations": 500
                          }
                        ],
                        "iteration": 0,
                        "remaining_time": 53.246046,
                        "passed_time": 17.748682,
                        "learn": [
                          0.4999561616
                        ],
                        "test": [
                          0.7144601453
                        ]
                      },
                      {
                        "parameters": [
                          {
                            "learning_rate": 0.3,
                            "iterations": 500
                          }
                        ],
                        "iteration": 1,
                        "remaining_time": 35.53201679,
                        "passed_time": 35.53201679,
                        "learn": [
                          0.2473522337
                        ],
                        "test": [
                          0.7245153584
                        ]
                      },
                      {
                        "parameters": [
                          {
                            "learning_rate": 0.1,
                            "iterations": 1000
                          }
                        ],
                        "iteration": 2,
                        "remaining_time": 24.23200759,
                        "passed_time": 72.69602278,
                        "learn": [
                          0.3192234528
                        ],
                        "test": [
                          0.6756735482
                        ]
                      },
                      {
                        "parameters": [
                          {
                            "learning_rate": 0.3,
                            "iterations": 1000
                          }
                        ],
                        "iteration": 3,
                        "remaining_time": 0,
                        "passed_time": 108.082837,
                        "learn": [
                          0.1017988214
                        ],
                        "test": [
                          0.7151705373
                        ]
                      }
                    ]
                  },
                  "total_iterations": 4,
                  "passed_iterations": 3
                },
                "path": "catboost_info",
                "name": "catboost_info"
              }
            },
            "_view_module": "catboost-widget",
            "_model_module_version": "^1.0.0",
            "_view_count": null,
            "_view_module_version": "^1.0.0",
            "layout": "IPY_MODEL_059fed048aad4bf492be3fc64539fbbb",
            "_model_module": "catboost-widget"
          }
        },
        "ff9d8a9cb19042e585d4f2fbaf4f3b6e": {
          "model_module": "catboost-widget",
          "model_name": "CatboostWidgetModel",
          "model_module_version": "^1.0.0",
          "state": {
            "_view_name": "CatboostWidgetView",
            "_dom_classes": [],
            "_model_name": "CatboostWidgetModel",
            "data": {
              "catboost_info": {
                "content": {
                  "data": {
                    "meta": {
                      "name": "experiment",
                      "parameters": "parameters",
                      "test_metrics": [
                        {
                          "best_value": "Min",
                          "name": "RMSE"
                        }
                      ],
                      "learn_sets": [
                        "learn"
                      ],
                      "launch_mode": "Train",
                      "learn_metrics": [
                        {
                          "best_value": "Min",
                          "name": "RMSE"
                        }
                      ],
                      "iteration_count": 9,
                      "test_sets": [
                        "test"
                      ]
                    },
                    "iterations": [
                      {
                        "parameters": [
                          {
                            "learning_rate": 0.1,
                            "iterations": 300
                          }
                        ],
                        "iteration": 0,
                        "remaining_time": 7.659957889,
                        "passed_time": 0.9574947362,
                        "learn": [
                          0.8503324097
                        ],
                        "test": [
                          0.8353099946
                        ]
                      },
                      {
                        "parameters": [
                          {
                            "learning_rate": 0.3,
                            "iterations": 300
                          }
                        ],
                        "iteration": 1,
                        "remaining_time": 6.737880287,
                        "passed_time": 1.925108653,
                        "learn": [
                          0.8350957176
                        ],
                        "test": [
                          0.834579223
                        ]
                      },
                      {
                        "parameters": [
                          {
                            "learning_rate": 0.5,
                            "iterations": 300
                          }
                        ],
                        "iteration": 2,
                        "remaining_time": 5.797620739,
                        "passed_time": 2.898810369,
                        "learn": [
                          0.8300494519
                        ],
                        "test": [
                          0.8377145277
                        ]
                      },
                      {
                        "parameters": [
                          {
                            "learning_rate": 0.1,
                            "iterations": 500
                          }
                        ],
                        "iteration": 3,
                        "remaining_time": 5.606029881,
                        "passed_time": 4.484823904,
                        "learn": [
                          0.844260494
                        ],
                        "test": [
                          0.8353099946
                        ]
                      },
                      {
                        "parameters": [
                          {
                            "learning_rate": 0.3,
                            "iterations": 500
                          }
                        ],
                        "iteration": 4,
                        "remaining_time": 4.867191324,
                        "passed_time": 6.083989155,
                        "learn": [
                          0.828686513
                        ],
                        "test": [
                          0.834579223
                        ]
                      },
                      {
                        "parameters": [
                          {
                            "learning_rate": 0.5,
                            "iterations": 500
                          }
                        ],
                        "iteration": 5,
                        "remaining_time": 3.838057399,
                        "passed_time": 7.676114798,
                        "learn": [
                          0.8242819617
                        ],
                        "test": [
                          0.8377145277
                        ]
                      },
                      {
                        "parameters": [
                          {
                            "learning_rate": 0.1,
                            "iterations": 700
                          }
                        ],
                        "iteration": 6,
                        "remaining_time": 2.831070797,
                        "passed_time": 9.90874779,
                        "learn": [
                          0.8394808369
                        ],
                        "test": [
                          0.8353099946
                        ]
                      },
                      {
                        "parameters": [
                          {
                            "learning_rate": 0.3,
                            "iterations": 700
                          }
                        ],
                        "iteration": 7,
                        "remaining_time": 1.515681012,
                        "passed_time": 12.1254481,
                        "learn": [
                          0.8255686005
                        ],
                        "test": [
                          0.834579223
                        ]
                      },
                      {
                        "parameters": [
                          {
                            "learning_rate": 0.5,
                            "iterations": 700
                          }
                        ],
                        "iteration": 8,
                        "remaining_time": 0,
                        "passed_time": 14.37281213,
                        "learn": [
                          0.8212704201
                        ],
                        "test": [
                          0.8377145277
                        ]
                      }
                    ]
                  },
                  "total_iterations": 9,
                  "passed_iterations": 8
                },
                "path": "catboost_info",
                "name": "catboost_info"
              }
            },
            "_view_module": "catboost-widget",
            "_model_module_version": "^1.0.0",
            "_view_count": null,
            "_view_module_version": "^1.0.0",
            "layout": "IPY_MODEL_284cad4f800f4f50a203102fc243b9d9",
            "_model_module": "catboost-widget"
          }
        }
      }
    }
  },
  "cells": [
    {
      "cell_type": "markdown",
      "metadata": {
        "id": "qGJTmIKu07bg"
      },
      "source": [
        "# Importing modules"
      ]
    },
    {
      "cell_type": "code",
      "metadata": {
        "id": "84KVx-aT0x9r"
      },
      "source": [
        "from sklearn.model_selection import train_test_split\n",
        "from sklearn.metrics import mean_absolute_error, r2_score\n",
        "from sklearn.preprocessing import StandardScaler\n",
        "from sklearn.linear_model import LinearRegression\n",
        "\n",
        "import numpy as np\n",
        "import pandas as pd\n",
        "\n",
        "import seaborn as sns\n",
        "import matplotlib.pyplot as plt  \n",
        "\n",
        "# !pip install catboost\n",
        "import catboost"
      ],
      "execution_count": 3,
      "outputs": []
    },
    {
      "cell_type": "markdown",
      "metadata": {
        "id": "yXFMB23r1B01"
      },
      "source": [
        "# Data processing"
      ]
    },
    {
      "cell_type": "code",
      "metadata": {
        "id": "dFPFQxEM1JmO"
      },
      "source": [
        "# get the preferences data\n",
        "data_pref_raw = pd.read_csv(\"SCI_and_preferences.csv\", encoding=\"utf-8\").iloc[:, 1:]\n",
        "data_pref_raw = data_pref_raw.drop_duplicates(subset=data_pref_raw.columns[2:]).reset_index(drop=True)\n",
        "data_pref_raw.scaled_sci = np.log(data_pref_raw.scaled_sci)\n",
        "\n",
        "pref_features = list(data_pref_raw.columns[2:-1])\n",
        "log_SCI = [data_pref_raw.columns[-1]]"
      ],
      "execution_count": 4,
      "outputs": []
    },
    {
      "cell_type": "code",
      "metadata": {
        "id": "kBsUKLEDb-q8"
      },
      "source": [
        "# get the exogenous variables (containing extra regions and duplicates)\n",
        "data_exog_raw = pd.read_csv(\"SCI_and_exogenous_variables.csv\", encoding=\"utf-8\").iloc[:, 1:]\n",
        "data_exog_raw[\"log_distance\"] = np.log(data_exog_raw.distance)\n",
        "\n",
        "exog_features = list(data_exog_raw.columns[2:])"
      ],
      "execution_count": 5,
      "outputs": []
    },
    {
      "cell_type": "code",
      "metadata": {
        "id": "uL2oNDy4d-Ib"
      },
      "source": [
        "# combine the datasets omitting extra regions and duplicates\n",
        "data_joint = pd.merge(data_pref_raw, data_exog_raw,  how=\"inner\", left_on=[\"user_loc\", \"fr_loc\"], right_on=[\"user_loc\", \"fr_loc\"])"
      ],
      "execution_count": 6,
      "outputs": []
    },
    {
      "cell_type": "code",
      "metadata": {
        "id": "utOP9vyrgYhR"
      },
      "source": [
        "# create two datasets with equal number of rows, but different sets of predictors\n",
        "data_pref = data_joint.loc[:, log_SCI + pref_features] # preferences\n",
        "data_exog = data_joint.loc[:, log_SCI + exog_features] # exogenous variables"
      ],
      "execution_count": 7,
      "outputs": []
    },
    {
      "cell_type": "markdown",
      "metadata": {
        "id": "RcKZvLtBilTz"
      },
      "source": [
        "# Building models for prediction of $log(SCI)$"
      ]
    },
    {
      "cell_type": "markdown",
      "metadata": {
        "id": "B5Yb49EKi_F6"
      },
      "source": [
        "## 1) $log(SCI)$ ~ preferences"
      ]
    },
    {
      "cell_type": "code",
      "metadata": {
        "id": "Kx9NqXgPovQr"
      },
      "source": [
        "X = data_pref.loc[:, pref_features]\n",
        "y = data_pref.loc[:, log_SCI]"
      ],
      "execution_count": 37,
      "outputs": []
    },
    {
      "cell_type": "code",
      "metadata": {
        "id": "1_plaY53JKfa"
      },
      "source": [
        "X_train, X_test, y_train, y_test = train_test_split(X.values, y.values, train_size=0.8, random_state=1)"
      ],
      "execution_count": 38,
      "outputs": []
    },
    {
      "cell_type": "code",
      "metadata": {
        "id": "pQxMYl8j6_en"
      },
      "source": [
        "scaler = StandardScaler()\n",
        "scaler.fit(X_train)\n",
        "\n",
        "X_train = scaler.transform(X_train)\n",
        "X_test = scaler.transform(X_test)"
      ],
      "execution_count": 39,
      "outputs": []
    },
    {
      "cell_type": "code",
      "metadata": {
        "id": "Ime7mDmOJCqO"
      },
      "source": [
        "boosting_reg = catboost.CatBoostRegressor(eval_metric='RMSE', logging_level='Silent', random_state=0)"
      ],
      "execution_count": 40,
      "outputs": []
    },
    {
      "cell_type": "code",
      "metadata": {
        "colab": {
          "base_uri": "https://localhost:8080/",
          "height": 101,
          "referenced_widgets": [
            "fa2ba1fb1a294ed89a5980740fdd2a91"
          ]
        },
        "id": "Hs8QwsMqOwT6",
        "outputId": "6d1c5d99-b3fd-4075-b2dd-77a9fe55da38"
      },
      "source": [
        "boosting_reg.grid_search({'iterations': [500, 1000], 'learning_rate': [0.1, 0.3]}, \n",
        "                           X_train, y_train, plot=True, refit=True, cv=5);"
      ],
      "execution_count": 41,
      "outputs": [
        {
          "output_type": "display_data",
          "data": {
            "application/vnd.jupyter.widget-view+json": {
              "model_id": "fa2ba1fb1a294ed89a5980740fdd2a91",
              "version_minor": 0,
              "version_major": 2
            },
            "text/plain": [
              "MetricVisualizer(layout=Layout(align_self='stretch', height='500px'))"
            ]
          },
          "metadata": {
            "tags": []
          }
        },
        {
          "output_type": "stream",
          "text": [
            "0:\tloss: 0.7144601\tbest: 0.7144601 (0)\ttotal: 17.7s\tremaining: 53.2s\n",
            "1:\tloss: 0.7245154\tbest: 0.7144601 (0)\ttotal: 35.5s\tremaining: 35.5s\n",
            "2:\tloss: 0.6756735\tbest: 0.6756735 (2)\ttotal: 1m 12s\tremaining: 24.2s\n",
            "3:\tloss: 0.7151705\tbest: 0.6756735 (2)\ttotal: 1m 48s\tremaining: 0us\n",
            "Estimating final quality...\n"
          ],
          "name": "stdout"
        }
      ]
    },
    {
      "cell_type": "code",
      "metadata": {
        "colab": {
          "base_uri": "https://localhost:8080/"
        },
        "id": "Y3znUHSjbQBk",
        "outputId": "0a580f36-5e41-4a52-bee0-f9f6c7fb5f18"
      },
      "source": [
        "boosting_reg.get_params()"
      ],
      "execution_count": 42,
      "outputs": [
        {
          "output_type": "execute_result",
          "data": {
            "text/plain": [
              "{'eval_metric': 'RMSE',\n",
              " 'iterations': 1000,\n",
              " 'learning_rate': 0.1,\n",
              " 'logging_level': 'Silent',\n",
              " 'loss_function': 'RMSE',\n",
              " 'random_state': 0}"
            ]
          },
          "metadata": {
            "tags": []
          },
          "execution_count": 42
        }
      ]
    },
    {
      "cell_type": "code",
      "metadata": {
        "id": "KIUFIkI8NZMy"
      },
      "source": [
        "# define MAPE score\n",
        "def mape(actual, pred):\n",
        "    return np.mean(np.abs((actual - pred) / actual)) * 100"
      ],
      "execution_count": 13,
      "outputs": []
    },
    {
      "cell_type": "code",
      "metadata": {
        "colab": {
          "base_uri": "https://localhost:8080/"
        },
        "id": "I1aiAk8SRRO0",
        "outputId": "3ee0e9e8-919b-41f6-9d1e-3a2c40c9a8c5"
      },
      "source": [
        "print('train MAE = {}'.format(mean_absolute_error(y_train, boosting_reg.predict(X_train))))\n",
        "print('test MAE = {}'.format(mean_absolute_error(y_test, boosting_reg.predict(X_test))))\n",
        "print('train MAPE = {}%'.format(mape(y_train, boosting_reg.predict(X_train))))\n",
        "print('test MAPE = {}%'.format(mape(y_test, boosting_reg.predict(X_test))))\n",
        "print('train R_squared = {}'.format(r2_score(y_train, boosting_reg.predict(X_train))))\n",
        "print('test R_squared = {}'.format(r2_score(y_test, boosting_reg.predict(X_test))))"
      ],
      "execution_count": 43,
      "outputs": [
        {
          "output_type": "stream",
          "text": [
            "train MAE = 0.2599625916993611\n",
            "test MAE = 0.4816478655500689\n",
            "train MAPE = 23.71867982563325%\n",
            "test MAPE = 23.279117383529517%\n",
            "train R_squared = 0.9410961922875284\n",
            "test R_squared = 0.7878284976336678\n"
          ],
          "name": "stdout"
        }
      ]
    },
    {
      "cell_type": "code",
      "metadata": {
        "id": "yB3OuUf_DwGY"
      },
      "source": [
        ""
      ],
      "execution_count": null,
      "outputs": []
    },
    {
      "cell_type": "code",
      "metadata": {
        "id": "tnuk5HODDFc0",
        "colab": {
          "base_uri": "https://localhost:8080/"
        },
        "outputId": "36639db6-6a12-4ed7-c15a-9111fcb70242"
      },
      "source": [
        "lin_reg = LinearRegression()\n",
        "\n",
        "lin_reg.fit(X_train, y_train)"
      ],
      "execution_count": 15,
      "outputs": [
        {
          "output_type": "execute_result",
          "data": {
            "text/plain": [
              "LinearRegression(copy_X=True, fit_intercept=True, n_jobs=None, normalize=False)"
            ]
          },
          "metadata": {
            "tags": []
          },
          "execution_count": 15
        }
      ]
    },
    {
      "cell_type": "code",
      "metadata": {
        "id": "9I8DRgB6DFkR",
        "colab": {
          "base_uri": "https://localhost:8080/"
        },
        "outputId": "297ba9ef-d7fb-4573-a547-0355a43f090f"
      },
      "source": [
        "print('train MAPE = {}%'.format(mape(y_train, lin_reg.predict(X_train))))\n",
        "print('test MAPE = {}%'.format(mape(y_test, lin_reg.predict(X_test))))\n",
        "print('train R_squared = {}'.format(r2_score(y_train, lin_reg.predict(X_train))))\n",
        "print('test R_squared = {}'.format(r2_score(y_test, lin_reg.predict(X_test))))"
      ],
      "execution_count": 16,
      "outputs": [
        {
          "output_type": "stream",
          "text": [
            "train MAPE = 14.623900595851513%\n",
            "test MAPE = 14.713743361792867%\n",
            "train R_squared = 0.3685975165720533\n",
            "test R_squared = 0.37609748763088213\n"
          ],
          "name": "stdout"
        }
      ]
    },
    {
      "cell_type": "markdown",
      "metadata": {
        "id": "rO_CStA_YPMG"
      },
      "source": [
        "## 2) $log(SCI)$ ~ exogenous variables"
      ]
    },
    {
      "cell_type": "code",
      "metadata": {
        "id": "g6C0zCgZYWU2"
      },
      "source": [
        "X = data_exog.loc[:, exog_features]\n",
        "y = data_exog.loc[:, log_SCI]"
      ],
      "execution_count": 44,
      "outputs": []
    },
    {
      "cell_type": "code",
      "metadata": {
        "id": "cDtxtqpgYWcH"
      },
      "source": [
        "X_train, X_test, y_train, y_test = train_test_split(X.values, y.values, train_size=0.8, random_state=1)"
      ],
      "execution_count": 45,
      "outputs": []
    },
    {
      "cell_type": "code",
      "metadata": {
        "id": "GF-JG2urYWfO"
      },
      "source": [
        "scaler = StandardScaler()\n",
        "scaler.fit(X_train)\n",
        "\n",
        "X_train = scaler.transform(X_train)\n",
        "X_test = scaler.transform(X_test)"
      ],
      "execution_count": 46,
      "outputs": []
    },
    {
      "cell_type": "code",
      "metadata": {
        "id": "szbIVN8KYWh6"
      },
      "source": [
        "boosting_reg = catboost.CatBoostRegressor(eval_metric='RMSE', logging_level='Silent', random_state=0)"
      ],
      "execution_count": 30,
      "outputs": []
    },
    {
      "cell_type": "code",
      "metadata": {
        "colab": {
          "base_uri": "https://localhost:8080/",
          "height": 185,
          "referenced_widgets": [
            "ff9d8a9cb19042e585d4f2fbaf4f3b6e"
          ]
        },
        "id": "ClVFCM84YWkx",
        "outputId": "e27581ee-a3d5-4174-890b-0ad84c998d07"
      },
      "source": [
        "boosting_reg.grid_search({'iterations': [300, 500, 700], 'learning_rate': [0.1, 0.3, 0.5]}, \n",
        "                           X_train, y_train, plot=True, refit=True, cv=5);"
      ],
      "execution_count": 31,
      "outputs": [
        {
          "output_type": "display_data",
          "data": {
            "application/vnd.jupyter.widget-view+json": {
              "model_id": "ff9d8a9cb19042e585d4f2fbaf4f3b6e",
              "version_minor": 0,
              "version_major": 2
            },
            "text/plain": [
              "MetricVisualizer(layout=Layout(align_self='stretch', height='500px'))"
            ]
          },
          "metadata": {
            "tags": []
          }
        },
        {
          "output_type": "stream",
          "text": [
            "0:\tloss: 0.8353100\tbest: 0.8353100 (0)\ttotal: 957ms\tremaining: 7.66s\n",
            "1:\tloss: 0.8345792\tbest: 0.8345792 (1)\ttotal: 1.93s\tremaining: 6.74s\n",
            "2:\tloss: 0.8377145\tbest: 0.8345792 (1)\ttotal: 2.9s\tremaining: 5.8s\n",
            "3:\tloss: 0.8353100\tbest: 0.8345792 (1)\ttotal: 4.48s\tremaining: 5.61s\n",
            "4:\tloss: 0.8345792\tbest: 0.8345792 (1)\ttotal: 6.08s\tremaining: 4.87s\n",
            "5:\tloss: 0.8377145\tbest: 0.8345792 (1)\ttotal: 7.68s\tremaining: 3.84s\n",
            "6:\tloss: 0.8353100\tbest: 0.8345792 (1)\ttotal: 9.91s\tremaining: 2.83s\n",
            "7:\tloss: 0.8345792\tbest: 0.8345792 (1)\ttotal: 12.1s\tremaining: 1.51s\n",
            "8:\tloss: 0.8377145\tbest: 0.8345792 (1)\ttotal: 14.4s\tremaining: 0us\n",
            "Estimating final quality...\n"
          ],
          "name": "stdout"
        }
      ]
    },
    {
      "cell_type": "code",
      "metadata": {
        "colab": {
          "base_uri": "https://localhost:8080/"
        },
        "id": "j45QlPgYaoEX",
        "outputId": "438c7252-2f05-406d-b292-cb9e6d1717d5"
      },
      "source": [
        "boosting_reg.get_params()"
      ],
      "execution_count": 35,
      "outputs": [
        {
          "output_type": "execute_result",
          "data": {
            "text/plain": [
              "{'eval_metric': 'RMSE',\n",
              " 'iterations': 300,\n",
              " 'learning_rate': 0.3,\n",
              " 'logging_level': 'Silent',\n",
              " 'loss_function': 'RMSE',\n",
              " 'random_state': 0}"
            ]
          },
          "metadata": {
            "tags": []
          },
          "execution_count": 35
        }
      ]
    },
    {
      "cell_type": "code",
      "metadata": {
        "colab": {
          "base_uri": "https://localhost:8080/"
        },
        "id": "tMJQs6hlYWoC",
        "outputId": "ae920d19-7ec3-41cc-e8ad-c9c6ac93d26b"
      },
      "source": [
        "print('train MAPE = {}%'.format(mape(y_train, boosting_reg.predict(X_train))))\n",
        "print('test MAPE = {}%'.format(mape(y_test, boosting_reg.predict(X_test))))\n",
        "print('train R_squared = {}'.format(r2_score(y_train, boosting_reg.predict(X_train))))\n",
        "print('test R_squared = {}'.format(r2_score(y_test, boosting_reg.predict(X_test))))"
      ],
      "execution_count": 36,
      "outputs": [
        {
          "output_type": "stream",
          "text": [
            "train MAPE = 21.207769835043266%\n",
            "test MAPE = 21.779977453726058%\n",
            "train R_squared = 0.6629703385885135\n",
            "test R_squared = 0.6505219247073549\n"
          ],
          "name": "stdout"
        }
      ]
    },
    {
      "cell_type": "code",
      "metadata": {
        "id": "KR_8Apc5c3iH"
      },
      "source": [
        ""
      ],
      "execution_count": null,
      "outputs": []
    },
    {
      "cell_type": "code",
      "metadata": {
        "colab": {
          "base_uri": "https://localhost:8080/"
        },
        "id": "miOByLwoc_MN",
        "outputId": "40e3ab07-f162-4f84-8cbc-5424f414cadb"
      },
      "source": [
        "lin_reg = LinearRegression()\n",
        "\n",
        "lin_reg.fit(X_train, y_train)"
      ],
      "execution_count": 47,
      "outputs": [
        {
          "output_type": "execute_result",
          "data": {
            "text/plain": [
              "LinearRegression(copy_X=True, fit_intercept=True, n_jobs=None, normalize=False)"
            ]
          },
          "metadata": {
            "tags": []
          },
          "execution_count": 47
        }
      ]
    },
    {
      "cell_type": "code",
      "metadata": {
        "colab": {
          "base_uri": "https://localhost:8080/"
        },
        "id": "4OdNACbSdFQ2",
        "outputId": "f628dde9-49f1-41d6-db29-e4496f6351b7"
      },
      "source": [
        "print('train MAPE = {}%'.format(mape(y_train, lin_reg.predict(X_train))))\n",
        "print('test MAPE = {}%'.format(mape(y_test, lin_reg.predict(X_test))))\n",
        "print('train R_squared = {}'.format(r2_score(y_train, lin_reg.predict(X_train))))\n",
        "print('test R_squared = {}'.format(r2_score(y_test, lin_reg.predict(X_test))))"
      ],
      "execution_count": 48,
      "outputs": [
        {
          "output_type": "stream",
          "text": [
            "train MAPE = 12.591634870545901%\n",
            "test MAPE = 12.672519870149001%\n",
            "train R_squared = 0.5981079185491187\n",
            "test R_squared = 0.6107835826712049\n"
          ],
          "name": "stdout"
        }
      ]
    }
  ]
}