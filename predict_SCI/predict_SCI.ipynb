{
 "cells": [
  {
   "cell_type": "markdown",
   "metadata": {
    "id": "qGJTmIKu07bg"
   },
   "source": [
    "# Importing modules"
   ]
  },
  {
   "cell_type": "code",
   "execution_count": 1,
   "metadata": {
    "id": "84KVx-aT0x9r"
   },
   "outputs": [
    {
     "data": {
      "application/javascript": [
       "{ \n",
       "        'use strict';\n",
       "        \n",
       "        const href = \"https://cdn.datatables.net/v/dt/dt-1.10.18/af-2.3.3/b-1.5.6/b-colvis-1.5.6/b-flash-1.5.6/b-html5-1.5.6/b-print-1.5.6/cr-1.5.0/fc-3.2.5/fh-3.1.4/kt-2.5.0/r-2.2.2/rg-1.1.0/rr-1.2.4/sc-2.0.0/sl-1.3.0/datatables.min.css\";\n",
       "        const attributes = {'id': 'datatables.min.css'} || {};\n",
       "\n",
       "        if ( !$(`link[href*=\"${href}\"]`).length ) {\n",
       "            let link = document.createElement(\"link\");\n",
       "\n",
       "            link.rel = \"stylesheet\";\n",
       "            link.type = \"text/css\";\n",
       "            try {\n",
       "                link.href = requirejs.toUrl(href, 'css');\n",
       "            } catch (error) {\n",
       "                link.href = href;\n",
       "            }\n",
       "            \n",
       "            Object.entries(attributes)\n",
       "                .forEach( ([attr, val]) => $(link).attr(attr, val) );\n",
       "            \n",
       "            document.head.appendChild(link);\n",
       "        }\n",
       "     }"
      ],
      "text/plain": [
       "<JupyterRequire.display.SafeScript object>"
      ]
     },
     "metadata": {
      "finalized": true
     },
     "output_type": "display_data"
    },
    {
     "data": {
      "application/javascript": [
       "{ \n",
       "        'use strict'\n",
       "        \n",
       "        const style = `.dt-button.is-disabled{background-color:#fff;border-color:#dbdbdb;box-shadow:none;opacity:.5;cursor:not-allowed;pointer-events:none}.dt-chart-toolbar{text-align:left}.dt-chart-settings-container{background-color:#fff;border-bottom-left-radius:6px;border-bottom-right-radius:6px;border-top:2px solid #dbdbdb;box-shadow:0 8px 8px rgba(10,10,10,.1);font-size:.875rem;position:absolute;z-index:20}.dt-chart-settings{font-family:BlinkMacSystemFont,-apple-system,\"Segoe UI\",Roboto,Oxygen,Ubuntu,Cantarell,\"Fira Sans\",\"Droid Sans\",\"Helvetica Neue\",Helvetica,Arial,sans-serif;font-size:1.10rem}.dt-chart-menu-label:first-child{margin-top:5px;margin-left:5px;font-size:.85em}table.dataTable{border-collapse:separate !important;border-spacing:0;clear:both;table-layout:auto !important}table.dataTable thead th,table.dataTable thead td{padding:10px 18px;border-bottom:thin solid #ddd}table.dataTable td.column-data-preview{padding:11px 7px}.dataTables_scrollBody{z-index:auto}.dataTables_scrollBody thead:not(.data-preview){visibility:collapse}.dataTables_wrapper.no-footer .dataTables_scrollBody{padding-bottom:20px;border-bottom:0}.dataTables_wrapper.no-footer div.dataTables_scrollBody>table{border-top:thin solid #ddd;border-bottom:thin solid #ddd}.dataTables_wrapper input{display:inline-block;padding:.375rem .75rem;height:calc(2.75rem + 5px);line-height:1.5;color:#495057;background-color:#fff;background-clip:padding-box;border:thin solid #ced4da;border-radius:.25rem;transition:border-color .15s ease-in-out,box-shadow .15s ease-in-out}.dataTables_wrapper label{margin-right:0 !important;margin-bottom:11px;box-sizing:border-box;white-space:nowrap}.dataTables_wrapper select{display:inline-block;padding:.375rem 2.75rem .375rem 1.75rem;height:calc(2.75rem + 5px);line-height:1.5;vertical-align:middle;background:#fff url(\"data:image/svg+xml;charset=utf8,%3Csvgxmlns='http://www.w3.org/2000/svg'viewBox='0045'%3E%3Cpathfill='%23343a40'd='M20L02h4zm05L03h4z'/%3E%3C/svg%3E\") no-repeat right .75rem center;background-size:auto 11px;border:thin solid #ced4da;border-radius:.25rem;-webkit-appearance:none;-moz-appearance:none}.dataTables_wrapper select.dtype{padding:0 1.75rem;font-size:9px;height:calc(1.25rem + 5px);background:#ffdd57;color:rgba(0,0,0,.7);border:0;border-radius:.25rem;text-transform:uppercase}`;\n",
       "        const attributes = {'id': 'jupyter-datatables-css'} || {};\n",
       "        \n",
       "        let id = attributes.id;\n",
       "        let elem_exists = id ? $(`style#${id}`).length > 0 : false;\n",
       "        \n",
       "        let e = elem_exists ? document.querySelector(`style#${id}`)\n",
       "                            : document.createElement(\"style\");\n",
       "        \n",
       "        $(e).text(`${style}`).attr('type', 'text/css');\n",
       "        \n",
       "        Object.entries(attributes)\n",
       "            .forEach( ([attr, val]) => $(e).attr(attr, val) );\n",
       "\n",
       "        if (!elem_exists) document.head.appendChild(e);\n",
       "     }"
      ],
      "text/plain": [
       "<JupyterRequire.display.SafeScript object>"
      ]
     },
     "metadata": {
      "finalized": true
     },
     "output_type": "display_data"
    },
    {
     "data": {
      "application/javascript": [
       "{ \n",
       "        'use strict';\n",
       "    \n",
       "        const script = `define('dt-config', ['underscore', 'moment'], function (_, moment) {\n",
       "\n",
       "  let mapDType = (dtypes, target) => _.object(_.zip(dtypes, new Array(dtypes.length).fill(target)))\n",
       "\n",
       "  $.fn.dataTable.defaults.dateDisplayFormat = 'YYYYMMDD'\n",
       "  $.fn.dataTable.defaults.formatDate = (t, format) => moment(t, format || $.fn.dataTable.defaults.dateDisplayFormat)\n",
       "\n",
       "  $.fn.dataTable.defaults.dTypeMap = {\n",
       "    ...mapDType(['int8', 'int16', 'int32', 'int64', 'float8', 'float16', 'float32', 'float64'], 'num'),\n",
       "    ...mapDType(['datetime8[ns]', 'datetime16[ns]', 'datetime32[ns]', 'datetime64[ns]'], 'date'),\n",
       "    ...mapDType(['timedelta8[ns]', 'timedelta16[ns]', 'timedelta32[ns]', 'timedelta64[ns]'], 'string'), // TODO: Custom type \\`timedelta\\`\n",
       "    ...mapDType(['object', 'string'], 'string'),\n",
       "    ...mapDType(['bool'], 'boolean'),\n",
       "    ...mapDType(['default'], 'num')\n",
       "  }\n",
       "\n",
       "  $.fn.dataTable.defaults.chartMap = {\n",
       "    boolean: ['CategoricalBar', 'Histogram'],\n",
       "    date: ['CategoricalBar', 'Histogram'],\n",
       "    num: ['Histogram', 'CategoricalBar', 'Bar', 'Line'],\n",
       "    string: ['CategoricalBar'],\n",
       "\n",
       "    undefined: ['Bar']\n",
       "  }\n",
       "\n",
       "  return $.fn.dataTable.defaults\n",
       "})\n",
       "`;\n",
       "        const attributes = {'id': 'dt-config-js'} || {};\n",
       "        \n",
       "        let id = attributes.id;\n",
       "        let elem_exists = id ? $(`script#${id}`).length > 0 : false;\n",
       "        \n",
       "        let e = elem_exists ? document.querySelector(`script#${id}`)\n",
       "                            : document.createElement(\"script\");\n",
       "        \n",
       "        $(e).text(`${script}`).attr('type', 'text/javascript');\n",
       "        \n",
       "        Object.entries(attributes)\n",
       "            .forEach( ([attr, val]) => $(e).attr(attr, val) );\n",
       "\n",
       "        if (!elem_exists) document.head.appendChild(e);\n",
       "     }"
      ],
      "text/plain": [
       "<JupyterRequire.display.SafeScript object>"
      ]
     },
     "metadata": {
      "finalized": true
     },
     "output_type": "display_data"
    },
    {
     "data": {
      "application/javascript": [
       "{ \n",
       "        'use strict';\n",
       "    \n",
       "        const script = `/**\n",
       " * Jupyter DataTables\n",
       " *\n",
       " * @module\n",
       " * @summary     Jupyter DataTables\n",
       " * @description Jupyter interactive pandas DataFrame representation leveraging pandas, DataTables and ChartJS.\n",
       " * @file        components.js\n",
       " * @author      Marek Cermak\n",
       " * @contact     macermak@redhat.com\n",
       " * @copyright   Copyright 2019 Marek Cermak <macermak@redhat.com>\n",
       " *\n",
       " * This source file is free software, available under the following license:\n",
       " *   MIT license\n",
       " *\n",
       " * This source file is distributed in the hope that it will be useful, but\n",
       " * WITHOUT ANY WARRANTY; without even the implied warranty of MERCHANTABILITY\n",
       " * or FITNESS FOR A PARTICULAR PURPOSE. See the license files for details.\n",
       " *\n",
       " * For details please refer to: https://github.com/CermakM/jupyter-datatables\n",
       " */\n",
       "\n",
       "define('dt-components', ['underscore'], function (_) {\n",
       "\n",
       "  _.templateSettings = {\n",
       "    escape: /\\{\\{%-([\\s\\S]+?)%\\}\\}/g,\n",
       "    evaluate: /\\{\\{%([\\s\\S]+?)%\\}\\}/g,\n",
       "    interpolate: /\\{\\{(.+?)\\}\\}/g\n",
       "  }\n",
       "\n",
       "\n",
       "  class DTContainer extends HTMLDivElement {\n",
       "    constructor() {\n",
       "      super()\n",
       "\n",
       "      this.attachShadow({ mode: 'open' })\n",
       "\n",
       "      // Bulma CSS\n",
       "      const bulmaStyle = document.createElement('style')\n",
       "      bulmaStyle.textContent = '@import url(https://cdnjs.cloudflare.com/ajax/libs/bulma/0.7.5/css/bulma.min.css);'\n",
       "\n",
       "      this.shadowRoot.appendChild(bulmaStyle)\n",
       "\n",
       "      // Jupyter DataTables CSS\n",
       "      $(this.shadowRoot).append($('style#jupyter-datatables-css').clone())\n",
       "\n",
       "      // classes\n",
       "      this.classList.add('dt-container')\n",
       "    }\n",
       "\n",
       "    connectedCallback() {\n",
       "      // FontAwesome icons\n",
       "      const fas = document.querySelector('link[href*=\"fontawesome\"]')\n",
       "\n",
       "      if (fas) {\n",
       "        this.shadowRoot.appendChild(fas.cloneNode())\n",
       "      }\n",
       "    }\n",
       "\n",
       "    append(e) {\n",
       "      this.shadowRoot.append(e)\n",
       "    }\n",
       "\n",
       "    appendChild(node) {\n",
       "      this.shadowRoot.appendChild(node)\n",
       "    }\n",
       "  }\n",
       "\n",
       "\n",
       "  class DTChartList extends HTMLUListElement {\n",
       "    constructor() {\n",
       "      super()\n",
       "\n",
       "      for (const chartName in $.fn.dataTable.defaults.graphObjects) {\n",
       "        const li = document.createElement('li')\n",
       "        const a = document.createElement('a')\n",
       "\n",
       "        a.setAttribute('role', 'button')\n",
       "        a.setAttribute('aria-disabled', false)\n",
       "        a.setAttribute('aria-pressed', false)\n",
       "\n",
       "        a.setAttribute('data-chart_name', chartName)\n",
       "        a.setAttribute('data-label', 'button-chart-type')\n",
       "\n",
       "        a.style = 'text-transform: capitalize'\n",
       "        a.textContent = \\`\\${chartName} chart\\`\n",
       "\n",
       "        a.classList.add('dt-button')\n",
       "        a.classList.add('dt-chart-type')\n",
       "\n",
       "        li.appendChild(a)\n",
       "\n",
       "        this.appendChild(li)\n",
       "      }\n",
       "\n",
       "      this.classList.add('menu-list')\n",
       "      this.classList.add('dt-chart-list')\n",
       "    }\n",
       "  }\n",
       "\n",
       "  customElements.define('dt-container', DTContainer, { extends: 'div' })\n",
       "  customElements.define('dt-chart-list', DTChartList, { extends: 'ul' })\n",
       "\n",
       "\n",
       "  /* Templates */\n",
       "\n",
       "  const DTSettingsButtonComponentTemplate = _.template(\\`\n",
       "    <div class=\"button is-small dt-chart-settings-button\">\n",
       "        <figure class=\"bd-link-figure\">\n",
       "            <span class=\"icon\">\n",
       "                <i class=\"fas fa-ellipsis-v\"></i>\n",
       "            </span>\n",
       "\n",
       "        </figure>\n",
       "    </div>\n",
       "  \\`)\n",
       "\n",
       "  const DTSettingsComponentTemplate = _.template(\\`\n",
       "    <div class=\"menu dt-chart-settings\">\n",
       "        <p class=\"menu-label dt-chart-menu-label\">Charts</p>\n",
       "        <ul class=\"menu-list\">\n",
       "            <li>\n",
       "                <a>Kind</a>\n",
       "                <ul is=\"dt-chart-list\"></ul>\n",
       "            </li>\n",
       "        </ul>\n",
       "    </div>\n",
       "  \\`)\n",
       "\n",
       "  let createElementFromTemplate = function (template, context) {\n",
       "    let tmp = document.implementation.createHTMLDocument()\n",
       "    tmp.body.innerHTML = template(context)\n",
       "\n",
       "    return tmp.body.children[0]\n",
       "  }\n",
       "\n",
       "\n",
       "  return {\n",
       "    createElementFromTemplate: createElementFromTemplate,\n",
       "\n",
       "    DTChartList: DTChartList,\n",
       "    DTContainer: DTContainer,\n",
       "\n",
       "    templates: {\n",
       "      DTSettingsButtonComponentTemplate: DTSettingsButtonComponentTemplate,\n",
       "      DTSettingsComponentTemplate: DTSettingsComponentTemplate,\n",
       "    }\n",
       "  }\n",
       "})\n",
       "`;\n",
       "        const attributes = {'id': 'dt-components-js'} || {};\n",
       "        \n",
       "        let id = attributes.id;\n",
       "        let elem_exists = id ? $(`script#${id}`).length > 0 : false;\n",
       "        \n",
       "        let e = elem_exists ? document.querySelector(`script#${id}`)\n",
       "                            : document.createElement(\"script\");\n",
       "        \n",
       "        $(e).text(`${script}`).attr('type', 'text/javascript');\n",
       "        \n",
       "        Object.entries(attributes)\n",
       "            .forEach( ([attr, val]) => $(e).attr(attr, val) );\n",
       "\n",
       "        if (!elem_exists) document.head.appendChild(e);\n",
       "     }"
      ],
      "text/plain": [
       "<JupyterRequire.display.SafeScript object>"
      ]
     },
     "metadata": {
      "finalized": true
     },
     "output_type": "display_data"
    },
    {
     "data": {
      "application/javascript": [
       "{ \n",
       "        'use strict';\n",
       "    \n",
       "        const script = `/**\n",
       " * Jupyter DataTables\n",
       " *\n",
       " * @module\n",
       " * @summary     Jupyter DataTables\n",
       " * @description Jupyter interactive pandas DataFrame representation leveraging pandas, DataTables and ChartJS.\n",
       " * @file        graph-objects.js\n",
       " * @author      Marek Cermak\n",
       " * @contact     macermak@redhat.com\n",
       " * @copyright   Copyright 2019 Marek Cermak <macermak@redhat.com>\n",
       " *\n",
       " * This source file is free software, available under the following license:\n",
       " *   MIT license\n",
       " *\n",
       " * This source file is distributed in the hope that it will be useful, but\n",
       " * WITHOUT ANY WARRANTY; without even the implied warranty of MERCHANTABILITY\n",
       " * or FITNESS FOR A PARTICULAR PURPOSE. See the license files for details.\n",
       " *\n",
       " * For details please refer to: https://github.com/CermakM/jupyter-datatables\n",
       " */\n",
       "\n",
       "define('dt-graph-objects', ['moment', 'chartjs'], function (moment, chartjs) {\n",
       "  const d3 = Object.assign({}, require('d3'), require('d3-array')) // extend the d3 with d3-array\n",
       "\n",
       "  Chart.defaults.scale.gridLines.display = false\n",
       "\n",
       "  const layout = Chart.defaults.global.layout\n",
       "\n",
       "  layout.width = '167.5px'\n",
       "  layout.margin = 'auto'\n",
       "  layout.padding = { left: 2, right: 2, top: 5, bottom: 5 }\n",
       "\n",
       "  let Line = function (data, index, dtype) {\n",
       "    this.name = 'Line'\n",
       "\n",
       "    if (_.isUndefined(index)) {\n",
       "      index = [{\n",
       "        data: d3.range(0, data.length),\n",
       "        dtype: 'num',\n",
       "        level: 0\n",
       "      }]\n",
       "    }\n",
       "\n",
       "    index = index[0] // TODO: Handle multi-index\n",
       "\n",
       "    let labels = index.data\n",
       "\n",
       "    if (index.dtype === 'date') {\n",
       "      labels = labels.map(d => moment(d))\n",
       "    }\n",
       "\n",
       "    console.debug('Line plot data: ', data, 'labels: ', labels)\n",
       "\n",
       "    let canvas = $('<canvas>')\n",
       "      .attr('width', layout.width)\n",
       "      .css('margin', layout.margin)\n",
       "\n",
       "    let ctx = canvas.get(0).getContext('2d')\n",
       "\n",
       "    let chart = new Chart(ctx, {\n",
       "      type: 'line',\n",
       "      data: {\n",
       "        labels: labels,\n",
       "        datasets: [{\n",
       "          data: data,\n",
       "          backgroundColor: 'rgb(255, 99, 132, 0.6)',\n",
       "          borderColor: 'rgb(255, 99, 132)',\n",
       "          borderWidth: 1\n",
       "        }]\n",
       "      },\n",
       "      options: {\n",
       "        legend: {\n",
       "          display: false\n",
       "        },\n",
       "        scales: {\n",
       "          xAxes: [{\n",
       "            ...(index.dtype === 'date' ? { type: 'time' } : {}),\n",
       "            display: false\n",
       "          }],\n",
       "          yAxes: [{\n",
       "            display: false,\n",
       "            ticks: {\n",
       "              beginAtZero: true\n",
       "            }\n",
       "          }]\n",
       "        },\n",
       "        responsive: false\n",
       "      }\n",
       "    })\n",
       "\n",
       "    return chart\n",
       "  }\n",
       "\n",
       "  let Scatter = function (data, index, dtype) {\n",
       "    this.name = 'Scatter'\n",
       "\n",
       "    if (_.isUndefined(index)) {\n",
       "      index = [{\n",
       "        data: d3.range(0, data.length),\n",
       "        dtype: 'num',\n",
       "        level: 0\n",
       "      }]\n",
       "    }\n",
       "\n",
       "    index = index[0] // TODO: Handle multi-index\n",
       "\n",
       "    data = data.map((d, i) => {\n",
       "      return {\n",
       "        x: index.data[i],\n",
       "        y: d\n",
       "      }\n",
       "    })\n",
       "\n",
       "    console.debug('Scatter plot data: ', data)\n",
       "\n",
       "    let canvas = $('<canvas>')\n",
       "      .attr('width', layout.width)\n",
       "      .css('margin', layout.margin)\n",
       "\n",
       "    let ctx = canvas.get(0).getContext('2d')\n",
       "\n",
       "    let chart = new Chart(ctx, {\n",
       "      type: 'scatter',\n",
       "      data: {\n",
       "        datasets: [{\n",
       "          data: data,\n",
       "          backgroundColor: 'rgb(255, 99, 132, 0.6)',\n",
       "          borderColor: 'rgb(255, 99, 132)',\n",
       "          borderWidth: 1\n",
       "        }]\n",
       "      },\n",
       "      options: {\n",
       "        legend: {\n",
       "          display: false\n",
       "        },\n",
       "        scales: {\n",
       "          xAxes: [{\n",
       "            ...(index.dtype === 'date' ? { type: 'time' } : {}),\n",
       "            display: false\n",
       "          }],\n",
       "          yAxes: [{\n",
       "            display: false,\n",
       "            ticks: {\n",
       "              beginAtZero: true\n",
       "            }\n",
       "          }]\n",
       "        },\n",
       "        responsive: false\n",
       "      }\n",
       "    })\n",
       "\n",
       "    return chart\n",
       "  }\n",
       "\n",
       "  let Bar = function (data, index, dtype) {\n",
       "    this.name = 'Bar'\n",
       "\n",
       "    if (_.isUndefined(index)) {\n",
       "      index = [{\n",
       "        data: d3.range(0, data.length),\n",
       "        dtype: 'num',\n",
       "        level: 0\n",
       "      }]\n",
       "    }\n",
       "\n",
       "    index = index[0] // TODO: Handle multi-index\n",
       "\n",
       "    let labels = index.data\n",
       "\n",
       "    if (index.dtype === 'date') {\n",
       "      labels = labels.map(d => $.fn.dataTable.defaults.formatDate(d))\n",
       "    }\n",
       "\n",
       "    console.debug('Bar plot data: ', data, 'labels: ', labels)\n",
       "\n",
       "    let canvas = $('<canvas>')\n",
       "      .attr('width', layout.width)\n",
       "      .css('margin', layout.margin)\n",
       "\n",
       "    let ctx = canvas.get(0).getContext('2d')\n",
       "\n",
       "    let chart = new Chart(ctx, {\n",
       "      type: 'bar',\n",
       "      data: {\n",
       "        labels: labels,\n",
       "        datasets: [{\n",
       "          data: data,\n",
       "          backgroundColor: 'rgb(255, 99, 132)',\n",
       "          borderColor: 'rgb(255, 99, 132)',\n",
       "          borderWidth: 1\n",
       "        }]\n",
       "      },\n",
       "      options: {\n",
       "        legend: {\n",
       "          display: false\n",
       "        },\n",
       "        scales: {\n",
       "          xAxes: [{\n",
       "            ...(index.dtype === 'date' ? { type: 'time' } : {}),\n",
       "            display: false\n",
       "          }],\n",
       "          yAxes: [{\n",
       "            display: false,\n",
       "            ticks: {\n",
       "              beginAtZero: true\n",
       "            }\n",
       "          }]\n",
       "        },\n",
       "        responsive: false\n",
       "      }\n",
       "    })\n",
       "\n",
       "    return chart\n",
       "  }\n",
       "\n",
       "  let CategoricalBar = function (data, index, dtype) {\n",
       "    this.name = 'CategoricalBar'\n",
       "\n",
       "    const grouped = d3.nest()\n",
       "      .key(d => d)\n",
       "      .rollup(d => d.length)\n",
       "      .entries(data)\n",
       "\n",
       "    const values = grouped.map(d => d.value)\n",
       "    const labels = grouped.map(d => d.key)\n",
       "\n",
       "    index = [{ level: 0, data: labels, dtype: dtype }]\n",
       "    const chart = Bar(values, index, 'num')\n",
       "\n",
       "    // point mapping\n",
       "    chart.mapDataPoint = (p) => labels.indexOf(p.value)\n",
       "\n",
       "    return chart\n",
       "  }\n",
       "\n",
       "  let histBinFreedman = function (a) {\n",
       "    return 2 * (d3.quantile(a, 0.75) - d3.quantile(a, 0.25)) * Math.pow(a.length, -1 / 3)\n",
       "  }\n",
       "\n",
       "  let histBinSturges = function (a) {\n",
       "    return (a[a.length - 1] - a[0]) / (Math.log2(a.length) + 1)\n",
       "  }\n",
       "\n",
       "  let histBinAuto = function (a) {\n",
       "    const binWidthFreedman = histBinFreedman(a)\n",
       "    const binWidthSturges = histBinSturges(a)\n",
       "\n",
       "    return binWidthFreedman ? Math.min(binWidthFreedman, binWidthSturges) : binWidthSturges\n",
       "  }\n",
       "\n",
       "  let Histogram = function (data, index, dtype) {\n",
       "    this.name = 'Histogram'\n",
       "\n",
       "    // map to the Number data type and sort\n",
       "    data = Array.prototype.map.call(data, Number).sort(d3.ascending)\n",
       "\n",
       "    console.debug('Histogram data: ', data)\n",
       "\n",
       "    // automatically determine optimal number of bins\n",
       "    const nBins = Math.ceil((data[data.length - 1] - data[0]) / histBinAuto(data))\n",
       "\n",
       "    console.debug('Estimated number of bins: ', nBins)\n",
       "\n",
       "    let xScale = d3.scaleLinear()\n",
       "      .domain(d3.extent(data))\n",
       "      .nice()\n",
       "\n",
       "    let hist = d3.histogram()\n",
       "      .domain(xScale.domain())\n",
       "      .thresholds(xScale.ticks(nBins))\n",
       "\n",
       "    let bins = hist(data)\n",
       "\n",
       "    const histogramData = bins.map((d) => d.length)\n",
       "    const histogramLabels = bins.map((d) => d.x0)\n",
       "\n",
       "    index = [{ level: 0, data: histogramLabels, dtype: dtype }]\n",
       "\n",
       "    const chart = Bar(histogramData, index, 'num')\n",
       "\n",
       "    // point mapping\n",
       "    chart.mapDataPoint = (p) => d3.maxIndex(hist([p.value]))\n",
       "\n",
       "    return chart\n",
       "  }\n",
       "\n",
       "  return {\n",
       "    Bar: Bar,\n",
       "    CategoricalBar: CategoricalBar,\n",
       "    Histogram: Histogram,\n",
       "    Line: Line,\n",
       "    Scatter: Scatter\n",
       "  }\n",
       "})\n",
       "`;\n",
       "        const attributes = {'id': 'dt-graph-objects-js'} || {};\n",
       "        \n",
       "        let id = attributes.id;\n",
       "        let elem_exists = id ? $(`script#${id}`).length > 0 : false;\n",
       "        \n",
       "        let e = elem_exists ? document.querySelector(`script#${id}`)\n",
       "                            : document.createElement(\"script\");\n",
       "        \n",
       "        $(e).text(`${script}`).attr('type', 'text/javascript');\n",
       "        \n",
       "        Object.entries(attributes)\n",
       "            .forEach( ([attr, val]) => $(e).attr(attr, val) );\n",
       "\n",
       "        if (!elem_exists) document.head.appendChild(e);\n",
       "     }"
      ],
      "text/plain": [
       "<JupyterRequire.display.SafeScript object>"
      ]
     },
     "metadata": {
      "finalized": true
     },
     "output_type": "display_data"
    },
    {
     "data": {
      "application/javascript": [
       "{ \n",
       "        'use strict';\n",
       "    \n",
       "        const script = `/**\n",
       " * Jupyter DataTables\n",
       " *\n",
       " * @module\n",
       " * @summary     Jupyter DataTables\n",
       " * @description Jupyter interactive pandas DataFrame representation leveraging pandas, DataTables and ChartJS.\n",
       " * @file        toolbar.js\n",
       " * @author      Marek Cermak\n",
       " * @contact     macermak@redhat.com\n",
       " * @copyright   Copyright 2019 Marek Cermak <macermak@redhat.com>\n",
       " *\n",
       " * This source file is free software, available under the following license:\n",
       " *   MIT license\n",
       " *\n",
       " * This source file is distributed in the hope that it will be useful, but\n",
       " * WITHOUT ANY WARRANTY; without even the implied warranty of MERCHANTABILITY\n",
       " * or FITNESS FOR A PARTICULAR PURPOSE. See the license files for details.\n",
       " *\n",
       " * For details please refer to: https://github.com/CermakM/jupyter-datatables\n",
       " */\n",
       "\n",
       "define('dt-toolbar', ['dt-components'], function (components) {\n",
       "\n",
       "  const templates = components.templates\n",
       "\n",
       "  return class Toolbar {\n",
       "    constructor(chart, dtype) {\n",
       "      this.chart = chart\n",
       "      this.dtype = dtype\n",
       "\n",
       "      this.settings = components.createElementFromTemplate(templates.DTSettingsComponentTemplate)\n",
       "      this.settingsButton = components.createElementFromTemplate(templates.DTSettingsButtonComponentTemplate)\n",
       "\n",
       "      $(this.settingsButton).click(() => {\n",
       "        if (this.settingsContainer.style.display != 'none') {\n",
       "          // settings already visible, just toggle\n",
       "          $(this.settingsContainer).hide()\n",
       "        } else {\n",
       "          const offset = {}\n",
       "          const margin = { top: 20, left: 0 }\n",
       "\n",
       "          offset.top = $(this.settingsButton).offset().top - $(output_area.element).offset().top\n",
       "          offset.top = offset.top + margin.top\n",
       "\n",
       "          offset.left = $(this.settingsButton).offset().left - $(output_area.element).offset().left\n",
       "          offset.left = offset.left + margin.left\n",
       "\n",
       "          $(this.settingsContainer).css(offset).show()\n",
       "\n",
       "          if (!_.isUndefined(this.dtype)) {\n",
       "            const allowedChartTypes = $.fn.dataTable.defaults.chartMap[this.dtype]\n",
       "\n",
       "            $(this.settings).find('.dt-chart-type').each((i, e) => {\n",
       "              const chartName = e.dataset.chart_name\n",
       "\n",
       "              // check active chart type\n",
       "              $(e).toggleClass('is-active', chartName === chart.name)\n",
       "\n",
       "              // check which chart types are not allowed for the current dtype and disable them\n",
       "              if (!allowedChartTypes.includes(chartName)) {\n",
       "                $(e).addClass('is-disabled')\n",
       "                console.debug(\\`Chart type '\\${chartName}' is not allowed for dtype '\\${dtype}'\\`)\n",
       "              } else {\n",
       "                // in case dtype changes for some reason\n",
       "                $(e).removeClass('is-disabled')\n",
       "              }\n",
       "            })\n",
       "          }\n",
       "\n",
       "          // click anywhere else hides the settings\n",
       "          setTimeout(() => {\n",
       "            $(document).one('click', () => $(this.settingsContainer).hide())\n",
       "          }, 20)\n",
       "        }\n",
       "      })\n",
       "\n",
       "      this.settingsContainer = document.createElement('div', { is: 'dt-container' })\n",
       "      this.settingsContainer.classList.add('dt-chart-settings-container')\n",
       "\n",
       "      $(this.settingsContainer).append(this.settings)\n",
       "      $(this.settingsContainer).css({ position: 'absolute' })\n",
       "      $(this.settingsContainer).hide()\n",
       "\n",
       "      // Append to the output area to allow overlay\n",
       "      const output_area = Jupyter.notebook.get_executed_cell().output_area\n",
       "      $(output_area.element).append(this.settingsContainer)\n",
       "\n",
       "      this.container = document.createElement('div', { is: 'dt-container' })\n",
       "      this.container.classList.add('dt-chart-toolbar')\n",
       "\n",
       "      $(this.container).append(this.settingsButton)\n",
       "    }\n",
       "\n",
       "    empty() {\n",
       "      this.destroy(false)\n",
       "    }\n",
       "\n",
       "    destroy(container = true) {\n",
       "      this.settings.remove()\n",
       "      this.settingsButton.remove()\n",
       "      this.settingsContainer.remove()\n",
       "\n",
       "      // finally remove the toolbar container itself if \\`container\\` is specified\n",
       "      if (container) { this.container.remove() } else { $(this.container).empty() } // remove all children but leave the container\n",
       "    }\n",
       "\n",
       "    onClick(callback, selector) {\n",
       "      let selection = $(this.settings).find(selector)\n",
       "\n",
       "      if (selection.length <= 0) { throw new Error(\\`Selector '\\${selector}' dit not match any elements.\\`) }\n",
       "\n",
       "      selection.each((i, elt) => {\n",
       "        $(elt).click(e => {\n",
       "          e.preventDefault()\n",
       "\n",
       "          callback.call(elt, e, this.chart)\n",
       "        })\n",
       "      })\n",
       "    }\n",
       "  }\n",
       "\n",
       "})\n",
       "`;\n",
       "        const attributes = {'id': 'dt-toolbar-js'} || {};\n",
       "        \n",
       "        let id = attributes.id;\n",
       "        let elem_exists = id ? $(`script#${id}`).length > 0 : false;\n",
       "        \n",
       "        let e = elem_exists ? document.querySelector(`script#${id}`)\n",
       "                            : document.createElement(\"script\");\n",
       "        \n",
       "        $(e).text(`${script}`).attr('type', 'text/javascript');\n",
       "        \n",
       "        Object.entries(attributes)\n",
       "            .forEach( ([attr, val]) => $(e).attr(attr, val) );\n",
       "\n",
       "        if (!elem_exists) document.head.appendChild(e);\n",
       "     }"
      ],
      "text/plain": [
       "<JupyterRequire.display.SafeScript object>"
      ]
     },
     "metadata": {
      "finalized": true
     },
     "output_type": "display_data"
    },
    {
     "data": {
      "application/javascript": [
       "{ \n",
       "        'use strict';\n",
       "    \n",
       "        const script = `define('dt-tooltips', ['underscore'], function (_) {\n",
       "\n",
       "  let showTooltip = function (chart, pointIndex, datasetIndex = 0) {\n",
       "    if (chart.animating) return // chart is still in animation process\n",
       "\n",
       "    if (_.isUndefined(chart.tooltip._active)) { chart.tooltip._active = [] }\n",
       "\n",
       "    let activeElements = chart.tooltip._active\n",
       "    let requestedElement = chart.getDatasetMeta(datasetIndex).data[pointIndex]\n",
       "\n",
       "    for (var i = 0; i < activeElements.length; i++) {\n",
       "      if (requestedElement._index == activeElements[i]._index) { return }\n",
       "    }\n",
       "\n",
       "    activeElements.push(requestedElement)\n",
       "\n",
       "    chart.tooltip._active = activeElements\n",
       "    chart.tooltip.update(true)\n",
       "    chart.tooltip.pivot()\n",
       "    chart.draw()\n",
       "  }\n",
       "\n",
       "  let hideTooltip = function (chart, pointIndex, datasetIndex = 0) {\n",
       "    let activeElements = chart.tooltip._active\n",
       "    if (_.isUndefined(activeElements) || activeElements.length == 0) { return }\n",
       "\n",
       "    let requestedElement = chart.getDatasetMeta(datasetIndex).data[pointIndex]\n",
       "    for (var i = 0; i < activeElements.length; i++) {\n",
       "      if (requestedElement._index == activeElements[i]._index) {\n",
       "        activeElements.splice(i, 1)\n",
       "        break\n",
       "      }\n",
       "    }\n",
       "\n",
       "    chart.tooltip._active = activeElements\n",
       "    chart.tooltip.update(true)\n",
       "    chart.draw()\n",
       "  }\n",
       "\n",
       "  let hideAllTooltips = function (chart) {\n",
       "    let activeElements = chart.tooltip._active\n",
       "    if (_.isUndefined(activeElements) || activeElements.length == 0) { return }\n",
       "\n",
       "    activeElements = []\n",
       "\n",
       "    chart.tooltip._active = activeElements\n",
       "    chart.tooltip.update(true)\n",
       "    chart.draw()\n",
       "  }\n",
       "\n",
       "  return {\n",
       "    showTooltip: showTooltip,\n",
       "    hideTooltip: hideTooltip,\n",
       "\n",
       "    hideAllTooltips: hideAllTooltips\n",
       "  }\n",
       "})\n",
       "`;\n",
       "        const attributes = {'id': 'dt-tooltips-js'} || {};\n",
       "        \n",
       "        let id = attributes.id;\n",
       "        let elem_exists = id ? $(`script#${id}`).length > 0 : false;\n",
       "        \n",
       "        let e = elem_exists ? document.querySelector(`script#${id}`)\n",
       "                            : document.createElement(\"script\");\n",
       "        \n",
       "        $(e).text(`${script}`).attr('type', 'text/javascript');\n",
       "        \n",
       "        Object.entries(attributes)\n",
       "            .forEach( ([attr, val]) => $(e).attr(attr, val) );\n",
       "\n",
       "        if (!elem_exists) document.head.appendChild(e);\n",
       "     }"
      ],
      "text/plain": [
       "<JupyterRequire.display.SafeScript object>"
      ]
     },
     "metadata": {
      "finalized": true
     },
     "output_type": "display_data"
    },
    {
     "data": {
      "application/javascript": [
       "{ \n",
       "        'use strict';\n",
       "    \n",
       "        const script = `/**\n",
       " * Jupyter DataTables\n",
       " *\n",
       " * @module\n",
       " * @summary     Jupyter DataTables\n",
       " * @description Jupyter interactive pandas DataFrame representation leveraging pandas, DataTables and ChartJS.\n",
       " * @file        jupyter-datatables.js\n",
       " * @author      Marek Cermak\n",
       " * @contact     macermak@redhat.com\n",
       " * @copyright   Copyright 2019 Marek Cermak <macermak@redhat.com>\n",
       " *\n",
       " * This source file is free software, available under the following license:\n",
       " *   MIT license\n",
       " *\n",
       " * This source file is distributed in the hope that it will be useful, but\n",
       " * WITHOUT ANY WARRANTY; without even the implied warranty of MERCHANTABILITY\n",
       " * or FITNESS FOR A PARTICULAR PURPOSE. See the license files for details.\n",
       " *\n",
       " * For details please refer to: https://github.com/CermakM/jupyter-datatables\n",
       " */\n",
       "\n",
       "define('jupyter-datatables', [\n",
       "  'underscore',\n",
       "  'moment',\n",
       "  'dt-config',\n",
       "  'dt-components',\n",
       "  'dt-graph-objects',\n",
       "  'dt-toolbar',\n",
       "  'dt-tooltips',\n",
       "], function (_, moment, config, components, go, Toolbar, tooltips) {\n",
       "  require('datatables.net')\n",
       "\n",
       "  const d3 = require('d3')\n",
       "  const events = require('base/js/events')\n",
       "\n",
       "  config.graphObjects = Object(go)\n",
       "\n",
       "  $.fn.dataTable.Api.register('row.create()', function () {\n",
       "    let row = $(this.row(0).node())\n",
       "      .clone()\n",
       "      .removeClass()\n",
       "\n",
       "    row\n",
       "      .children()\n",
       "      .empty()\n",
       "\n",
       "    return row\n",
       "  })\n",
       "\n",
       "  /**\n",
       "\t * Boolean type detector\n",
       "\t */\n",
       "  $.fn.dataTable.ext.type.detect.unshift(function (data) {\n",
       "    const dtype = 'boolean'\n",
       "\n",
       "    if (_.isBoolean(data)) {\n",
       "      return dtype\n",
       "    } else if (_.isString(data)) {\n",
       "      return (/true|false/i).test(data.toLowerCase()) ? dtype : null\n",
       "    }\n",
       "\n",
       "    return null\n",
       "  })\n",
       "\n",
       "  let createDTypePreview = function (dtype) {\n",
       "    const dTypeContainer = $('<div>')\n",
       "      .attr('class', 'dtype-container')\n",
       "\n",
       "    // dtype element\n",
       "    const dTypeSelect = $('<select>')\n",
       "      .attr('role', 'option')\n",
       "      .attr('class', 'dtype')\n",
       "      .appendTo(dTypeContainer)\n",
       "\n",
       "    const dTypeOptions = [\n",
       "      $('<option>').attr('value', dtype).text(dtype)\n",
       "      // TODO: other options suitable for this column\n",
       "    ]\n",
       "\n",
       "    dTypeOptions.forEach((opt) => opt.appendTo(dTypeSelect))\n",
       "\n",
       "    return dTypeContainer\n",
       "  }\n",
       "\n",
       "  let createDataToolbar = function (chart, data, index, dtype) {\n",
       "    const toolbar = new Toolbar(chart, dtype)\n",
       "\n",
       "    setTimeout(() => {\n",
       "      toolbar.onClick(function (event, chart) {\n",
       "        if ($(event.target).hasClass('is-active')) {\n",
       "          event.preventDefault() // do not propagate\n",
       "\n",
       "          console.debug(\\`Chart '\\${chart.name}' is already set. Skipping chart update.\\`)\n",
       "          return\n",
       "        }\n",
       "\n",
       "        console.debug('Updating chart:', chart)\n",
       "\n",
       "        const go = this.dataset.chart_name\n",
       "\n",
       "        chart.toolbar.empty()\n",
       "        chart.destroy()\n",
       "\n",
       "        chart.container.replaceWith(createDataPreview(data, index, dtype, go))\n",
       "      }, 'a.dt-chart-type')\n",
       "    }, 100)\n",
       "\n",
       "    return toolbar\n",
       "  }\n",
       "\n",
       "  let createDataPreview = function (data, index, dtype, go) {\n",
       "    console.debug('Creating data preview.', data, index, dtype)\n",
       "\n",
       "    if (_.isUndefined(dtype)) { console.warn('Data type was not provided.') } else if (!_.has(config.chartMap, dtype)) { throw new Error(\\`Unknown dtype '\\${dtype}'.\\`) }\n",
       "\n",
       "    if (index.length > 1) {\n",
       "      console.warn('Multi-index is not supported yet. Picking the 0th level.')\n",
       "      // TODO: handle multi-index\n",
       "    }\n",
       "\n",
       "    let kind, GraphObject, chart\n",
       "\n",
       "    if (_.isUndefined(go)) {\n",
       "      console.warn('Graph object was not provided.')\n",
       "\n",
       "      for (let k of config.chartMap[dtype]) {\n",
       "        if (_.has(config.graphObjects, k)) {\n",
       "          kind = k\n",
       "          GraphObject = config.graphObjects[k]\n",
       "\n",
       "          chart = new GraphObject(data, index, dtype)\n",
       "          if (chart) { break }\n",
       "        }\n",
       "        console.warn('Unknown plot kind: ', k)\n",
       "      }\n",
       "\n",
       "      if (_.isUndefined(kind)) {\n",
       "        throw new Error(\n",
       "          \\`Unable to find graph object for dtype '\\${dtype}' in: \\${config.graphObjects}\\`\n",
       "        )\n",
       "      }\n",
       "    } else {\n",
       "      GraphObject = _.isString(go) ? config.graphObjects[go] : go\n",
       "      chart = new GraphObject(data, index, dtype)\n",
       "    }\n",
       "\n",
       "    // set chart name for future reference\n",
       "    chart.name = GraphObject.name\n",
       "\n",
       "    if (_.isUndefined(chart) || chart === null) {\n",
       "      throw new Error(\n",
       "        \\`Unable to produce graph object for dtype '\\${dtype}'\\`\n",
       "      )\n",
       "    }\n",
       "\n",
       "    registerChartEvents(chart)\n",
       "\n",
       "    console.debug('Data preview has been created: ', chart)\n",
       "\n",
       "    chart.toolbar = createDataToolbar(chart, data, index, dtype)\n",
       "    chart.container = $('<div/>', { class: 'dt-chart-container' })\n",
       "      .append(chart.toolbar.container)\n",
       "      .append(chart.canvas)\n",
       "\n",
       "    return chart.container\n",
       "  }\n",
       "\n",
       "  let createDataTable = function (table, options, buttons) {\n",
       "    return new Promise((resolve) => {\n",
       "      Object.assign(options, {\n",
       "        fnInitComplete: function (settings) {\n",
       "          let dt = settings.oInstance.api()\n",
       "\n",
       "          console.debug('dtype preview initialization.', settings)\n",
       "\n",
       "          let dTypePreviewRow = dt.row.create()\n",
       "            .removeAttr('aria-label')\n",
       "            .attr('class', 'dtype-preview')\n",
       "\n",
       "          dTypePreviewRow\n",
       "            .children().each((i, e) => {\n",
       "              if ($(e).is('th')) { return }\n",
       "\n",
       "              let dtype = settings.aoColumns[i].sType\n",
       "              let dTypePreview = createDTypePreview(dtype)\n",
       "\n",
       "              $(e)\n",
       "                .attr('class', 'column-dtype-preview dt-head-center')\n",
       "                .attr('aria-label', \\`dtype preview for column \\${i}\\`)\n",
       "                .append(dTypePreview)\n",
       "\n",
       "              // map dtype back to known format\n",
       "              // TODO: run type detectors instead of assuming 'num'\n",
       "              settings.aoColumns[i].sType = config.dTypeMap[dtype]\n",
       "            })\n",
       "\n",
       "          dTypePreviewRow.ready(() => {\n",
       "            $(settings.nTHead).append(dTypePreviewRow)\n",
       "          })\n",
       "\n",
       "          console.debug('Data preview initialization.', settings)\n",
       "\n",
       "          let dataPreviewRow = dt.row.create()\n",
       "            .removeAttr('aria-controls')\n",
       "            .removeAttr('aria-label')\n",
       "            .attr('class', 'column-data-preview')\n",
       "\n",
       "          let index = []\n",
       "\n",
       "          dataPreviewRow\n",
       "            .children().each((i, e) => {\n",
       "              let dtype = settings.aoColumns[i].sType\n",
       "              let data = dt.column(i).data().toArray()\n",
       "\n",
       "              if ($(e).is('th')) {\n",
       "                index.push({ data: data, dtype: dtype, level: i })\n",
       "                return\n",
       "              }\n",
       "\n",
       "              $(e)\n",
       "                .attr('class', 'column-data-preview')\n",
       "                .attr('role', 'figure')\n",
       "                .attr('aria-label', \\`data preview for column \\${i}\\`)\n",
       "\n",
       "              let dataPreview = createDataPreview(data, index, dtype)\n",
       "\n",
       "              $(e).append(dataPreview)\n",
       "            })\n",
       "\n",
       "          dataPreviewRow.ready(() => {\n",
       "            $(settings.nTHead).append(dataPreviewRow)\n",
       "          })\n",
       "\n",
       "          registerDataTableEvents(dt)\n",
       "\n",
       "          resolve(settings)\n",
       "        }\n",
       "      })\n",
       "\n",
       "      let dt = $(table).DataTable(options).columns.adjust()\n",
       "        .responsive.recalc()\n",
       "        .columns.adjust()\n",
       "      let btns = new $.fn.dataTable.Buttons(dt, {\n",
       "        buttons: buttons\n",
       "      })\n",
       "\n",
       "      events.one('output_appended.OutputArea', () => {\n",
       "        setTimeout(dt.columns.adjust, 50)\n",
       "      })\n",
       "\n",
       "      $(dt.table().container()).prepend(btns.container())\n",
       "    })\n",
       "  }\n",
       "\n",
       "  let registerChartEvents = function (chart) {\n",
       "    events.on('hide_all_tooltips.ChartJS', () => {\n",
       "      tooltips.hideAllTooltips(chart)\n",
       "    })\n",
       "\n",
       "    $(chart.canvas).on('show_tooltip.ChartJS', (e, d) => {\n",
       "      tooltips.hideAllTooltips(chart)\n",
       "\n",
       "      // Show tooltip on certain data point\n",
       "      const dataPoint = d.data\n",
       "\n",
       "      let datasetIndex\n",
       "      if (_.has(chart, 'mapDataPoint')) {\n",
       "        datasetIndex = chart.mapDataPoint(dataPoint)\n",
       "      } else { datasetIndex = chart.data.labels.indexOf(dataPoint.index) }\n",
       "\n",
       "      tooltips.showTooltip(chart, datasetIndex)\n",
       "    })\n",
       "  }\n",
       "\n",
       "  let registerDataTableEvents = function (dt) {\n",
       "\n",
       "    dt.on('mouseleave', 'tbody', function (e) {\n",
       "      events.trigger('hide_all_tooltips.ChartJS')\n",
       "    })\n",
       "\n",
       "    dt.on('mouseenter', 'td', function (e) {\n",
       "      let cell = dt.cell(this)\n",
       "      let idx = cell.index()\n",
       "\n",
       "      const dIndex = dt.row(idx.row).data()[0]\n",
       "      const dValue = dt.row(idx.row).data()[idx.column]\n",
       "\n",
       "      const canvas = $(dt.table().container())\n",
       "        .find('canvas')\n",
       "        .get(idx.column - 1)\n",
       "\n",
       "      $(canvas).trigger('show_tooltip.ChartJS', {\n",
       "        cell: cell,\n",
       "        data: {\n",
       "          index: dIndex,\n",
       "          value: dValue\n",
       "        }\n",
       "      })\n",
       "    })\n",
       "\n",
       "    events.on('before_finalize.JupyterRequire', function () {\n",
       "      const canvasElements = $('canvas')\n",
       "\n",
       "      console.log('Finalizing canvas elements...', canvasElements)\n",
       "      canvasElements.each((i, canvas) => {\n",
       "        const dataURL = canvas.toDataURL('image/png')\n",
       "        const canvasPNG = $('<img/>', { src: dataURL, class: 'dt-chart-image' }).get(0)\n",
       "\n",
       "        console.debug('\\tResulting image: ', canvasPNG)\n",
       "\n",
       "        canvas.replaceWith(canvasPNG)\n",
       "      })\n",
       "\n",
       "      console.debug('\\tDisabling buttons and search fields...')\n",
       "\n",
       "      $('a.paginate_button, .dt-button, input[type=search], .dataTables_length select')\n",
       "        .off('click')\n",
       "        .css('cursor', 'not-allowed')\n",
       "        .css('color', '#999')\n",
       "        .addClass('disabled')\n",
       "        .prop('disabled', true)\n",
       "\n",
       "      console.log('Canvas finalization completed successfully.')\n",
       "    })\n",
       "\n",
       "    // Focus search field event\n",
       "    $(document).on('focus', '.dataTables_filter input', function (e) {\n",
       "      setTimeout(() => {\n",
       "        let cell = Jupyter.notebook.get_selected_cell()\n",
       "        let oArea = cell.output_area\n",
       "\n",
       "        if (e.type === 'focusin') {\n",
       "          oArea.keyboard_manager.disable()\n",
       "        } else { oArea.keyboard_manager.enable() }\n",
       "      }, 50) // set timeout to let Jupyter select the cell\n",
       "    })\n",
       "\n",
       "    // Keyup search field event\n",
       "    $(document).on('keyup', '.dataTables_filter input', function (e) {\n",
       "      if ($(this).is(':focus') && e.key === 'Escape') {\n",
       "        let cell = Jupyter.notebook.get_selected_cell()\n",
       "        let oArea = cell.output_area\n",
       "\n",
       "        $(this).blur() // focus out of the search element\n",
       "\n",
       "        oArea.keyboard_manager.enable()\n",
       "\n",
       "        return events.trigger('select.Cell', { 'cell': cell })\n",
       "      }\n",
       "\n",
       "      return true\n",
       "    })\n",
       "  }\n",
       "\n",
       "  /**\n",
       "\t   * Create HTML table from raw String and append it to an element\n",
       "\t   *\n",
       "\t   * @param {String} html\n",
       "\t   * @param {Element} element\n",
       "\t   */\n",
       "  let appendTable = function (html, element) {\n",
       "    return new Promise((resolve) => {\n",
       "      const table = $.parseHTML(html)\n",
       "\n",
       "      $(table).ready(() => {\n",
       "        element.append(table)\n",
       "        resolve(table)\n",
       "      })\n",
       "    })\n",
       "  }\n",
       "\n",
       "  /**\n",
       "\t   * Create DataTable from raw string and append it to an element\n",
       "\t   */\n",
       "  return appendDataTable = async function (html, options, buttons, element) {\n",
       "    const table = await appendTable(html, element)\n",
       "\n",
       "    return createDataTable(table, options, buttons)\n",
       "  }\n",
       "})\n",
       "`;\n",
       "        const attributes = {'id': 'jupyter-datatables-js'} || {};\n",
       "        \n",
       "        let id = attributes.id;\n",
       "        let elem_exists = id ? $(`script#${id}`).length > 0 : false;\n",
       "        \n",
       "        let e = elem_exists ? document.querySelector(`script#${id}`)\n",
       "                            : document.createElement(\"script\");\n",
       "        \n",
       "        $(e).text(`${script}`).attr('type', 'text/javascript');\n",
       "        \n",
       "        Object.entries(attributes)\n",
       "            .forEach( ([attr, val]) => $(e).attr(attr, val) );\n",
       "\n",
       "        if (!elem_exists) document.head.appendChild(e);\n",
       "     }"
      ],
      "text/plain": [
       "<JupyterRequire.display.SafeScript object>"
      ]
     },
     "metadata": {
      "finalized": true
     },
     "output_type": "display_data"
    },
    {
     "name": "stderr",
     "output_type": "stream",
     "text": [
      "Enabling notebook extension jupyter-js-widgets/extension...\n",
      "      - Validating: ok\n"
     ]
    }
   ],
   "source": [
    "from sklearn.model_selection import train_test_split\n",
    "from sklearn.metrics import mean_absolute_error, r2_score\n",
    "from sklearn.preprocessing import StandardScaler\n",
    "from sklearn.linear_model import LinearRegression\n",
    "\n",
    "import numpy as np\n",
    "import pandas as pd\n",
    "\n",
    "import seaborn as sns\n",
    "import matplotlib.pyplot as plt  \n",
    "\n",
    "# !pip install catboost\n",
    "from catboost import CatBoostRegressor, Pool, metrics, cv\n",
    "\n",
    "from jupyter_datatables import init_datatables_mode\n",
    "init_datatables_mode() # visualise data tables\n",
    "\n",
    "!jupyter nbextension enable --py widgetsnbextension"
   ]
  },
  {
   "cell_type": "markdown",
   "metadata": {
    "id": "yXFMB23r1B01"
   },
   "source": [
    "# Data processing"
   ]
  },
  {
   "cell_type": "code",
   "execution_count": 5,
   "metadata": {
    "id": "dFPFQxEM1JmO"
   },
   "outputs": [],
   "source": [
    "# get the preferences data\n",
    "data_pref_raw = pd.read_csv(\"SCI_and_preferences.csv\", encoding=\"utf-8\").iloc[:, 1:]\n",
    "data_pref_raw = data_pref_raw.drop_duplicates(subset=data_pref_raw.columns[2:]).reset_index(drop=True)\n",
    "data_pref_raw.scaled_sci = np.log(data_pref_raw.scaled_sci)\n",
    "\n",
    "pref_features = list(data_pref_raw.columns[2:-1])\n",
    "log_SCI = [data_pref_raw.columns[-1]]"
   ]
  },
  {
   "cell_type": "code",
   "execution_count": 6,
   "metadata": {
    "id": "kBsUKLEDb-q8"
   },
   "outputs": [],
   "source": [
    "# get the exogenous variables (containing extra regions and duplicates)\n",
    "data_exog_raw = pd.read_csv(\"SCI_and_exogenous_variables.csv\", encoding=\"utf-8\").iloc[:, 1:]\n",
    "data_exog_raw[\"log_distance\"] = np.log(data_exog_raw.distance)\n",
    "\n",
    "exog_features = list(data_exog_raw.columns[2:])"
   ]
  },
  {
   "cell_type": "code",
   "execution_count": 7,
   "metadata": {
    "id": "uL2oNDy4d-Ib"
   },
   "outputs": [],
   "source": [
    "# combine the datasets omitting extra regions and duplicates\n",
    "data_joint = pd.merge(data_pref_raw, data_exog_raw,  how=\"inner\", left_on=[\"user_loc\", \"fr_loc\"], right_on=[\"user_loc\", \"fr_loc\"])"
   ]
  },
  {
   "cell_type": "code",
   "execution_count": 22,
   "metadata": {
    "id": "utOP9vyrgYhR"
   },
   "outputs": [],
   "source": [
    "# create two datasets with equal number of rows, but different sets of predictors\n",
    "data_pref = data_joint.loc[:, log_SCI + pref_features] # preferences\n",
    "data_exog = data_joint.loc[:, log_SCI + [i for i in exog_features if i not in [\"both_west_de\", \"both_east_de\"]]] # exogenous variables"
   ]
  },
  {
   "cell_type": "markdown",
   "metadata": {
    "id": "RcKZvLtBilTz"
   },
   "source": [
    "# Building models for prediction of $log(SCI)$"
   ]
  },
  {
   "cell_type": "markdown",
   "metadata": {
    "id": "B5Yb49EKi_F6"
   },
   "source": [
    "## 1) $log(SCI)$ ~ preferences"
   ]
  },
  {
   "cell_type": "code",
   "execution_count": 6,
   "metadata": {
    "id": "Kx9NqXgPovQr"
   },
   "outputs": [],
   "source": [
    "X = data_pref.loc[:, pref_features]\n",
    "y = data_pref.loc[:, log_SCI]"
   ]
  },
  {
   "cell_type": "code",
   "execution_count": 10,
   "metadata": {
    "id": "1_plaY53JKfa"
   },
   "outputs": [],
   "source": [
    "X_train, X_test, y_train, y_test = train_test_split(X, y, train_size=0.8, random_state=1)"
   ]
  },
  {
   "cell_type": "code",
   "execution_count": 8,
   "metadata": {
    "id": "pQxMYl8j6_en"
   },
   "outputs": [],
   "source": [
    "scaler = StandardScaler()\n",
    "scaler.fit(X_train)\n",
    "\n",
    "X_train = scaler.transform(X_train)\n",
    "X_test = scaler.transform(X_test)"
   ]
  },
  {
   "cell_type": "code",
   "execution_count": 15,
   "metadata": {
    "id": "Ime7mDmOJCqO"
   },
   "outputs": [],
   "source": [
    "boosting_reg = CatBoostRegressor(logging_level='Silent', random_state=1)"
   ]
  },
  {
   "cell_type": "code",
   "execution_count": 16,
   "metadata": {},
   "outputs": [
    {
     "data": {
      "application/vnd.jupyter.widget-view+json": {
       "model_id": "8d74cc36e4284eef9df0947b0e7287c0",
       "version_major": 2,
       "version_minor": 0
      },
      "text/plain": [
       "MetricVisualizer(layout=Layout(align_self='stretch', height='500px'))"
      ]
     },
     "metadata": {},
     "output_type": "display_data"
    },
    {
     "data": {
      "text/plain": [
       "<catboost.core.CatBoostRegressor at 0x1ceceb6f820>"
      ]
     },
     "execution_count": 16,
     "metadata": {},
     "output_type": "execute_result"
    }
   ],
   "source": [
    "boosting_reg.fit(X_train, y_train, plot=True);"
   ]
  },
  {
   "cell_type": "code",
   "execution_count": 19,
   "metadata": {},
   "outputs": [
    {
     "data": {
      "application/vnd.jupyter.widget-view+json": {
       "model_id": "bdc89fac80df4b87a7fa3ae31231b932",
       "version_major": 2,
       "version_minor": 0
      },
      "text/plain": [
       "MetricVisualizer(layout=Layout(align_self='stretch', height='500px'))"
      ]
     },
     "metadata": {},
     "output_type": "display_data"
    }
   ],
   "source": [
    "cv_params = boosting_reg.get_params()\n",
    "\n",
    "cv_data = cv(\n",
    "    Pool(X_train, y_train),\n",
    "    cv_params,\n",
    "    plot=True\n",
    ")"
   ]
  },
  {
   "cell_type": "code",
   "execution_count": null,
   "metadata": {},
   "outputs": [],
   "source": []
  },
  {
   "cell_type": "code",
   "execution_count": null,
   "metadata": {},
   "outputs": [],
   "source": []
  },
  {
   "cell_type": "code",
   "execution_count": 14,
   "metadata": {
    "colab": {
     "base_uri": "https://localhost:8080/",
     "height": 101,
     "referenced_widgets": [
      "fa2ba1fb1a294ed89a5980740fdd2a91"
     ]
    },
    "id": "Hs8QwsMqOwT6",
    "outputId": "6d1c5d99-b3fd-4075-b2dd-77a9fe55da38"
   },
   "outputs": [
    {
     "data": {
      "application/vnd.jupyter.widget-view+json": {
       "model_id": "713f2cc5b4af4be8a44df69c12661134",
       "version_major": 2,
       "version_minor": 0
      },
      "text/plain": [
       "MetricVisualizer(layout=Layout(align_self='stretch', height='500px'))"
      ]
     },
     "metadata": {},
     "output_type": "display_data"
    }
   ],
   "source": [
    "boosting_reg.grid_search({'iterations': [500, 1000], 'learning_rate': [0.1, 0.3]}, \n",
    "                           X_train, y_train, plot=True, refit=True, cv=5);"
   ]
  },
  {
   "cell_type": "code",
   "execution_count": 42,
   "metadata": {
    "colab": {
     "base_uri": "https://localhost:8080/"
    },
    "id": "Y3znUHSjbQBk",
    "outputId": "0a580f36-5e41-4a52-bee0-f9f6c7fb5f18"
   },
   "outputs": [
    {
     "data": {
      "text/plain": [
       "{'eval_metric': 'RMSE',\n",
       " 'iterations': 1000,\n",
       " 'learning_rate': 0.1,\n",
       " 'logging_level': 'Silent',\n",
       " 'loss_function': 'RMSE',\n",
       " 'random_state': 0}"
      ]
     },
     "execution_count": 42,
     "metadata": {
      "tags": []
     },
     "output_type": "execute_result"
    }
   ],
   "source": [
    "boosting_reg.get_params()"
   ]
  },
  {
   "cell_type": "code",
   "execution_count": 13,
   "metadata": {
    "id": "KIUFIkI8NZMy"
   },
   "outputs": [],
   "source": [
    "# define MAPE score\n",
    "def mape(actual, pred):\n",
    "    return np.mean(np.abs((actual - pred) / actual)) * 100"
   ]
  },
  {
   "cell_type": "code",
   "execution_count": 43,
   "metadata": {
    "colab": {
     "base_uri": "https://localhost:8080/"
    },
    "id": "I1aiAk8SRRO0",
    "outputId": "3ee0e9e8-919b-41f6-9d1e-3a2c40c9a8c5"
   },
   "outputs": [
    {
     "name": "stdout",
     "output_type": "stream",
     "text": [
      "train MAE = 0.2599625916993611\n",
      "test MAE = 0.4816478655500689\n",
      "train MAPE = 23.71867982563325%\n",
      "test MAPE = 23.279117383529517%\n",
      "train R_squared = 0.9410961922875284\n",
      "test R_squared = 0.7878284976336678\n"
     ]
    }
   ],
   "source": [
    "print('train MAE = {}'.format(mean_absolute_error(y_train, boosting_reg.predict(X_train))))\n",
    "print('test MAE = {}'.format(mean_absolute_error(y_test, boosting_reg.predict(X_test))))\n",
    "print('train MAPE = {}%'.format(mape(y_train, boosting_reg.predict(X_train))))\n",
    "print('test MAPE = {}%'.format(mape(y_test, boosting_reg.predict(X_test))))\n",
    "print('train R_squared = {}'.format(r2_score(y_train, boosting_reg.predict(X_train))))\n",
    "print('test R_squared = {}'.format(r2_score(y_test, boosting_reg.predict(X_test))))"
   ]
  },
  {
   "cell_type": "code",
   "execution_count": null,
   "metadata": {
    "id": "yB3OuUf_DwGY"
   },
   "outputs": [],
   "source": []
  },
  {
   "cell_type": "code",
   "execution_count": 15,
   "metadata": {
    "colab": {
     "base_uri": "https://localhost:8080/"
    },
    "id": "tnuk5HODDFc0",
    "outputId": "36639db6-6a12-4ed7-c15a-9111fcb70242"
   },
   "outputs": [
    {
     "data": {
      "text/plain": [
       "LinearRegression(copy_X=True, fit_intercept=True, n_jobs=None, normalize=False)"
      ]
     },
     "execution_count": 15,
     "metadata": {
      "tags": []
     },
     "output_type": "execute_result"
    }
   ],
   "source": [
    "lin_reg = LinearRegression()\n",
    "\n",
    "lin_reg.fit(X_train, y_train)"
   ]
  },
  {
   "cell_type": "code",
   "execution_count": 16,
   "metadata": {
    "colab": {
     "base_uri": "https://localhost:8080/"
    },
    "id": "9I8DRgB6DFkR",
    "outputId": "297ba9ef-d7fb-4573-a547-0355a43f090f"
   },
   "outputs": [
    {
     "name": "stdout",
     "output_type": "stream",
     "text": [
      "train MAPE = 14.623900595851513%\n",
      "test MAPE = 14.713743361792867%\n",
      "train R_squared = 0.3685975165720533\n",
      "test R_squared = 0.37609748763088213\n"
     ]
    }
   ],
   "source": [
    "print('train MAPE = {}%'.format(mape(y_train, lin_reg.predict(X_train))))\n",
    "print('test MAPE = {}%'.format(mape(y_test, lin_reg.predict(X_test))))\n",
    "print('train R_squared = {}'.format(r2_score(y_train, lin_reg.predict(X_train))))\n",
    "print('test R_squared = {}'.format(r2_score(y_test, lin_reg.predict(X_test))))"
   ]
  },
  {
   "cell_type": "markdown",
   "metadata": {
    "id": "rO_CStA_YPMG"
   },
   "source": [
    "## 2) $log(SCI)$ ~ exogenous variables"
   ]
  },
  {
   "cell_type": "code",
   "execution_count": 44,
   "metadata": {
    "id": "g6C0zCgZYWU2"
   },
   "outputs": [],
   "source": [
    "X = data_exog.loc[:, exog_features]\n",
    "y = data_exog.loc[:, log_SCI]"
   ]
  },
  {
   "cell_type": "code",
   "execution_count": 45,
   "metadata": {
    "id": "cDtxtqpgYWcH"
   },
   "outputs": [],
   "source": [
    "X_train, X_test, y_train, y_test = train_test_split(X.values, y.values, train_size=0.8, random_state=1)"
   ]
  },
  {
   "cell_type": "code",
   "execution_count": 46,
   "metadata": {
    "id": "GF-JG2urYWfO"
   },
   "outputs": [],
   "source": [
    "scaler = StandardScaler()\n",
    "scaler.fit(X_train)\n",
    "\n",
    "X_train = scaler.transform(X_train)\n",
    "X_test = scaler.transform(X_test)"
   ]
  },
  {
   "cell_type": "code",
   "execution_count": 30,
   "metadata": {
    "id": "szbIVN8KYWh6"
   },
   "outputs": [],
   "source": [
    "boosting_reg = catboost.CatBoostRegressor(eval_metric='RMSE', logging_level='Silent', random_state=0)"
   ]
  },
  {
   "cell_type": "code",
   "execution_count": 31,
   "metadata": {
    "colab": {
     "base_uri": "https://localhost:8080/",
     "height": 185,
     "referenced_widgets": [
      "ff9d8a9cb19042e585d4f2fbaf4f3b6e"
     ]
    },
    "id": "ClVFCM84YWkx",
    "outputId": "e27581ee-a3d5-4174-890b-0ad84c998d07"
   },
   "outputs": [
    {
     "data": {
      "application/vnd.jupyter.widget-view+json": {
       "model_id": "ff9d8a9cb19042e585d4f2fbaf4f3b6e",
       "version_major": 2,
       "version_minor": 0
      },
      "text/plain": [
       "MetricVisualizer(layout=Layout(align_self='stretch', height='500px'))"
      ]
     },
     "metadata": {
      "tags": []
     },
     "output_type": "display_data"
    }
   ],
   "source": [
    "boosting_reg.grid_search({'iterations': [300, 500, 700], 'learning_rate': [0.1, 0.3, 0.5]}, \n",
    "                           X_train, y_train, plot=True, refit=True, cv=5);"
   ]
  },
  {
   "cell_type": "code",
   "execution_count": 35,
   "metadata": {
    "colab": {
     "base_uri": "https://localhost:8080/"
    },
    "id": "j45QlPgYaoEX",
    "outputId": "438c7252-2f05-406d-b292-cb9e6d1717d5"
   },
   "outputs": [
    {
     "data": {
      "text/plain": [
       "{'eval_metric': 'RMSE',\n",
       " 'iterations': 300,\n",
       " 'learning_rate': 0.3,\n",
       " 'logging_level': 'Silent',\n",
       " 'loss_function': 'RMSE',\n",
       " 'random_state': 0}"
      ]
     },
     "execution_count": 35,
     "metadata": {
      "tags": []
     },
     "output_type": "execute_result"
    }
   ],
   "source": [
    "boosting_reg.get_params()"
   ]
  },
  {
   "cell_type": "code",
   "execution_count": 36,
   "metadata": {
    "colab": {
     "base_uri": "https://localhost:8080/"
    },
    "id": "tMJQs6hlYWoC",
    "outputId": "ae920d19-7ec3-41cc-e8ad-c9c6ac93d26b"
   },
   "outputs": [
    {
     "name": "stdout",
     "output_type": "stream",
     "text": [
      "train MAPE = 21.207769835043266%\n",
      "test MAPE = 21.779977453726058%\n",
      "train R_squared = 0.6629703385885135\n",
      "test R_squared = 0.6505219247073549\n"
     ]
    }
   ],
   "source": [
    "print('train MAPE = {}%'.format(mape(y_train, boosting_reg.predict(X_train))))\n",
    "print('test MAPE = {}%'.format(mape(y_test, boosting_reg.predict(X_test))))\n",
    "print('train R_squared = {}'.format(r2_score(y_train, boosting_reg.predict(X_train))))\n",
    "print('test R_squared = {}'.format(r2_score(y_test, boosting_reg.predict(X_test))))"
   ]
  },
  {
   "cell_type": "code",
   "execution_count": null,
   "metadata": {
    "id": "KR_8Apc5c3iH"
   },
   "outputs": [],
   "source": []
  },
  {
   "cell_type": "code",
   "execution_count": 47,
   "metadata": {
    "colab": {
     "base_uri": "https://localhost:8080/"
    },
    "id": "miOByLwoc_MN",
    "outputId": "40e3ab07-f162-4f84-8cbc-5424f414cadb"
   },
   "outputs": [
    {
     "data": {
      "text/plain": [
       "LinearRegression(copy_X=True, fit_intercept=True, n_jobs=None, normalize=False)"
      ]
     },
     "execution_count": 47,
     "metadata": {
      "tags": []
     },
     "output_type": "execute_result"
    }
   ],
   "source": [
    "lin_reg = LinearRegression()\n",
    "\n",
    "lin_reg.fit(X_train, y_train)"
   ]
  },
  {
   "cell_type": "code",
   "execution_count": 48,
   "metadata": {
    "colab": {
     "base_uri": "https://localhost:8080/"
    },
    "id": "4OdNACbSdFQ2",
    "outputId": "f628dde9-49f1-41d6-db29-e4496f6351b7"
   },
   "outputs": [
    {
     "name": "stdout",
     "output_type": "stream",
     "text": [
      "train MAPE = 12.591634870545901%\n",
      "test MAPE = 12.672519870149001%\n",
      "train R_squared = 0.5981079185491187\n",
      "test R_squared = 0.6107835826712049\n"
     ]
    }
   ],
   "source": [
    "print('train MAPE = {}%'.format(mape(y_train, lin_reg.predict(X_train))))\n",
    "print('test MAPE = {}%'.format(mape(y_test, lin_reg.predict(X_test))))\n",
    "print('train R_squared = {}'.format(r2_score(y_train, lin_reg.predict(X_train))))\n",
    "print('test R_squared = {}'.format(r2_score(y_test, lin_reg.predict(X_test))))"
   ]
  }
 ],
 "metadata": {
  "colab": {
   "collapsed_sections": [],
   "name": "predict_SCI.ipynb",
   "provenance": []
  },
  "finalized": {
   "timestamp": 1629274434102,
   "trusted": false
  },
  "kernelspec": {
   "display_name": "Python 3",
   "language": "python",
   "name": "python3"
  },
  "language_info": {
   "codemirror_mode": {
    "name": "ipython",
    "version": 3
   },
   "file_extension": ".py",
   "mimetype": "text/x-python",
   "name": "python",
   "nbconvert_exporter": "python",
   "pygments_lexer": "ipython3",
   "version": "3.8.5"
  },
  "require": {
   "paths": {
    "buttons.colvis": "https://cdn.datatables.net/buttons/1.5.6/js/buttons.colVis.min",
    "buttons.flash": "https://cdn.datatables.net/buttons/1.5.6/js/buttons.flash.min",
    "buttons.html5": "https://cdn.datatables.net/buttons/1.5.6/js/buttons.html5.min",
    "buttons.print": "https://cdn.datatables.net/buttons/1.5.6/js/buttons.print.min",
    "chartjs": "https://cdnjs.cloudflare.com/ajax/libs/Chart.js/2.8.0/Chart",
    "d3": "https://d3js.org/d3.v5.min",
    "d3-array": "https://d3js.org/d3-array.v2.min",
    "datatables.net": "https://cdn.datatables.net/1.10.18/js/jquery.dataTables",
    "datatables.net-buttons": "https://cdn.datatables.net/buttons/1.5.6/js/dataTables.buttons.min",
    "datatables.responsive": "https://cdn.datatables.net/responsive/2.2.2/js/dataTables.responsive.min",
    "datatables.scroller": "https://cdn.datatables.net/scroller/2.0.0/js/dataTables.scroller.min",
    "datatables.select": "https://cdn.datatables.net/select/1.3.0/js/dataTables.select.min",
    "jszip": "https://cdnjs.cloudflare.com/ajax/libs/jszip/2.5.0/jszip.min",
    "moment": "https://cdnjs.cloudflare.com/ajax/libs/moment.js/2.8.0/moment",
    "pdfmake": "https://cdnjs.cloudflare.com/ajax/libs/pdfmake/0.1.36/pdfmake.min",
    "vfsfonts": "https://cdnjs.cloudflare.com/ajax/libs/pdfmake/0.1.36/vfs_fonts"
   },
   "shim": {
    "buttons.colvis": {
     "deps": [
      "jszip",
      "datatables.net-buttons"
     ]
    },
    "buttons.flash": {
     "deps": [
      "jszip",
      "datatables.net-buttons"
     ]
    },
    "buttons.html5": {
     "deps": [
      "jszip",
      "datatables.net-buttons"
     ]
    },
    "buttons.print": {
     "deps": [
      "jszip",
      "datatables.net-buttons"
     ]
    },
    "chartjs": {
     "deps": [
      "moment"
     ]
    },
    "datatables.net": {
     "exports": "$.fn.dataTable"
    },
    "datatables.net-buttons": {
     "deps": [
      "datatables.net"
     ]
    },
    "pdfmake": {
     "deps": [
      "datatables.net"
     ]
    },
    "vfsfonts": {
     "deps": [
      "datatables.net"
     ]
    }
   }
  },
  "widgets": {
   "application/vnd.jupyter.widget-state+json": {
    "fa2ba1fb1a294ed89a5980740fdd2a91": {
     "model_module": "catboost-widget",
     "model_module_version": "^1.0.0",
     "model_name": "CatboostWidgetModel",
     "state": {
      "_dom_classes": [],
      "_model_module": "catboost-widget",
      "_model_module_version": "^1.0.0",
      "_model_name": "CatboostWidgetModel",
      "_view_count": null,
      "_view_module": "catboost-widget",
      "_view_module_version": "^1.0.0",
      "_view_name": "CatboostWidgetView",
      "data": {
       "catboost_info": {
        "content": {
         "data": {
          "iterations": [
           {
            "iteration": 0,
            "learn": [
             0.4999561616
            ],
            "parameters": [
             {
              "iterations": 500,
              "learning_rate": 0.1
             }
            ],
            "passed_time": 17.748682,
            "remaining_time": 53.246046,
            "test": [
             0.7144601453
            ]
           },
           {
            "iteration": 1,
            "learn": [
             0.2473522337
            ],
            "parameters": [
             {
              "iterations": 500,
              "learning_rate": 0.3
             }
            ],
            "passed_time": 35.53201679,
            "remaining_time": 35.53201679,
            "test": [
             0.7245153584
            ]
           },
           {
            "iteration": 2,
            "learn": [
             0.3192234528
            ],
            "parameters": [
             {
              "iterations": 1000,
              "learning_rate": 0.1
             }
            ],
            "passed_time": 72.69602278,
            "remaining_time": 24.23200759,
            "test": [
             0.6756735482
            ]
           },
           {
            "iteration": 3,
            "learn": [
             0.1017988214
            ],
            "parameters": [
             {
              "iterations": 1000,
              "learning_rate": 0.3
             }
            ],
            "passed_time": 108.082837,
            "remaining_time": 0,
            "test": [
             0.7151705373
            ]
           }
          ],
          "meta": {
           "iteration_count": 4,
           "launch_mode": "Train",
           "learn_metrics": [
            {
             "best_value": "Min",
             "name": "RMSE"
            }
           ],
           "learn_sets": [
            "learn"
           ],
           "name": "experiment",
           "parameters": "parameters",
           "test_metrics": [
            {
             "best_value": "Min",
             "name": "RMSE"
            }
           ],
           "test_sets": [
            "test"
           ]
          }
         },
         "passed_iterations": 3,
         "total_iterations": 4
        },
        "name": "catboost_info",
        "path": "catboost_info"
       }
      },
      "layout": "IPY_MODEL_059fed048aad4bf492be3fc64539fbbb"
     }
    },
    "ff9d8a9cb19042e585d4f2fbaf4f3b6e": {
     "model_module": "catboost-widget",
     "model_module_version": "^1.0.0",
     "model_name": "CatboostWidgetModel",
     "state": {
      "_dom_classes": [],
      "_model_module": "catboost-widget",
      "_model_module_version": "^1.0.0",
      "_model_name": "CatboostWidgetModel",
      "_view_count": null,
      "_view_module": "catboost-widget",
      "_view_module_version": "^1.0.0",
      "_view_name": "CatboostWidgetView",
      "data": {
       "catboost_info": {
        "content": {
         "data": {
          "iterations": [
           {
            "iteration": 0,
            "learn": [
             0.8503324097
            ],
            "parameters": [
             {
              "iterations": 300,
              "learning_rate": 0.1
             }
            ],
            "passed_time": 0.9574947362,
            "remaining_time": 7.659957889,
            "test": [
             0.8353099946
            ]
           },
           {
            "iteration": 1,
            "learn": [
             0.8350957176
            ],
            "parameters": [
             {
              "iterations": 300,
              "learning_rate": 0.3
             }
            ],
            "passed_time": 1.925108653,
            "remaining_time": 6.737880287,
            "test": [
             0.834579223
            ]
           },
           {
            "iteration": 2,
            "learn": [
             0.8300494519
            ],
            "parameters": [
             {
              "iterations": 300,
              "learning_rate": 0.5
             }
            ],
            "passed_time": 2.898810369,
            "remaining_time": 5.797620739,
            "test": [
             0.8377145277
            ]
           },
           {
            "iteration": 3,
            "learn": [
             0.844260494
            ],
            "parameters": [
             {
              "iterations": 500,
              "learning_rate": 0.1
             }
            ],
            "passed_time": 4.484823904,
            "remaining_time": 5.606029881,
            "test": [
             0.8353099946
            ]
           },
           {
            "iteration": 4,
            "learn": [
             0.828686513
            ],
            "parameters": [
             {
              "iterations": 500,
              "learning_rate": 0.3
             }
            ],
            "passed_time": 6.083989155,
            "remaining_time": 4.867191324,
            "test": [
             0.834579223
            ]
           },
           {
            "iteration": 5,
            "learn": [
             0.8242819617
            ],
            "parameters": [
             {
              "iterations": 500,
              "learning_rate": 0.5
             }
            ],
            "passed_time": 7.676114798,
            "remaining_time": 3.838057399,
            "test": [
             0.8377145277
            ]
           },
           {
            "iteration": 6,
            "learn": [
             0.8394808369
            ],
            "parameters": [
             {
              "iterations": 700,
              "learning_rate": 0.1
             }
            ],
            "passed_time": 9.90874779,
            "remaining_time": 2.831070797,
            "test": [
             0.8353099946
            ]
           },
           {
            "iteration": 7,
            "learn": [
             0.8255686005
            ],
            "parameters": [
             {
              "iterations": 700,
              "learning_rate": 0.3
             }
            ],
            "passed_time": 12.1254481,
            "remaining_time": 1.515681012,
            "test": [
             0.834579223
            ]
           },
           {
            "iteration": 8,
            "learn": [
             0.8212704201
            ],
            "parameters": [
             {
              "iterations": 700,
              "learning_rate": 0.5
             }
            ],
            "passed_time": 14.37281213,
            "remaining_time": 0,
            "test": [
             0.8377145277
            ]
           }
          ],
          "meta": {
           "iteration_count": 9,
           "launch_mode": "Train",
           "learn_metrics": [
            {
             "best_value": "Min",
             "name": "RMSE"
            }
           ],
           "learn_sets": [
            "learn"
           ],
           "name": "experiment",
           "parameters": "parameters",
           "test_metrics": [
            {
             "best_value": "Min",
             "name": "RMSE"
            }
           ],
           "test_sets": [
            "test"
           ]
          }
         },
         "passed_iterations": 8,
         "total_iterations": 9
        },
        "name": "catboost_info",
        "path": "catboost_info"
       }
      },
      "layout": "IPY_MODEL_284cad4f800f4f50a203102fc243b9d9"
     }
    }
   }
  }
 },
 "nbformat": 4,
 "nbformat_minor": 1
}
